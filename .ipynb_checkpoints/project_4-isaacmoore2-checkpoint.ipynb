{
 "cells": [
  {
   "cell_type": "markdown",
   "metadata": {
    "focus": false,
    "id": "69b9a648-bcc7-490d-9f9b-ea244d156bd6"
   },
   "source": [
    "# Web Scraping for Indeed.com & Predicting Salaries"
   ]
  },
  {
   "cell_type": "markdown",
   "metadata": {
    "focus": false,
    "id": "34681254-c802-462f-829d-8894d0772d08"
   },
   "source": [
    "In this project, we will practice two major skills: collecting data by scraping a website and then building a binary predictor with Logistic Regression.\n",
    "\n",
    "We are going to collect salary information on data science jobs in a variety of markets. Then using the location, title and summary of the job we will attempt to predict the salary of the job. For job posting sites, this would be extraordinarily useful. While most listings DO NOT come with salary information (as you will see in this exercise), being to able extrapolate or predict the expected salaries from other listings can help guide negotiations.\n",
    "\n",
    "Normally, we could use regression for this task; however, we will convert this problem into classification and use Logistic Regression.\n",
    "\n",
    "- Question: Why would we want this to be a classification problem?\n",
    "- Answer: While more precision may be better, there is a fair amount of natural variance in job salaries - predicting a range be may be useful.\n",
    "\n",
    "Therefore, the first part of the assignment will be focused on scraping Indeed.com. In the second, we'll focus on using listings with salary information to build a model and predict additional salaries."
   ]
  },
  {
   "cell_type": "markdown",
   "metadata": {
    "focus": false,
    "id": "a948d79c-5527-4c0d-ab23-f5d43ce72056"
   },
   "source": [
    "### Scraping job listings from Indeed.com"
   ]
  },
  {
   "cell_type": "markdown",
   "metadata": {
    "focus": true,
    "id": "7203e0c9-e437-4802-a6ad-7dc464f94436"
   },
   "source": [
    "We will be scraping job listings from Indeed.com using BeautifulSoup. Luckily, Indeed.com is a simple text page where we can easily find relevant entries.\n",
    "\n",
    "First, look at the source of an Indeed.com page: (http://www.indeed.com/jobs?q=data+scientist+%2420%2C000&l=New+York&start=10\")\n",
    "\n",
    "Notice, each job listing is underneath a `div` tag with a class name of `result`. We can use BeautifulSoup to extract those. "
   ]
  },
  {
   "cell_type": "markdown",
   "metadata": {
    "focus": false,
    "id": "9732c901-ae26-4160-8376-42e22dd327df"
   },
   "source": [
    "#### Setup a request (using `requests`) to the URL below. Use BeautifulSoup to parse the page and extract all results (HINT: Look for div tags with class name result)"
   ]
  },
  {
   "cell_type": "code",
   "execution_count": null,
   "metadata": {
    "collapsed": false,
    "focus": false,
    "id": "e915023e-6b0d-4982-af2a-b1e0355f4927"
   },
   "outputs": [],
   "source": [
    "URL = \"http://www.indeed.com/jobs?q=data+scientist+%2420%2C000&l=New+York&start=10\""
   ]
  },
  {
   "cell_type": "code",
   "execution_count": null,
   "metadata": {
    "collapsed": true,
    "focus": false,
    "id": "2efefc73-064a-482d-b3b5-ddf5508cb4ec"
   },
   "outputs": [],
   "source": [
    "import requests\n",
    "import bs4\n",
    "from bs4 import BeautifulSoup"
   ]
  },
  {
   "cell_type": "code",
   "execution_count": null,
   "metadata": {
    "collapsed": false,
    "focus": false,
    "id": "2c6752c4-7704-4c94-8bc0-6f13d2d0d570"
   },
   "outputs": [],
   "source": [
    "## YOUR CODE HERE\n",
    "r = requests.get(URL)"
   ]
  },
  {
   "cell_type": "code",
   "execution_count": null,
   "metadata": {
    "collapsed": false
   },
   "outputs": [],
   "source": [
    "r"
   ]
  },
  {
   "cell_type": "code",
   "execution_count": null,
   "metadata": {
    "collapsed": false
   },
   "outputs": [],
   "source": [
    "# Inconsistent indexing\n",
    "job2 = bs.select('a[itemprop=\"title\"]')\n",
    "job2[3].text"
   ]
  },
  {
   "cell_type": "markdown",
   "metadata": {
    "focus": false,
    "id": "bb0b866a-26a7-45e9-8084-5a0f90eb4b3e"
   },
   "source": [
    "Let's look at one result more closely. A single `result` looks like\n",
    "\n",
    "```\n",
    "<div class=\" row result\" data-jk=\"2480d203f7e97210\" data-tn-component=\"organicJob\" id=\"p_2480d203f7e97210\" itemscope=\"\" itemtype=\"http://schema.org/JobPosting\">\n",
    "<h2 class=\"jobtitle\" id=\"jl_2480d203f7e97210\">\n",
    "<a class=\"turnstileLink\" data-tn-element=\"jobTitle\" onmousedown=\"return rclk(this,jobmap[0],1);\" rel=\"nofollow\" target=\"_blank\" title=\"AVP/Quantitative Analyst\">AVP/Quantitative Analyst</a>\n",
    "</h2>\n",
    "<span class=\"company\" itemprop=\"hiringOrganization\" itemtype=\"http://schema.org/Organization\">\n",
    "<span itemprop=\"name\">\n",
    "<a href=\"/cmp/Alliancebernstein?from=SERP&amp;campaignid=serp-linkcompanyname&amp;fromjk=2480d203f7e97210&amp;jcid=b374f2a780e04789\" target=\"_blank\">\n",
    "    AllianceBernstein</a></span>\n",
    "</span>\n",
    "<tr>\n",
    "<td class=\"snip\">\n",
    "<nobr>$117,500 - $127,500 a year</nobr>\n",
    "<div>\n",
    "<span class=\"summary\" itemprop=\"description\">\n",
    "C onduct quantitative and statistical research as well as portfolio management for various investment portfolios. Collaborate with Quantitative Analysts and</span>\n",
    "</div>\n",
    "</div>\n",
    "</td>\n",
    "</tr>\n",
    "</table>\n",
    "</div>\n",
    "```\n",
    "\n",
    "While this has some more verbose elements removed, we can see that there is some structure to the above:\n",
    "- The salary is available in a `nobr` element inside of a `td` element with `class='snip`.\n",
    "- The title of a job is in a link with class set to `jobtitle` and a `data-tn-element=\"jobTitle`.  \n",
    "- The location is set in a `span` with `class='location'`. \n",
    "- The company is set in a `span` with `class='company'`. "
   ]
  },
  {
   "cell_type": "markdown",
   "metadata": {
    "focus": false,
    "id": "f1eddb90-4ba8-483c-a229-77e93aa53119"
   },
   "source": [
    "### Write 4 functions to extract each item: location, company, job, and salary.\n",
    "\n",
    "example: \n",
    "```python\n",
    "def extract_location_from_result(result):\n",
    "    return result.find ...\n",
    "```\n",
    "\n",
    "\n",
    "- Make sure these functions are robust and can handle cases where the data/field may not be available.\n",
    "- Test the functions on the results above"
   ]
  },
  {
   "cell_type": "code",
   "execution_count": null,
   "metadata": {
    "collapsed": false
   },
   "outputs": [],
   "source": [
    "bs = BeautifulSoup(r.text, 'lxml')"
   ]
  },
  {
   "cell_type": "markdown",
   "metadata": {},
   "source": [
    "#### Testing locations"
   ]
  },
  {
   "cell_type": "code",
   "execution_count": null,
   "metadata": {
    "collapsed": false
   },
   "outputs": [],
   "source": [
    "location = bs.select('span.location')\n",
    "location[3].text"
   ]
  },
  {
   "cell_type": "code",
   "execution_count": null,
   "metadata": {
    "collapsed": false
   },
   "outputs": [],
   "source": [
    "company =  bs.select('span.company')\n",
    "# company[3].text.strip()\n",
    "company = [i.text.strip() for i in company]\n",
    "company = pd.DataFrame(company)\n",
    "company.columns = ['company']\n",
    "company"
   ]
  },
  {
   "cell_type": "code",
   "execution_count": null,
   "metadata": {
    "collapsed": false
   },
   "outputs": [],
   "source": [
    "job = bs.select('a[data-tn-element=\"jobTitle\"]')\n",
    "# job[3].text\n",
    "job = pd.DataFrame([i.text for i in job])\n",
    "job.columns = ['job_title']\n",
    "job\n"
   ]
  },
  {
   "cell_type": "code",
   "execution_count": null,
   "metadata": {
    "collapsed": false
   },
   "outputs": [],
   "source": [
    "# salary = bs.select('p[id=\"univsrch-salary-currentsalary\"]')\n",
    "salary = bs.select('.sjcl div')\n",
    "salary[0].text.strip()\n",
    "# salary[0].text.strip()\n",
    "# .getText()\n"
   ]
  },
  {
   "cell_type": "code",
   "execution_count": null,
   "metadata": {
    "collapsed": true
   },
   "outputs": [],
   "source": [
    "# salary = bs.select('p[id=\"univsrch-salary-currentsalary\"]')\n",
    "salary = bs.select('.sjcl')\n",
    "salary[2].text.strip()\n",
    "# salary[0].text.strip()\n",
    "# .getText()"
   ]
  },
  {
   "cell_type": "code",
   "execution_count": null,
   "metadata": {
    "collapsed": false
   },
   "outputs": [],
   "source": [
    "for i in salary:\n",
    "    print i.text"
   ]
  },
  {
   "cell_type": "code",
   "execution_count": null,
   "metadata": {
    "collapsed": false
   },
   "outputs": [],
   "source": [
    "results = bs.findAll('div',{\"class\" : \"sjcl\"}, 'div')\n",
    "results[2]"
   ]
  },
  {
   "cell_type": "markdown",
   "metadata": {
    "focus": false,
    "id": "34070e89-9521-4b45-90c8-57a6599aac68"
   },
   "source": [
    "Now, to scale up our scraping, we need to accumulate more results. We can do this by examining the URL above.\n",
    "\n",
    "- \"http://www.indeed.com/jobs?q=data+scientist+%2420%2C000&l=New+York&start=10\"\n",
    "\n",
    "There are two query parameters here we can alter to collect more results, the `l=New+York` and the `start=10`. The first controls the location of the results (so we can try a different city). The second controls where in the results to start and gives 10 results (thus, we can keep incrementing by 10 to go further in the list)."
   ]
  },
  {
   "cell_type": "markdown",
   "metadata": {
    "focus": false,
    "id": "e8beed7c-3e42-40c0-810f-5f67f8f885a0"
   },
   "source": [
    "#### Complete the following code to collect results from multiple cities and starting points. \n",
    "- Enter your city below to add it to the search\n",
    "- Remember to convert your salary to U.S. Dollars to match the other cities if the currency is different"
   ]
  },
  {
   "cell_type": "raw",
   "metadata": {},
   "source": [
    "import requests\n",
    "import bs4\n",
    "from bs4 import BeautifulSoup\n",
    "import pandas as pd\n",
    "INDEED_URL_1='http://www.indeed.com/jobs?q=Data+Scientist&l='\n",
    "INDEED_URL='http://www.indeed.com/jobs?q=Data+Scientist&start='\n",
    "project4=pd.DataFrame(columns=['title','company','location','salary','description'])\n",
    "for i in range (1,4000):\n",
    "    if i==0:\n",
    "        print i\n",
    "        INDEED_URL=INDEED_URL_1\n",
    "        r=requests.get(INDEED_URL)\n",
    "        soup=BeautifulSoup(r.text,\"html\")\n",
    "        results=soup.findAll('div',{\"class\":\" row result\"})+soup.findAll('div',{\"class\":\"row result\"})\n",
    "        for result in results:\n",
    "            title=''\n",
    "            company=''\n",
    "            location=''\n",
    "            salary=''\n",
    "            description=''\n",
    "            try:\n",
    "                temp=result.select('h2.jobtitle')\n",
    "                title=temp[0].text.strip()\n",
    "            except:\n",
    "                pass\n",
    "            try:\n",
    "                temp=result.select('span.company')\n",
    "                company=temp[0].text.strip()\n",
    "            except:\n",
    "                pass\n",
    "            try:\n",
    "                temp=result.select('span.location')\n",
    "                location=temp[0].text.strip()\n",
    "            except:\n",
    "                pass\n",
    "            try:\n",
    "                temp=result.select('nobr')\n",
    "                salary=temp[0].text.strip()\n",
    "            except:\n",
    "                pass\n",
    "            try:\n",
    "                temp=result.select('span.summary')\n",
    "                description=temp[0].text.strip()\n",
    "            except:\n",
    "                pass\n",
    "            project4.loc[len(project4)]=[title,company,location,salary,description]            \n",
    "\n",
    "    else:\n",
    "#         if (i%100==0):\n",
    "        print i\n",
    "        unique_indeed_url=INDEED_URL+str(i*10)\n",
    "        r=requests.get(unique_indeed_url)\n",
    "        soup=BeautifulSoup(r.text,\"html\")\n",
    "        results=soup.findAll('div',{\"class\":\" row result\"})+soup.findAll('div',{\"class\":\"row result\"})\n",
    "        for result in results:\n",
    "            title=''\n",
    "            company=''\n",
    "            location=''\n",
    "            salary=''\n",
    "            description=''\n",
    "            try:\n",
    "                temp=result.select('h2.jobtitle')\n",
    "                title=temp[0].text.strip()\n",
    "            except:\n",
    "                pass\n",
    "            try:\n",
    "                temp=result.select('span.company')\n",
    "                company=temp[0].text.strip()\n",
    "            except:\n",
    "                pass\n",
    "            try:\n",
    "                temp=result.select('span.location')\n",
    "                location=temp[0].text.strip()\n",
    "            except:\n",
    "                pass\n",
    "            try:\n",
    "                temp=result.select('nobr')\n",
    "                salary=temp[0].text.strip()\n",
    "            except:\n",
    "                pass\n",
    "            try:\n",
    "                temp=result.select('span.summary')\n",
    "                description=temp[0].text.strip()\n",
    "            except:\n",
    "                pass\n",
    "            project4.loc[len(project4)]=[title,company,location,salary,description]            \n",
    "        "
   ]
  },
  {
   "cell_type": "raw",
   "metadata": {},
   "source": [
    "del project4['Unnamed: 0.1']"
   ]
  },
  {
   "cell_type": "raw",
   "metadata": {},
   "source": [
    "len(project4.description.unique())"
   ]
  },
  {
   "cell_type": "raw",
   "metadata": {},
   "source": [
    "project4.company.value_counts()"
   ]
  },
  {
   "cell_type": "raw",
   "metadata": {},
   "source": [
    "project4 = project4.drop_duplicates('description')\n",
    "project4.shape"
   ]
  },
  {
   "cell_type": "raw",
   "metadata": {},
   "source": [
    "len(project4.salary.value_counts())"
   ]
  },
  {
   "cell_type": "raw",
   "metadata": {},
   "source": [
    "temp_State=test['location'].values\n",
    "\n",
    "for j in range(0,len(temp_State)):\n",
    "    z=temp_State[j]\n",
    "    for i in range(0,len(z)):\n",
    "        if z[i]==',':\n",
    "            loc=i\n",
    "    temp_State[j]=z[loc+2:loc+4]       \n",
    "\n",
    "print temp_State\n",
    "test['state'] = temp_State"
   ]
  },
  {
   "cell_type": "raw",
   "metadata": {},
   "source": [
    "def Number_Splitter(number):\n",
    "    number_str=list(str(number))\n",
    "    number_1=''\n",
    "    number_2=''\n",
    "    i=len(number_str)/2\n",
    "    for j in range(0,i):\n",
    "        number_1+=number_str[j]\n",
    "    for j in range(i,len(number_str)):\n",
    "        number_2+=number_str[j]                \n",
    "    num_out=0.5*(int(number_1)+int(number_2))\n",
    "    return num_out\n",
    "\n",
    "for i in range(0,len(X)):\n",
    "    if X[i]>10000000:\n",
    "        X[i]=Number_Splitter(X[i])\n",
    "    # Fix the Hourly (Single)\n",
    "    if X[i]<300:\n",
    "        X[i]=2000*X[i]\n",
    "    # Fix the Month (Single)\n",
    "    if (X[i]<40000 and X[i]>1000):\n",
    "        X[i]=12*X[i]\n",
    "        \n",
    "temp_cat=[]      \n",
    "for i in range(0,len(X)):\n",
    "    t='nan'\n",
    "    if (X[i]<100000):\n",
    "        t=0\n",
    "    if (X[i]>=100000 and X[i]<150000): \n",
    "        t=1\n",
    "    if (X[i]>=150000): \n",
    "        t=2\n",
    "    temp_cat.append(t)\n",
    "        \n",
    "test['salary_cat'] = temp_cat "
   ]
  },
  {
   "cell_type": "raw",
   "metadata": {},
   "source": [
    "temp_state_bin = []\n",
    "for i in test['state']:\n",
    "        if i == 'NY':\n",
    "            temp_state_bin.append(1)\n",
    "        elif i == 'CA':\n",
    "            temp_state_bin.append(1)\n",
    "        else:\n",
    "            temp_state_bin.append(0)\n",
    "print temp_state_bin\n",
    "test['state_bin'] = temp_state_bin"
   ]
  },
  {
   "cell_type": "raw",
   "metadata": {},
   "source": [
    "test['state_bin'] = temp_state_bin"
   ]
  },
  {
   "cell_type": "raw",
   "metadata": {},
   "source": [
    "test['python'] = test['description'].apply(lambda x: 1 if ('python' or 'Python') in x else 0)\n",
    "test['phd'] = test['description'].apply(lambda x: 1 if ('phd' or 'PhD') in x else 0)"
   ]
  },
  {
   "cell_type": "raw",
   "metadata": {},
   "source": [
    "print test['python'].sum()\n",
    "print test['phd'].sum()"
   ]
  },
  {
   "cell_type": "raw",
   "metadata": {},
   "source": [
    "project4.to_csv('indeed_scrape_proj4.csv', encoding='utf-8')"
   ]
  },
  {
   "cell_type": "markdown",
   "metadata": {},
   "source": [
    "### The scraped data was only 2% of the example provided dataset. "
   ]
  },
  {
   "cell_type": "markdown",
   "metadata": {},
   "source": [
    "# Data Analysis\n",
    "For my data analysis, I will be using the example provided dataset, since the data that was scrpaed is only 2% of the example provided dataset."
   ]
  },
  {
   "cell_type": "code",
   "execution_count": 1,
   "metadata": {
    "collapsed": true
   },
   "outputs": [],
   "source": [
    "import pandas as pd\n",
    "import numpy as np\n",
    "import matplotlib.pyplot as plt\n",
    "import seaborn as sns\n",
    "%matplotlib inline"
   ]
  },
  {
   "cell_type": "markdown",
   "metadata": {
    "focus": false,
    "id": "04563b69-f7b6-466f-9d65-fc62c9ddee6a"
   },
   "source": [
    "### Predicting salaries using Logistic Regression"
   ]
  },
  {
   "cell_type": "markdown",
   "metadata": {
    "focus": false,
    "id": "243e949e-2742-40af-872e-fec475fd306c"
   },
   "source": [
    "##### Load in the the data of scraped salaries"
   ]
  },
  {
   "cell_type": "code",
   "execution_count": 2,
   "metadata": {
    "collapsed": false
   },
   "outputs": [
    {
     "data": {
      "text/html": [
       "<div>\n",
       "<table border=\"1\" class=\"dataframe\">\n",
       "  <thead>\n",
       "    <tr style=\"text-align: right;\">\n",
       "      <th></th>\n",
       "      <th>city</th>\n",
       "      <th>company</th>\n",
       "      <th>salary</th>\n",
       "      <th>summary</th>\n",
       "      <th>title</th>\n",
       "      <th>parsed_salary</th>\n",
       "    </tr>\n",
       "  </thead>\n",
       "  <tbody>\n",
       "    <tr>\n",
       "      <th>0</th>\n",
       "      <td>San+Francisco</td>\n",
       "      <td>MarkMonitor</td>\n",
       "      <td>$180,000 a year</td>\n",
       "      <td>Data skills (SQL, Hive, Pig). Applying machine...</td>\n",
       "      <td>Data Scientist</td>\n",
       "      <td>180000</td>\n",
       "    </tr>\n",
       "    <tr>\n",
       "      <th>1</th>\n",
       "      <td>San+Francisco</td>\n",
       "      <td>Workbridge Associates</td>\n",
       "      <td>$130,000 - $180,000 a year</td>\n",
       "      <td>3+ years of industry experience in a data scie...</td>\n",
       "      <td>Senior Data Scientist</td>\n",
       "      <td>155000</td>\n",
       "    </tr>\n",
       "    <tr>\n",
       "      <th>2</th>\n",
       "      <td>San+Francisco</td>\n",
       "      <td>Mines.io</td>\n",
       "      <td>$80,000 - $120,000 a year</td>\n",
       "      <td>We are looking for a data scientist/developer ...</td>\n",
       "      <td>Full-Stack Data Scientist</td>\n",
       "      <td>100000</td>\n",
       "    </tr>\n",
       "    <tr>\n",
       "      <th>3</th>\n",
       "      <td>San+Francisco</td>\n",
       "      <td>Workbridge Associates</td>\n",
       "      <td>$150,000 - $180,000 a year</td>\n",
       "      <td>In this position you will share programming an...</td>\n",
       "      <td>Data Scientist</td>\n",
       "      <td>165000</td>\n",
       "    </tr>\n",
       "    <tr>\n",
       "      <th>4</th>\n",
       "      <td>San+Francisco</td>\n",
       "      <td>Smith Hanley Associates</td>\n",
       "      <td>$140,000 a year</td>\n",
       "      <td>This person will recruit, build and lead a tea...</td>\n",
       "      <td>Data Scientist</td>\n",
       "      <td>140000</td>\n",
       "    </tr>\n",
       "  </tbody>\n",
       "</table>\n",
       "</div>"
      ],
      "text/plain": [
       "            city                  company                      salary  \\\n",
       "0  San+Francisco              MarkMonitor             $180,000 a year   \n",
       "1  San+Francisco    Workbridge Associates  $130,000 - $180,000 a year   \n",
       "2  San+Francisco                 Mines.io   $80,000 - $120,000 a year   \n",
       "3  San+Francisco    Workbridge Associates  $150,000 - $180,000 a year   \n",
       "4  San+Francisco  Smith Hanley Associates             $140,000 a year   \n",
       "\n",
       "                                             summary  \\\n",
       "0  Data skills (SQL, Hive, Pig). Applying machine...   \n",
       "1  3+ years of industry experience in a data scie...   \n",
       "2  We are looking for a data scientist/developer ...   \n",
       "3  In this position you will share programming an...   \n",
       "4  This person will recruit, build and lead a tea...   \n",
       "\n",
       "                       title  parsed_salary  \n",
       "0             Data Scientist         180000  \n",
       "1      Senior Data Scientist         155000  \n",
       "2  Full-Stack Data Scientist         100000  \n",
       "3             Data Scientist         165000  \n",
       "4             Data Scientist         140000  "
      ]
     },
     "execution_count": 2,
     "metadata": {},
     "output_type": "execute_result"
    }
   ],
   "source": [
    "data = pd.read_csv('indeed-scraped-job-postings.csv')\n",
    "data.head()"
   ]
  },
  {
   "cell_type": "markdown",
   "metadata": {},
   "source": [
    "##### Creating a copy of the data frame"
   ]
  },
  {
   "cell_type": "code",
   "execution_count": 3,
   "metadata": {
    "collapsed": true
   },
   "outputs": [],
   "source": [
    "df = data"
   ]
  },
  {
   "cell_type": "code",
   "execution_count": 4,
   "metadata": {
    "collapsed": false
   },
   "outputs": [
    {
     "data": {
      "text/html": [
       "<div>\n",
       "<table border=\"1\" class=\"dataframe\">\n",
       "  <thead>\n",
       "    <tr style=\"text-align: right;\">\n",
       "      <th></th>\n",
       "      <th>city</th>\n",
       "      <th>company</th>\n",
       "      <th>salary</th>\n",
       "      <th>summary</th>\n",
       "      <th>title</th>\n",
       "      <th>parsed_salary</th>\n",
       "    </tr>\n",
       "  </thead>\n",
       "  <tbody>\n",
       "    <tr>\n",
       "      <th>0</th>\n",
       "      <td>San+Francisco</td>\n",
       "      <td>MarkMonitor</td>\n",
       "      <td>$180,000 a year</td>\n",
       "      <td>Data skills (SQL, Hive, Pig). Applying machine...</td>\n",
       "      <td>Data Scientist</td>\n",
       "      <td>180000</td>\n",
       "    </tr>\n",
       "    <tr>\n",
       "      <th>1</th>\n",
       "      <td>San+Francisco</td>\n",
       "      <td>Workbridge Associates</td>\n",
       "      <td>$130,000 - $180,000 a year</td>\n",
       "      <td>3+ years of industry experience in a data scie...</td>\n",
       "      <td>Senior Data Scientist</td>\n",
       "      <td>155000</td>\n",
       "    </tr>\n",
       "    <tr>\n",
       "      <th>2</th>\n",
       "      <td>San+Francisco</td>\n",
       "      <td>Mines.io</td>\n",
       "      <td>$80,000 - $120,000 a year</td>\n",
       "      <td>We are looking for a data scientist/developer ...</td>\n",
       "      <td>Full-Stack Data Scientist</td>\n",
       "      <td>100000</td>\n",
       "    </tr>\n",
       "    <tr>\n",
       "      <th>3</th>\n",
       "      <td>San+Francisco</td>\n",
       "      <td>Workbridge Associates</td>\n",
       "      <td>$150,000 - $180,000 a year</td>\n",
       "      <td>In this position you will share programming an...</td>\n",
       "      <td>Data Scientist</td>\n",
       "      <td>165000</td>\n",
       "    </tr>\n",
       "    <tr>\n",
       "      <th>4</th>\n",
       "      <td>San+Francisco</td>\n",
       "      <td>Smith Hanley Associates</td>\n",
       "      <td>$140,000 a year</td>\n",
       "      <td>This person will recruit, build and lead a tea...</td>\n",
       "      <td>Data Scientist</td>\n",
       "      <td>140000</td>\n",
       "    </tr>\n",
       "  </tbody>\n",
       "</table>\n",
       "</div>"
      ],
      "text/plain": [
       "            city                  company                      salary  \\\n",
       "0  San+Francisco              MarkMonitor             $180,000 a year   \n",
       "1  San+Francisco    Workbridge Associates  $130,000 - $180,000 a year   \n",
       "2  San+Francisco                 Mines.io   $80,000 - $120,000 a year   \n",
       "3  San+Francisco    Workbridge Associates  $150,000 - $180,000 a year   \n",
       "4  San+Francisco  Smith Hanley Associates             $140,000 a year   \n",
       "\n",
       "                                             summary  \\\n",
       "0  Data skills (SQL, Hive, Pig). Applying machine...   \n",
       "1  3+ years of industry experience in a data scie...   \n",
       "2  We are looking for a data scientist/developer ...   \n",
       "3  In this position you will share programming an...   \n",
       "4  This person will recruit, build and lead a tea...   \n",
       "\n",
       "                       title  parsed_salary  \n",
       "0             Data Scientist         180000  \n",
       "1      Senior Data Scientist         155000  \n",
       "2  Full-Stack Data Scientist         100000  \n",
       "3             Data Scientist         165000  \n",
       "4             Data Scientist         140000  "
      ]
     },
     "execution_count": 4,
     "metadata": {},
     "output_type": "execute_result"
    }
   ],
   "source": [
    "df.head()"
   ]
  },
  {
   "cell_type": "code",
   "execution_count": 5,
   "metadata": {
    "collapsed": false
   },
   "outputs": [
    {
     "data": {
      "text/plain": [
       "(4791, 6)"
      ]
     },
     "execution_count": 5,
     "metadata": {},
     "output_type": "execute_result"
    }
   ],
   "source": [
    "df.shape"
   ]
  },
  {
   "cell_type": "code",
   "execution_count": 69,
   "metadata": {
    "collapsed": false
   },
   "outputs": [
    {
     "name": "stdout",
     "output_type": "stream",
     "text": [
      "               parsed_salary  annual_salary  above_median       mgr    python\n",
      "city                                                                         \n",
      "Austin          17601.659828   71941.290563      0.263335  0.147706  0.000000\n",
      "Chicago        127431.473191  127431.473191      0.664681  0.982128  0.334468\n",
      "New+York       139601.542141  139601.542141      0.873016  0.814059  0.009070\n",
      "San+Francisco  137589.797531  137866.834568      0.980247  0.920988  0.004938\n",
      "Seattle         33968.235955   71005.792135      0.191011  0.067416  0.000000\n",
      "               parsed_salary  annual_salary  above_median       mgr    python\n",
      "parsed_salary       1.000000       0.992857      0.952231  0.965938  0.358213\n",
      "annual_salary       0.992857       1.000000      0.974817  0.965038  0.307323\n",
      "above_median        0.952231       0.974817      1.000000  0.915897  0.132835\n",
      "mgr                 0.965938       0.965038      0.915897  1.000000  0.519507\n",
      "python              0.358213       0.307323      0.132835  0.519507  1.000000\n"
     ]
    }
   ],
   "source": [
    "mean_cities = df.groupby('city').mean()\n",
    "mean_cities_corr = mean_cities.corr()\n",
    "print mean_cities\n",
    "print mean_cities_corr"
   ]
  },
  {
   "cell_type": "code",
   "execution_count": 70,
   "metadata": {
    "collapsed": false
   },
   "outputs": [
    {
     "data": {
      "text/plain": [
       "<matplotlib.axes._subplots.AxesSubplot at 0x1185c6ad0>"
      ]
     },
     "execution_count": 70,
     "metadata": {},
     "output_type": "execute_result"
    },
    {
     "data": {
      "image/png": "[encoded data removed]",
      "text/plain": [
       "<matplotlib.figure.Figure at 0x119b56590>"
      ]
     },
     "metadata": {},
     "output_type": "display_data"
    }
   ],
   "source": [
    "sns.heatmap(mean_cities_corr)"
   ]
  },
  {
   "cell_type": "code",
   "execution_count": 8,
   "metadata": {
    "collapsed": false
   },
   "outputs": [
    {
     "data": {
      "text/html": [
       "<div>\n",
       "<table border=\"1\" class=\"dataframe\">\n",
       "  <thead>\n",
       "    <tr style=\"text-align: right;\">\n",
       "      <th></th>\n",
       "      <th>parsed_salary</th>\n",
       "    </tr>\n",
       "    <tr>\n",
       "      <th>city</th>\n",
       "      <th></th>\n",
       "    </tr>\n",
       "  </thead>\n",
       "  <tbody>\n",
       "    <tr>\n",
       "      <th>Austin</th>\n",
       "      <td>17601.659828</td>\n",
       "    </tr>\n",
       "    <tr>\n",
       "      <th>Chicago</th>\n",
       "      <td>127431.473191</td>\n",
       "    </tr>\n",
       "    <tr>\n",
       "      <th>New+York</th>\n",
       "      <td>139601.542141</td>\n",
       "    </tr>\n",
       "    <tr>\n",
       "      <th>San+Francisco</th>\n",
       "      <td>137589.797531</td>\n",
       "    </tr>\n",
       "    <tr>\n",
       "      <th>Seattle</th>\n",
       "      <td>33968.235955</td>\n",
       "    </tr>\n",
       "  </tbody>\n",
       "</table>\n",
       "</div>"
      ],
      "text/plain": [
       "               parsed_salary\n",
       "city                        \n",
       "Austin          17601.659828\n",
       "Chicago        127431.473191\n",
       "New+York       139601.542141\n",
       "San+Francisco  137589.797531\n",
       "Seattle         33968.235955"
      ]
     },
     "execution_count": 8,
     "metadata": {},
     "output_type": "execute_result"
    }
   ],
   "source": [
    "avg_salary = pd.DataFrame(pd.pivot_table(data=df, index='city', values='parsed_salary', aggfunc=np.mean))\n",
    "avg_salary"
   ]
  },
  {
   "cell_type": "code",
   "execution_count": 9,
   "metadata": {
    "collapsed": false
   },
   "outputs": [
    {
     "data": {
      "text/plain": [
       "<matplotlib.axes._subplots.AxesSubplot at 0x1031eb910>"
      ]
     },
     "execution_count": 9,
     "metadata": {},
     "output_type": "execute_result"
    },
    {
     "data": {
      "image/png": "[encoded data removed]",
      "text/plain": [
       "<matplotlib.figure.Figure at 0x116c41390>"
      ]
     },
     "metadata": {},
     "output_type": "display_data"
    }
   ],
   "source": [
    "sns.barplot(data=avg_salary, x='parsed_salary', y=avg_salary.index)"
   ]
  },
  {
   "cell_type": "code",
   "execution_count": 10,
   "metadata": {
    "collapsed": false
   },
   "outputs": [
    {
     "data": {
      "text/plain": [
       "<matplotlib.axes._subplots.AxesSubplot at 0x117042110>"
      ]
     },
     "execution_count": 10,
     "metadata": {},
     "output_type": "execute_result"
    },
    {
     "data": {
      "image/png": "[encoded data removed]",
      "text/plain": [
       "<matplotlib.figure.Figure at 0x11705dc10>"
      ]
     },
     "metadata": {},
     "output_type": "display_data"
    }
   ],
   "source": [
    "sns.boxplot(data=df, x='city', y='parsed_salary')"
   ]
  },
  {
   "cell_type": "code",
   "execution_count": 11,
   "metadata": {
    "collapsed": false
   },
   "outputs": [
    {
     "data": {
      "text/plain": [
       "5950.0      788\n",
       "3210.0      783\n",
       "8541.5      699\n",
       "85000.0     392\n",
       "8124.5        3\n",
       "6806.0        2\n",
       "2333.0        2\n",
       "35000.0       2\n",
       "4459.0        1\n",
       "41000.0       1\n",
       "8333.0        1\n",
       "160000.0      1\n",
       "65000.0       1\n",
       "4714.0        1\n",
       "140000.0      1\n",
       "6388.0        1\n",
       "150000.0      1\n",
       "4966.0        1\n",
       "Name: parsed_salary, dtype: int64"
      ]
     },
     "execution_count": 11,
     "metadata": {},
     "output_type": "execute_result"
    }
   ],
   "source": [
    "austin = df[ df['city'] == 'Austin' ]\n",
    "austin.parsed_salary.value_counts()"
   ]
  },
  {
   "cell_type": "markdown",
   "metadata": {},
   "source": [
    "Most likely **Monthly** salaries"
   ]
  },
  {
   "cell_type": "code",
   "execution_count": 12,
   "metadata": {
    "collapsed": false
   },
   "outputs": [
    {
     "data": {
      "text/html": [
       "<div>\n",
       "<table border=\"1\" class=\"dataframe\">\n",
       "  <thead>\n",
       "    <tr style=\"text-align: right;\">\n",
       "      <th></th>\n",
       "      <th>city</th>\n",
       "      <th>company</th>\n",
       "      <th>salary</th>\n",
       "      <th>summary</th>\n",
       "      <th>title</th>\n",
       "      <th>parsed_salary</th>\n",
       "    </tr>\n",
       "  </thead>\n",
       "  <tbody>\n",
       "    <tr>\n",
       "      <th>852</th>\n",
       "      <td>Austin</td>\n",
       "      <td>University of Texas at Austin</td>\n",
       "      <td>$5,400 - $6,500 a month</td>\n",
       "      <td>Experience with processing and analyzing GNSS ...</td>\n",
       "      <td>Engineering Scientist Associate - GNSS Analyst...</td>\n",
       "      <td>5950</td>\n",
       "    </tr>\n",
       "    <tr>\n",
       "      <th>854</th>\n",
       "      <td>Austin</td>\n",
       "      <td>University of Texas at Austin</td>\n",
       "      <td>$5,400 - $6,500 a month</td>\n",
       "      <td>Data analysis for space weather remediation. D...</td>\n",
       "      <td>Engineering Scientist Associate - R and D Soft...</td>\n",
       "      <td>5950</td>\n",
       "    </tr>\n",
       "    <tr>\n",
       "      <th>862</th>\n",
       "      <td>Austin</td>\n",
       "      <td>University of Texas at Austin</td>\n",
       "      <td>$5,400 - $6,500 a month</td>\n",
       "      <td>Demonstrated ability related to data acquisiti...</td>\n",
       "      <td>Engineering Scientist Associate - Underwater R...</td>\n",
       "      <td>5950</td>\n",
       "    </tr>\n",
       "    <tr>\n",
       "      <th>866</th>\n",
       "      <td>Austin</td>\n",
       "      <td>University of Texas at Austin</td>\n",
       "      <td>$5,400 - $6,500 a month</td>\n",
       "      <td>Demonstrated ability related to data acquisiti...</td>\n",
       "      <td>Engineering Scientist Associate - Underwater R...</td>\n",
       "      <td>5950</td>\n",
       "    </tr>\n",
       "    <tr>\n",
       "      <th>875</th>\n",
       "      <td>Austin</td>\n",
       "      <td>University of Texas at Austin</td>\n",
       "      <td>$5,400 - $6,500 a month</td>\n",
       "      <td>Experience with digital data distribution tech...</td>\n",
       "      <td>Engineering Scientist Associate - Software Def...</td>\n",
       "      <td>5950</td>\n",
       "    </tr>\n",
       "    <tr>\n",
       "      <th>878</th>\n",
       "      <td>Austin</td>\n",
       "      <td>University of Texas at Austin</td>\n",
       "      <td>$5,400 - $6,500 a month</td>\n",
       "      <td>Experience with digital data distribution tech...</td>\n",
       "      <td>Engineering Scientist Associate - Software Def...</td>\n",
       "      <td>5950</td>\n",
       "    </tr>\n",
       "    <tr>\n",
       "      <th>881</th>\n",
       "      <td>Austin</td>\n",
       "      <td>University of Texas at Austin</td>\n",
       "      <td>$5,400 - $6,500 a month</td>\n",
       "      <td>Experience with digital data distribution tech...</td>\n",
       "      <td>Engineering Scientist Associate - Software Def...</td>\n",
       "      <td>5950</td>\n",
       "    </tr>\n",
       "    <tr>\n",
       "      <th>884</th>\n",
       "      <td>Austin</td>\n",
       "      <td>University of Texas at Austin</td>\n",
       "      <td>$5,400 - $6,500 a month</td>\n",
       "      <td>Experience with digital data distribution tech...</td>\n",
       "      <td>Engineering Scientist Associate - Software Def...</td>\n",
       "      <td>5950</td>\n",
       "    </tr>\n",
       "    <tr>\n",
       "      <th>888</th>\n",
       "      <td>Austin</td>\n",
       "      <td>University of Texas at Austin</td>\n",
       "      <td>$5,400 - $6,500 a month</td>\n",
       "      <td>Thorough understanding of object-oriented prog...</td>\n",
       "      <td>Engineering Scientist Associate - Software Eng...</td>\n",
       "      <td>5950</td>\n",
       "    </tr>\n",
       "    <tr>\n",
       "      <th>891</th>\n",
       "      <td>Austin</td>\n",
       "      <td>University of Texas at Austin</td>\n",
       "      <td>$5,400 - $6,500 a month</td>\n",
       "      <td>Thorough understanding of object-oriented prog...</td>\n",
       "      <td>Engineering Scientist Associate - Software Eng...</td>\n",
       "      <td>5950</td>\n",
       "    </tr>\n",
       "    <tr>\n",
       "      <th>893</th>\n",
       "      <td>Austin</td>\n",
       "      <td>University of Texas at Austin</td>\n",
       "      <td>$5,400 - $6,500 a month</td>\n",
       "      <td>Experience with digital data distribution tech...</td>\n",
       "      <td>Engineering Scientist Associate - Software Def...</td>\n",
       "      <td>5950</td>\n",
       "    </tr>\n",
       "    <tr>\n",
       "      <th>897</th>\n",
       "      <td>Austin</td>\n",
       "      <td>University of Texas at Austin</td>\n",
       "      <td>$5,400 - $6,500 a month</td>\n",
       "      <td>Thorough understanding of object-oriented prog...</td>\n",
       "      <td>Engineering Scientist Associate - Software Eng...</td>\n",
       "      <td>5950</td>\n",
       "    </tr>\n",
       "    <tr>\n",
       "      <th>899</th>\n",
       "      <td>Austin</td>\n",
       "      <td>University of Texas at Austin</td>\n",
       "      <td>$5,400 - $6,500 a month</td>\n",
       "      <td>Experience with digital data distribution tech...</td>\n",
       "      <td>Engineering Scientist Associate - Software Def...</td>\n",
       "      <td>5950</td>\n",
       "    </tr>\n",
       "    <tr>\n",
       "      <th>902</th>\n",
       "      <td>Austin</td>\n",
       "      <td>University of Texas at Austin</td>\n",
       "      <td>$5,400 - $6,500 a month</td>\n",
       "      <td>Experience with digital data distribution tech...</td>\n",
       "      <td>Engineering Scientist Associate - Software Def...</td>\n",
       "      <td>5950</td>\n",
       "    </tr>\n",
       "    <tr>\n",
       "      <th>905</th>\n",
       "      <td>Austin</td>\n",
       "      <td>University of Texas at Austin</td>\n",
       "      <td>$5,400 - $6,500 a month</td>\n",
       "      <td>Experience with digital data distribution tech...</td>\n",
       "      <td>Engineering Scientist Associate - Software Def...</td>\n",
       "      <td>5950</td>\n",
       "    </tr>\n",
       "    <tr>\n",
       "      <th>908</th>\n",
       "      <td>Austin</td>\n",
       "      <td>University of Texas at Austin</td>\n",
       "      <td>$5,400 - $6,500 a month</td>\n",
       "      <td>Experience with digital data distribution tech...</td>\n",
       "      <td>Engineering Scientist Associate - Software Def...</td>\n",
       "      <td>5950</td>\n",
       "    </tr>\n",
       "    <tr>\n",
       "      <th>911</th>\n",
       "      <td>Austin</td>\n",
       "      <td>University of Texas at Austin</td>\n",
       "      <td>$5,400 - $6,500 a month</td>\n",
       "      <td>Experience with digital data distribution tech...</td>\n",
       "      <td>Engineering Scientist Associate - Software Def...</td>\n",
       "      <td>5950</td>\n",
       "    </tr>\n",
       "    <tr>\n",
       "      <th>915</th>\n",
       "      <td>Austin</td>\n",
       "      <td>University of Texas at Austin</td>\n",
       "      <td>$5,400 - $6,500 a month</td>\n",
       "      <td>Thorough understanding of object-oriented prog...</td>\n",
       "      <td>Engineering Scientist Associate - Software Eng...</td>\n",
       "      <td>5950</td>\n",
       "    </tr>\n",
       "    <tr>\n",
       "      <th>918</th>\n",
       "      <td>Austin</td>\n",
       "      <td>University of Texas at Austin</td>\n",
       "      <td>$5,400 - $6,500 a month</td>\n",
       "      <td>Thorough understanding of object-oriented prog...</td>\n",
       "      <td>Engineering Scientist Associate - Software Eng...</td>\n",
       "      <td>5950</td>\n",
       "    </tr>\n",
       "    <tr>\n",
       "      <th>920</th>\n",
       "      <td>Austin</td>\n",
       "      <td>University of Texas at Austin</td>\n",
       "      <td>$5,400 - $6,500 a month</td>\n",
       "      <td>Experience with digital data distribution tech...</td>\n",
       "      <td>Engineering Scientist Associate - Software Def...</td>\n",
       "      <td>5950</td>\n",
       "    </tr>\n",
       "    <tr>\n",
       "      <th>924</th>\n",
       "      <td>Austin</td>\n",
       "      <td>University of Texas at Austin</td>\n",
       "      <td>$5,400 - $6,500 a month</td>\n",
       "      <td>Thorough understanding of object-oriented prog...</td>\n",
       "      <td>Engineering Scientist Associate - Software Eng...</td>\n",
       "      <td>5950</td>\n",
       "    </tr>\n",
       "    <tr>\n",
       "      <th>926</th>\n",
       "      <td>Austin</td>\n",
       "      <td>University of Texas at Austin</td>\n",
       "      <td>$5,400 - $6,500 a month</td>\n",
       "      <td>Experience with digital data distribution tech...</td>\n",
       "      <td>Engineering Scientist Associate - Software Def...</td>\n",
       "      <td>5950</td>\n",
       "    </tr>\n",
       "    <tr>\n",
       "      <th>931</th>\n",
       "      <td>Austin</td>\n",
       "      <td>University of Texas at Austin</td>\n",
       "      <td>$5,400 - $6,500 a month</td>\n",
       "      <td>Thorough understanding of object-oriented prog...</td>\n",
       "      <td>Engineering Scientist Associate - Software Eng...</td>\n",
       "      <td>5950</td>\n",
       "    </tr>\n",
       "    <tr>\n",
       "      <th>933</th>\n",
       "      <td>Austin</td>\n",
       "      <td>University of Texas at Austin</td>\n",
       "      <td>$5,400 - $6,500 a month</td>\n",
       "      <td>Experience with digital data distribution tech...</td>\n",
       "      <td>Engineering Scientist Associate - Software Def...</td>\n",
       "      <td>5950</td>\n",
       "    </tr>\n",
       "    <tr>\n",
       "      <th>936</th>\n",
       "      <td>Austin</td>\n",
       "      <td>University of Texas at Austin</td>\n",
       "      <td>$5,400 - $6,500 a month</td>\n",
       "      <td>Experience with digital data distribution tech...</td>\n",
       "      <td>Engineering Scientist Associate - Software Def...</td>\n",
       "      <td>5950</td>\n",
       "    </tr>\n",
       "    <tr>\n",
       "      <th>939</th>\n",
       "      <td>Austin</td>\n",
       "      <td>University of Texas at Austin</td>\n",
       "      <td>$5,400 - $6,500 a month</td>\n",
       "      <td>Experience with digital data distribution tech...</td>\n",
       "      <td>Engineering Scientist Associate - Software Def...</td>\n",
       "      <td>5950</td>\n",
       "    </tr>\n",
       "    <tr>\n",
       "      <th>943</th>\n",
       "      <td>Austin</td>\n",
       "      <td>University of Texas at Austin</td>\n",
       "      <td>$5,400 - $6,500 a month</td>\n",
       "      <td>Thorough understanding of object-oriented prog...</td>\n",
       "      <td>Engineering Scientist Associate - Software Eng...</td>\n",
       "      <td>5950</td>\n",
       "    </tr>\n",
       "    <tr>\n",
       "      <th>945</th>\n",
       "      <td>Austin</td>\n",
       "      <td>University of Texas at Austin</td>\n",
       "      <td>$5,400 - $6,500 a month</td>\n",
       "      <td>Experience with digital data distribution tech...</td>\n",
       "      <td>Engineering Scientist Associate - Software Def...</td>\n",
       "      <td>5950</td>\n",
       "    </tr>\n",
       "    <tr>\n",
       "      <th>949</th>\n",
       "      <td>Austin</td>\n",
       "      <td>University of Texas at Austin</td>\n",
       "      <td>$5,400 - $6,500 a month</td>\n",
       "      <td>Thorough understanding of object-oriented prog...</td>\n",
       "      <td>Engineering Scientist Associate - Software Eng...</td>\n",
       "      <td>5950</td>\n",
       "    </tr>\n",
       "    <tr>\n",
       "      <th>951</th>\n",
       "      <td>Austin</td>\n",
       "      <td>University of Texas at Austin</td>\n",
       "      <td>$5,400 - $6,500 a month</td>\n",
       "      <td>Experience with digital data distribution tech...</td>\n",
       "      <td>Engineering Scientist Associate - Software Def...</td>\n",
       "      <td>5950</td>\n",
       "    </tr>\n",
       "    <tr>\n",
       "      <th>...</th>\n",
       "      <td>...</td>\n",
       "      <td>...</td>\n",
       "      <td>...</td>\n",
       "      <td>...</td>\n",
       "      <td>...</td>\n",
       "      <td>...</td>\n",
       "    </tr>\n",
       "    <tr>\n",
       "      <th>3436</th>\n",
       "      <td>Austin</td>\n",
       "      <td>University of Texas at Austin</td>\n",
       "      <td>$5,400 - $6,500 a month</td>\n",
       "      <td>Thorough understanding of object-oriented prog...</td>\n",
       "      <td>Engineering Scientist Associate - Software Eng...</td>\n",
       "      <td>5950</td>\n",
       "    </tr>\n",
       "    <tr>\n",
       "      <th>3438</th>\n",
       "      <td>Austin</td>\n",
       "      <td>University of Texas at Austin</td>\n",
       "      <td>$5,400 - $6,500 a month</td>\n",
       "      <td>Experience with digital data distribution tech...</td>\n",
       "      <td>Engineering Scientist Associate - Software Def...</td>\n",
       "      <td>5950</td>\n",
       "    </tr>\n",
       "    <tr>\n",
       "      <th>3441</th>\n",
       "      <td>Austin</td>\n",
       "      <td>University of Texas at Austin</td>\n",
       "      <td>$5,400 - $6,500 a month</td>\n",
       "      <td>Experience with digital data distribution tech...</td>\n",
       "      <td>Engineering Scientist Associate - Software Def...</td>\n",
       "      <td>5950</td>\n",
       "    </tr>\n",
       "    <tr>\n",
       "      <th>3445</th>\n",
       "      <td>Austin</td>\n",
       "      <td>University of Texas at Austin</td>\n",
       "      <td>$5,400 - $6,500 a month</td>\n",
       "      <td>Thorough understanding of object-oriented prog...</td>\n",
       "      <td>Engineering Scientist Associate - Software Eng...</td>\n",
       "      <td>5950</td>\n",
       "    </tr>\n",
       "    <tr>\n",
       "      <th>3447</th>\n",
       "      <td>Austin</td>\n",
       "      <td>University of Texas at Austin</td>\n",
       "      <td>$5,400 - $6,500 a month</td>\n",
       "      <td>Experience with digital data distribution tech...</td>\n",
       "      <td>Engineering Scientist Associate - Software Def...</td>\n",
       "      <td>5950</td>\n",
       "    </tr>\n",
       "    <tr>\n",
       "      <th>3451</th>\n",
       "      <td>Austin</td>\n",
       "      <td>University of Texas at Austin</td>\n",
       "      <td>$5,400 - $6,500 a month</td>\n",
       "      <td>Thorough understanding of object-oriented prog...</td>\n",
       "      <td>Engineering Scientist Associate - Software Eng...</td>\n",
       "      <td>5950</td>\n",
       "    </tr>\n",
       "    <tr>\n",
       "      <th>3453</th>\n",
       "      <td>Austin</td>\n",
       "      <td>University of Texas at Austin</td>\n",
       "      <td>$5,400 - $6,500 a month</td>\n",
       "      <td>Experience with digital data distribution tech...</td>\n",
       "      <td>Engineering Scientist Associate - Software Def...</td>\n",
       "      <td>5950</td>\n",
       "    </tr>\n",
       "    <tr>\n",
       "      <th>3456</th>\n",
       "      <td>Austin</td>\n",
       "      <td>University of Texas at Austin</td>\n",
       "      <td>$5,400 - $6,500 a month</td>\n",
       "      <td>Experience with digital data distribution tech...</td>\n",
       "      <td>Engineering Scientist Associate - Software Def...</td>\n",
       "      <td>5950</td>\n",
       "    </tr>\n",
       "    <tr>\n",
       "      <th>3460</th>\n",
       "      <td>Austin</td>\n",
       "      <td>University of Texas at Austin</td>\n",
       "      <td>$5,400 - $6,500 a month</td>\n",
       "      <td>Thorough understanding of object-oriented prog...</td>\n",
       "      <td>Engineering Scientist Associate - Software Eng...</td>\n",
       "      <td>5950</td>\n",
       "    </tr>\n",
       "    <tr>\n",
       "      <th>3462</th>\n",
       "      <td>Austin</td>\n",
       "      <td>University of Texas at Austin</td>\n",
       "      <td>$5,400 - $6,500 a month</td>\n",
       "      <td>Experience with digital data distribution tech...</td>\n",
       "      <td>Engineering Scientist Associate - Software Def...</td>\n",
       "      <td>5950</td>\n",
       "    </tr>\n",
       "    <tr>\n",
       "      <th>3465</th>\n",
       "      <td>Austin</td>\n",
       "      <td>University of Texas at Austin</td>\n",
       "      <td>$5,400 - $6,500 a month</td>\n",
       "      <td>Experience with digital data distribution tech...</td>\n",
       "      <td>Engineering Scientist Associate - Software Def...</td>\n",
       "      <td>5950</td>\n",
       "    </tr>\n",
       "    <tr>\n",
       "      <th>3468</th>\n",
       "      <td>Austin</td>\n",
       "      <td>University of Texas at Austin</td>\n",
       "      <td>$5,400 - $6,500 a month</td>\n",
       "      <td>Experience with digital data distribution tech...</td>\n",
       "      <td>Engineering Scientist Associate - Software Def...</td>\n",
       "      <td>5950</td>\n",
       "    </tr>\n",
       "    <tr>\n",
       "      <th>3472</th>\n",
       "      <td>Austin</td>\n",
       "      <td>University of Texas at Austin</td>\n",
       "      <td>$5,400 - $6,500 a month</td>\n",
       "      <td>Thorough understanding of object-oriented prog...</td>\n",
       "      <td>Engineering Scientist Associate - Software Eng...</td>\n",
       "      <td>5950</td>\n",
       "    </tr>\n",
       "    <tr>\n",
       "      <th>3474</th>\n",
       "      <td>Austin</td>\n",
       "      <td>University of Texas at Austin</td>\n",
       "      <td>$5,400 - $6,500 a month</td>\n",
       "      <td>Experience with digital data distribution tech...</td>\n",
       "      <td>Engineering Scientist Associate - Software Def...</td>\n",
       "      <td>5950</td>\n",
       "    </tr>\n",
       "    <tr>\n",
       "      <th>3477</th>\n",
       "      <td>Austin</td>\n",
       "      <td>University of Texas at Austin</td>\n",
       "      <td>$5,400 - $6,500 a month</td>\n",
       "      <td>Experience with digital data distribution tech...</td>\n",
       "      <td>Engineering Scientist Associate - Software Def...</td>\n",
       "      <td>5950</td>\n",
       "    </tr>\n",
       "    <tr>\n",
       "      <th>3480</th>\n",
       "      <td>Austin</td>\n",
       "      <td>University of Texas at Austin</td>\n",
       "      <td>$5,400 - $6,500 a month</td>\n",
       "      <td>Experience with digital data distribution tech...</td>\n",
       "      <td>Engineering Scientist Associate - Software Def...</td>\n",
       "      <td>5950</td>\n",
       "    </tr>\n",
       "    <tr>\n",
       "      <th>3484</th>\n",
       "      <td>Austin</td>\n",
       "      <td>University of Texas at Austin</td>\n",
       "      <td>$5,400 - $6,500 a month</td>\n",
       "      <td>Thorough understanding of object-oriented prog...</td>\n",
       "      <td>Engineering Scientist Associate - Software Eng...</td>\n",
       "      <td>5950</td>\n",
       "    </tr>\n",
       "    <tr>\n",
       "      <th>3486</th>\n",
       "      <td>Austin</td>\n",
       "      <td>University of Texas at Austin</td>\n",
       "      <td>$5,400 - $6,500 a month</td>\n",
       "      <td>Experience with digital data distribution tech...</td>\n",
       "      <td>Engineering Scientist Associate - Software Def...</td>\n",
       "      <td>5950</td>\n",
       "    </tr>\n",
       "    <tr>\n",
       "      <th>3489</th>\n",
       "      <td>Austin</td>\n",
       "      <td>University of Texas at Austin</td>\n",
       "      <td>$5,400 - $6,500 a month</td>\n",
       "      <td>Experience with digital data distribution tech...</td>\n",
       "      <td>Engineering Scientist Associate - Software Def...</td>\n",
       "      <td>5950</td>\n",
       "    </tr>\n",
       "    <tr>\n",
       "      <th>3492</th>\n",
       "      <td>Austin</td>\n",
       "      <td>University of Texas at Austin</td>\n",
       "      <td>$5,400 - $6,500 a month</td>\n",
       "      <td>Experience with digital data distribution tech...</td>\n",
       "      <td>Engineering Scientist Associate - Software Def...</td>\n",
       "      <td>5950</td>\n",
       "    </tr>\n",
       "    <tr>\n",
       "      <th>3496</th>\n",
       "      <td>Austin</td>\n",
       "      <td>University of Texas at Austin</td>\n",
       "      <td>$5,400 - $6,500 a month</td>\n",
       "      <td>Thorough understanding of object-oriented prog...</td>\n",
       "      <td>Engineering Scientist Associate - Software Eng...</td>\n",
       "      <td>5950</td>\n",
       "    </tr>\n",
       "    <tr>\n",
       "      <th>3498</th>\n",
       "      <td>Austin</td>\n",
       "      <td>University of Texas at Austin</td>\n",
       "      <td>$5,400 - $6,500 a month</td>\n",
       "      <td>Experience with digital data distribution tech...</td>\n",
       "      <td>Engineering Scientist Associate - Software Def...</td>\n",
       "      <td>5950</td>\n",
       "    </tr>\n",
       "    <tr>\n",
       "      <th>3501</th>\n",
       "      <td>Austin</td>\n",
       "      <td>University of Texas at Austin</td>\n",
       "      <td>$5,400 - $6,500 a month</td>\n",
       "      <td>Experience with digital data distribution tech...</td>\n",
       "      <td>Engineering Scientist Associate - Software Def...</td>\n",
       "      <td>5950</td>\n",
       "    </tr>\n",
       "    <tr>\n",
       "      <th>3504</th>\n",
       "      <td>Austin</td>\n",
       "      <td>University of Texas at Austin</td>\n",
       "      <td>$5,400 - $6,500 a month</td>\n",
       "      <td>Experience with digital data distribution tech...</td>\n",
       "      <td>Engineering Scientist Associate - Software Def...</td>\n",
       "      <td>5950</td>\n",
       "    </tr>\n",
       "    <tr>\n",
       "      <th>3508</th>\n",
       "      <td>Austin</td>\n",
       "      <td>University of Texas at Austin</td>\n",
       "      <td>$5,400 - $6,500 a month</td>\n",
       "      <td>Thorough understanding of object-oriented prog...</td>\n",
       "      <td>Engineering Scientist Associate - Software Eng...</td>\n",
       "      <td>5950</td>\n",
       "    </tr>\n",
       "    <tr>\n",
       "      <th>3511</th>\n",
       "      <td>Austin</td>\n",
       "      <td>University of Texas at Austin</td>\n",
       "      <td>$5,400 - $6,500 a month</td>\n",
       "      <td>Thorough understanding of object-oriented prog...</td>\n",
       "      <td>Engineering Scientist Associate - Software Eng...</td>\n",
       "      <td>5950</td>\n",
       "    </tr>\n",
       "    <tr>\n",
       "      <th>3513</th>\n",
       "      <td>Austin</td>\n",
       "      <td>University of Texas at Austin</td>\n",
       "      <td>$5,400 - $6,500 a month</td>\n",
       "      <td>Experience with digital data distribution tech...</td>\n",
       "      <td>Engineering Scientist Associate - Software Def...</td>\n",
       "      <td>5950</td>\n",
       "    </tr>\n",
       "    <tr>\n",
       "      <th>3518</th>\n",
       "      <td>Austin</td>\n",
       "      <td>University of Texas at Austin</td>\n",
       "      <td>$5,400 - $6,500 a month</td>\n",
       "      <td>Thorough understanding of object-oriented prog...</td>\n",
       "      <td>Engineering Scientist Associate - Software Eng...</td>\n",
       "      <td>5950</td>\n",
       "    </tr>\n",
       "    <tr>\n",
       "      <th>3522</th>\n",
       "      <td>Austin</td>\n",
       "      <td>University of Texas at Austin</td>\n",
       "      <td>$5,400 - $6,500 a month</td>\n",
       "      <td>Thorough understanding of object-oriented prog...</td>\n",
       "      <td>Engineering Scientist Associate - Software Eng...</td>\n",
       "      <td>5950</td>\n",
       "    </tr>\n",
       "    <tr>\n",
       "      <th>3524</th>\n",
       "      <td>Austin</td>\n",
       "      <td>University of Texas at Austin</td>\n",
       "      <td>$5,400 - $6,500 a month</td>\n",
       "      <td>Experience with digital data distribution tech...</td>\n",
       "      <td>Engineering Scientist Associate - Software Def...</td>\n",
       "      <td>5950</td>\n",
       "    </tr>\n",
       "  </tbody>\n",
       "</table>\n",
       "<p>788 rows × 6 columns</p>\n",
       "</div>"
      ],
      "text/plain": [
       "        city                        company                   salary  \\\n",
       "852   Austin  University of Texas at Austin  $5,400 - $6,500 a month   \n",
       "854   Austin  University of Texas at Austin  $5,400 - $6,500 a month   \n",
       "862   Austin  University of Texas at Austin  $5,400 - $6,500 a month   \n",
       "866   Austin  University of Texas at Austin  $5,400 - $6,500 a month   \n",
       "875   Austin  University of Texas at Austin  $5,400 - $6,500 a month   \n",
       "878   Austin  University of Texas at Austin  $5,400 - $6,500 a month   \n",
       "881   Austin  University of Texas at Austin  $5,400 - $6,500 a month   \n",
       "884   Austin  University of Texas at Austin  $5,400 - $6,500 a month   \n",
       "888   Austin  University of Texas at Austin  $5,400 - $6,500 a month   \n",
       "891   Austin  University of Texas at Austin  $5,400 - $6,500 a month   \n",
       "893   Austin  University of Texas at Austin  $5,400 - $6,500 a month   \n",
       "897   Austin  University of Texas at Austin  $5,400 - $6,500 a month   \n",
       "899   Austin  University of Texas at Austin  $5,400 - $6,500 a month   \n",
       "902   Austin  University of Texas at Austin  $5,400 - $6,500 a month   \n",
       "905   Austin  University of Texas at Austin  $5,400 - $6,500 a month   \n",
       "908   Austin  University of Texas at Austin  $5,400 - $6,500 a month   \n",
       "911   Austin  University of Texas at Austin  $5,400 - $6,500 a month   \n",
       "915   Austin  University of Texas at Austin  $5,400 - $6,500 a month   \n",
       "918   Austin  University of Texas at Austin  $5,400 - $6,500 a month   \n",
       "920   Austin  University of Texas at Austin  $5,400 - $6,500 a month   \n",
       "924   Austin  University of Texas at Austin  $5,400 - $6,500 a month   \n",
       "926   Austin  University of Texas at Austin  $5,400 - $6,500 a month   \n",
       "931   Austin  University of Texas at Austin  $5,400 - $6,500 a month   \n",
       "933   Austin  University of Texas at Austin  $5,400 - $6,500 a month   \n",
       "936   Austin  University of Texas at Austin  $5,400 - $6,500 a month   \n",
       "939   Austin  University of Texas at Austin  $5,400 - $6,500 a month   \n",
       "943   Austin  University of Texas at Austin  $5,400 - $6,500 a month   \n",
       "945   Austin  University of Texas at Austin  $5,400 - $6,500 a month   \n",
       "949   Austin  University of Texas at Austin  $5,400 - $6,500 a month   \n",
       "951   Austin  University of Texas at Austin  $5,400 - $6,500 a month   \n",
       "...      ...                            ...                      ...   \n",
       "3436  Austin  University of Texas at Austin  $5,400 - $6,500 a month   \n",
       "3438  Austin  University of Texas at Austin  $5,400 - $6,500 a month   \n",
       "3441  Austin  University of Texas at Austin  $5,400 - $6,500 a month   \n",
       "3445  Austin  University of Texas at Austin  $5,400 - $6,500 a month   \n",
       "3447  Austin  University of Texas at Austin  $5,400 - $6,500 a month   \n",
       "3451  Austin  University of Texas at Austin  $5,400 - $6,500 a month   \n",
       "3453  Austin  University of Texas at Austin  $5,400 - $6,500 a month   \n",
       "3456  Austin  University of Texas at Austin  $5,400 - $6,500 a month   \n",
       "3460  Austin  University of Texas at Austin  $5,400 - $6,500 a month   \n",
       "3462  Austin  University of Texas at Austin  $5,400 - $6,500 a month   \n",
       "3465  Austin  University of Texas at Austin  $5,400 - $6,500 a month   \n",
       "3468  Austin  University of Texas at Austin  $5,400 - $6,500 a month   \n",
       "3472  Austin  University of Texas at Austin  $5,400 - $6,500 a month   \n",
       "3474  Austin  University of Texas at Austin  $5,400 - $6,500 a month   \n",
       "3477  Austin  University of Texas at Austin  $5,400 - $6,500 a month   \n",
       "3480  Austin  University of Texas at Austin  $5,400 - $6,500 a month   \n",
       "3484  Austin  University of Texas at Austin  $5,400 - $6,500 a month   \n",
       "3486  Austin  University of Texas at Austin  $5,400 - $6,500 a month   \n",
       "3489  Austin  University of Texas at Austin  $5,400 - $6,500 a month   \n",
       "3492  Austin  University of Texas at Austin  $5,400 - $6,500 a month   \n",
       "3496  Austin  University of Texas at Austin  $5,400 - $6,500 a month   \n",
       "3498  Austin  University of Texas at Austin  $5,400 - $6,500 a month   \n",
       "3501  Austin  University of Texas at Austin  $5,400 - $6,500 a month   \n",
       "3504  Austin  University of Texas at Austin  $5,400 - $6,500 a month   \n",
       "3508  Austin  University of Texas at Austin  $5,400 - $6,500 a month   \n",
       "3511  Austin  University of Texas at Austin  $5,400 - $6,500 a month   \n",
       "3513  Austin  University of Texas at Austin  $5,400 - $6,500 a month   \n",
       "3518  Austin  University of Texas at Austin  $5,400 - $6,500 a month   \n",
       "3522  Austin  University of Texas at Austin  $5,400 - $6,500 a month   \n",
       "3524  Austin  University of Texas at Austin  $5,400 - $6,500 a month   \n",
       "\n",
       "                                                summary  \\\n",
       "852   Experience with processing and analyzing GNSS ...   \n",
       "854   Data analysis for space weather remediation. D...   \n",
       "862   Demonstrated ability related to data acquisiti...   \n",
       "866   Demonstrated ability related to data acquisiti...   \n",
       "875   Experience with digital data distribution tech...   \n",
       "878   Experience with digital data distribution tech...   \n",
       "881   Experience with digital data distribution tech...   \n",
       "884   Experience with digital data distribution tech...   \n",
       "888   Thorough understanding of object-oriented prog...   \n",
       "891   Thorough understanding of object-oriented prog...   \n",
       "893   Experience with digital data distribution tech...   \n",
       "897   Thorough understanding of object-oriented prog...   \n",
       "899   Experience with digital data distribution tech...   \n",
       "902   Experience with digital data distribution tech...   \n",
       "905   Experience with digital data distribution tech...   \n",
       "908   Experience with digital data distribution tech...   \n",
       "911   Experience with digital data distribution tech...   \n",
       "915   Thorough understanding of object-oriented prog...   \n",
       "918   Thorough understanding of object-oriented prog...   \n",
       "920   Experience with digital data distribution tech...   \n",
       "924   Thorough understanding of object-oriented prog...   \n",
       "926   Experience with digital data distribution tech...   \n",
       "931   Thorough understanding of object-oriented prog...   \n",
       "933   Experience with digital data distribution tech...   \n",
       "936   Experience with digital data distribution tech...   \n",
       "939   Experience with digital data distribution tech...   \n",
       "943   Thorough understanding of object-oriented prog...   \n",
       "945   Experience with digital data distribution tech...   \n",
       "949   Thorough understanding of object-oriented prog...   \n",
       "951   Experience with digital data distribution tech...   \n",
       "...                                                 ...   \n",
       "3436  Thorough understanding of object-oriented prog...   \n",
       "3438  Experience with digital data distribution tech...   \n",
       "3441  Experience with digital data distribution tech...   \n",
       "3445  Thorough understanding of object-oriented prog...   \n",
       "3447  Experience with digital data distribution tech...   \n",
       "3451  Thorough understanding of object-oriented prog...   \n",
       "3453  Experience with digital data distribution tech...   \n",
       "3456  Experience with digital data distribution tech...   \n",
       "3460  Thorough understanding of object-oriented prog...   \n",
       "3462  Experience with digital data distribution tech...   \n",
       "3465  Experience with digital data distribution tech...   \n",
       "3468  Experience with digital data distribution tech...   \n",
       "3472  Thorough understanding of object-oriented prog...   \n",
       "3474  Experience with digital data distribution tech...   \n",
       "3477  Experience with digital data distribution tech...   \n",
       "3480  Experience with digital data distribution tech...   \n",
       "3484  Thorough understanding of object-oriented prog...   \n",
       "3486  Experience with digital data distribution tech...   \n",
       "3489  Experience with digital data distribution tech...   \n",
       "3492  Experience with digital data distribution tech...   \n",
       "3496  Thorough understanding of object-oriented prog...   \n",
       "3498  Experience with digital data distribution tech...   \n",
       "3501  Experience with digital data distribution tech...   \n",
       "3504  Experience with digital data distribution tech...   \n",
       "3508  Thorough understanding of object-oriented prog...   \n",
       "3511  Thorough understanding of object-oriented prog...   \n",
       "3513  Experience with digital data distribution tech...   \n",
       "3518  Thorough understanding of object-oriented prog...   \n",
       "3522  Thorough understanding of object-oriented prog...   \n",
       "3524  Experience with digital data distribution tech...   \n",
       "\n",
       "                                                  title  parsed_salary  \n",
       "852   Engineering Scientist Associate - GNSS Analyst...           5950  \n",
       "854   Engineering Scientist Associate - R and D Soft...           5950  \n",
       "862   Engineering Scientist Associate - Underwater R...           5950  \n",
       "866   Engineering Scientist Associate - Underwater R...           5950  \n",
       "875   Engineering Scientist Associate - Software Def...           5950  \n",
       "878   Engineering Scientist Associate - Software Def...           5950  \n",
       "881   Engineering Scientist Associate - Software Def...           5950  \n",
       "884   Engineering Scientist Associate - Software Def...           5950  \n",
       "888   Engineering Scientist Associate - Software Eng...           5950  \n",
       "891   Engineering Scientist Associate - Software Eng...           5950  \n",
       "893   Engineering Scientist Associate - Software Def...           5950  \n",
       "897   Engineering Scientist Associate - Software Eng...           5950  \n",
       "899   Engineering Scientist Associate - Software Def...           5950  \n",
       "902   Engineering Scientist Associate - Software Def...           5950  \n",
       "905   Engineering Scientist Associate - Software Def...           5950  \n",
       "908   Engineering Scientist Associate - Software Def...           5950  \n",
       "911   Engineering Scientist Associate - Software Def...           5950  \n",
       "915   Engineering Scientist Associate - Software Eng...           5950  \n",
       "918   Engineering Scientist Associate - Software Eng...           5950  \n",
       "920   Engineering Scientist Associate - Software Def...           5950  \n",
       "924   Engineering Scientist Associate - Software Eng...           5950  \n",
       "926   Engineering Scientist Associate - Software Def...           5950  \n",
       "931   Engineering Scientist Associate - Software Eng...           5950  \n",
       "933   Engineering Scientist Associate - Software Def...           5950  \n",
       "936   Engineering Scientist Associate - Software Def...           5950  \n",
       "939   Engineering Scientist Associate - Software Def...           5950  \n",
       "943   Engineering Scientist Associate - Software Eng...           5950  \n",
       "945   Engineering Scientist Associate - Software Def...           5950  \n",
       "949   Engineering Scientist Associate - Software Eng...           5950  \n",
       "951   Engineering Scientist Associate - Software Def...           5950  \n",
       "...                                                 ...            ...  \n",
       "3436  Engineering Scientist Associate - Software Eng...           5950  \n",
       "3438  Engineering Scientist Associate - Software Def...           5950  \n",
       "3441  Engineering Scientist Associate - Software Def...           5950  \n",
       "3445  Engineering Scientist Associate - Software Eng...           5950  \n",
       "3447  Engineering Scientist Associate - Software Def...           5950  \n",
       "3451  Engineering Scientist Associate - Software Eng...           5950  \n",
       "3453  Engineering Scientist Associate - Software Def...           5950  \n",
       "3456  Engineering Scientist Associate - Software Def...           5950  \n",
       "3460  Engineering Scientist Associate - Software Eng...           5950  \n",
       "3462  Engineering Scientist Associate - Software Def...           5950  \n",
       "3465  Engineering Scientist Associate - Software Def...           5950  \n",
       "3468  Engineering Scientist Associate - Software Def...           5950  \n",
       "3472  Engineering Scientist Associate - Software Eng...           5950  \n",
       "3474  Engineering Scientist Associate - Software Def...           5950  \n",
       "3477  Engineering Scientist Associate - Software Def...           5950  \n",
       "3480  Engineering Scientist Associate - Software Def...           5950  \n",
       "3484  Engineering Scientist Associate - Software Eng...           5950  \n",
       "3486  Engineering Scientist Associate - Software Def...           5950  \n",
       "3489  Engineering Scientist Associate - Software Def...           5950  \n",
       "3492  Engineering Scientist Associate - Software Def...           5950  \n",
       "3496  Engineering Scientist Associate - Software Eng...           5950  \n",
       "3498  Engineering Scientist Associate - Software Def...           5950  \n",
       "3501  Engineering Scientist Associate - Software Def...           5950  \n",
       "3504  Engineering Scientist Associate - Software Def...           5950  \n",
       "3508  Engineering Scientist Associate - Software Eng...           5950  \n",
       "3511  Engineering Scientist Associate - Software Eng...           5950  \n",
       "3513  Engineering Scientist Associate - Software Def...           5950  \n",
       "3518  Engineering Scientist Associate - Software Eng...           5950  \n",
       "3522  Engineering Scientist Associate - Software Eng...           5950  \n",
       "3524  Engineering Scientist Associate - Software Def...           5950  \n",
       "\n",
       "[788 rows x 6 columns]"
      ]
     },
     "execution_count": 12,
     "metadata": {},
     "output_type": "execute_result"
    }
   ],
   "source": [
    "austin[ austin['parsed_salary'] == 5950.0 ]"
   ]
  },
  {
   "cell_type": "markdown",
   "metadata": {},
   "source": [
    "Confirmed that there are monthly salaries mixed in with annual salaries."
   ]
  },
  {
   "cell_type": "code",
   "execution_count": 13,
   "metadata": {
    "collapsed": false
   },
   "outputs": [],
   "source": [
    "temp_salary = []\n",
    "for i in df['parsed_salary']:\n",
    "    if i < 15000:\n",
    "        temp_salary.append(i*12)\n",
    "    else: \n",
    "        temp_salary.append(i)"
   ]
  },
  {
   "cell_type": "code",
   "execution_count": 14,
   "metadata": {
    "collapsed": false
   },
   "outputs": [],
   "source": [
    "df['annual_salary'] = temp_salary"
   ]
  },
  {
   "cell_type": "code",
   "execution_count": 15,
   "metadata": {
    "collapsed": false
   },
   "outputs": [
    {
     "data": {
      "text/plain": [
       "count      4789.000000\n",
       "mean      97316.191585\n",
       "std       41277.958111\n",
       "min       27996.000000\n",
       "25%       71400.000000\n",
       "50%       85000.000000\n",
       "75%      130000.000000\n",
       "max      300000.000000\n",
       "Name: annual_salary, dtype: float64"
      ]
     },
     "execution_count": 15,
     "metadata": {},
     "output_type": "execute_result"
    }
   ],
   "source": [
    "df.annual_salary.describe()"
   ]
  },
  {
   "cell_type": "code",
   "execution_count": 16,
   "metadata": {
    "collapsed": false
   },
   "outputs": [
    {
     "data": {
      "text/html": [
       "<div>\n",
       "<table border=\"1\" class=\"dataframe\">\n",
       "  <thead>\n",
       "    <tr style=\"text-align: right;\">\n",
       "      <th></th>\n",
       "      <th>city</th>\n",
       "      <th>company</th>\n",
       "      <th>salary</th>\n",
       "      <th>summary</th>\n",
       "      <th>title</th>\n",
       "      <th>parsed_salary</th>\n",
       "      <th>annual_salary</th>\n",
       "    </tr>\n",
       "  </thead>\n",
       "  <tbody>\n",
       "    <tr>\n",
       "      <th>846</th>\n",
       "      <td>Austin</td>\n",
       "      <td>TechTank Staffing &amp; Consulting Solutions</td>\n",
       "      <td>$140,000 a year</td>\n",
       "      <td>What are we looking for in this Data Scientist...</td>\n",
       "      <td>Data Scientist Programmer/Specialist</td>\n",
       "      <td>140000.0</td>\n",
       "      <td>140000</td>\n",
       "    </tr>\n",
       "    <tr>\n",
       "      <th>847</th>\n",
       "      <td>Austin</td>\n",
       "      <td>University of Texas at Austin</td>\n",
       "      <td>$8,333 a month</td>\n",
       "      <td>Development of tools for quantitative stratigr...</td>\n",
       "      <td>Research Scientist</td>\n",
       "      <td>8333.0</td>\n",
       "      <td>99996</td>\n",
       "    </tr>\n",
       "    <tr>\n",
       "      <th>848</th>\n",
       "      <td>Austin</td>\n",
       "      <td>University of Texas at Austin</td>\n",
       "      <td>$6,250 - $10,833 a month</td>\n",
       "      <td>Knowledge of digital signal processing, image ...</td>\n",
       "      <td>Engineering Scientist - R and D Algorithm and ...</td>\n",
       "      <td>8541.5</td>\n",
       "      <td>102498</td>\n",
       "    </tr>\n",
       "    <tr>\n",
       "      <th>849</th>\n",
       "      <td>Austin</td>\n",
       "      <td>University of Texas at Austin</td>\n",
       "      <td>$6,806 a month</td>\n",
       "      <td>Solve problems encountered in interpretation, ...</td>\n",
       "      <td>Research Engineering/ Scientist Associate IV</td>\n",
       "      <td>6806.0</td>\n",
       "      <td>81672</td>\n",
       "    </tr>\n",
       "    <tr>\n",
       "      <th>850</th>\n",
       "      <td>Austin</td>\n",
       "      <td>All-In Analytics</td>\n",
       "      <td>$140,000 - $160,000 a year</td>\n",
       "      <td>Senior Deep Learning Data Scientist. Forecasti...</td>\n",
       "      <td>Senior Deep Learning Data Scientist</td>\n",
       "      <td>150000.0</td>\n",
       "      <td>150000</td>\n",
       "    </tr>\n",
       "    <tr>\n",
       "      <th>851</th>\n",
       "      <td>Austin</td>\n",
       "      <td>University of Texas at Austin</td>\n",
       "      <td>$7,083 - $9,166 a month</td>\n",
       "      <td>Provide technical and research focused leaders...</td>\n",
       "      <td>Research Associate - R and D Data Scientist</td>\n",
       "      <td>8124.5</td>\n",
       "      <td>97494</td>\n",
       "    </tr>\n",
       "    <tr>\n",
       "      <th>852</th>\n",
       "      <td>Austin</td>\n",
       "      <td>University of Texas at Austin</td>\n",
       "      <td>$5,400 - $6,500 a month</td>\n",
       "      <td>Experience with processing and analyzing GNSS ...</td>\n",
       "      <td>Engineering Scientist Associate - GNSS Analyst...</td>\n",
       "      <td>5950.0</td>\n",
       "      <td>71400</td>\n",
       "    </tr>\n",
       "    <tr>\n",
       "      <th>853</th>\n",
       "      <td>Austin</td>\n",
       "      <td>Texas Department of Public Safety</td>\n",
       "      <td>$3,763 - $5,665 a month</td>\n",
       "      <td>Develop plans, policies, and procedures for an...</td>\n",
       "      <td>Statistician III-IV, HSOC, THP-Austin</td>\n",
       "      <td>4714.0</td>\n",
       "      <td>56568</td>\n",
       "    </tr>\n",
       "    <tr>\n",
       "      <th>854</th>\n",
       "      <td>Austin</td>\n",
       "      <td>University of Texas at Austin</td>\n",
       "      <td>$5,400 - $6,500 a month</td>\n",
       "      <td>Data analysis for space weather remediation. D...</td>\n",
       "      <td>Engineering Scientist Associate - R and D Soft...</td>\n",
       "      <td>5950.0</td>\n",
       "      <td>71400</td>\n",
       "    </tr>\n",
       "    <tr>\n",
       "      <th>855</th>\n",
       "      <td>Austin</td>\n",
       "      <td>University of Texas at Austin</td>\n",
       "      <td>$6,806 a month</td>\n",
       "      <td>Solve problems encountered in interpretation, ...</td>\n",
       "      <td>Research Engineering/ Scientist Associate IV</td>\n",
       "      <td>6806.0</td>\n",
       "      <td>81672</td>\n",
       "    </tr>\n",
       "    <tr>\n",
       "      <th>856</th>\n",
       "      <td>Austin</td>\n",
       "      <td>Dept of State Health Services</td>\n",
       "      <td>$4,599 - $5,333 a month</td>\n",
       "      <td>Examples include consulting with other public ...</td>\n",
       "      <td>Linkage Specialist</td>\n",
       "      <td>4966.0</td>\n",
       "      <td>59592</td>\n",
       "    </tr>\n",
       "    <tr>\n",
       "      <th>857</th>\n",
       "      <td>Austin</td>\n",
       "      <td>Myriad Development</td>\n",
       "      <td>$35,000 a year</td>\n",
       "      <td>Myriad Development is an Austin, TX based lead...</td>\n",
       "      <td>Research Analyst/Operations</td>\n",
       "      <td>35000.0</td>\n",
       "      <td>35000</td>\n",
       "    </tr>\n",
       "    <tr>\n",
       "      <th>858</th>\n",
       "      <td>Austin</td>\n",
       "      <td>University of Texas at Austin</td>\n",
       "      <td>$6,250 - $10,833 a month</td>\n",
       "      <td>Proficiency related to implementation and test...</td>\n",
       "      <td>Engineering Scientist - Underwater Robotics Al...</td>\n",
       "      <td>8541.5</td>\n",
       "      <td>102498</td>\n",
       "    </tr>\n",
       "    <tr>\n",
       "      <th>859</th>\n",
       "      <td>Austin</td>\n",
       "      <td>Roc Search</td>\n",
       "      <td>$85,000 a year</td>\n",
       "      <td>A Mid-level Data Scientist is needed to help i...</td>\n",
       "      <td>Data Scientist - North Austin/80k/Analytics</td>\n",
       "      <td>85000.0</td>\n",
       "      <td>85000</td>\n",
       "    </tr>\n",
       "    <tr>\n",
       "      <th>860</th>\n",
       "      <td>Austin</td>\n",
       "      <td>University of Texas at Austin</td>\n",
       "      <td>$6,250 - $10,833 a month</td>\n",
       "      <td>Investigate new applications of GPS/GNSS recei...</td>\n",
       "      <td>Engineering Scientist - GNSS Analyst</td>\n",
       "      <td>8541.5</td>\n",
       "      <td>102498</td>\n",
       "    </tr>\n",
       "    <tr>\n",
       "      <th>861</th>\n",
       "      <td>Austin</td>\n",
       "      <td>Roland &amp; Associates</td>\n",
       "      <td>$160,000 a year</td>\n",
       "      <td>You have 3 years of hands-on data science work...</td>\n",
       "      <td>Data Scientist - Big Data</td>\n",
       "      <td>160000.0</td>\n",
       "      <td>160000</td>\n",
       "    </tr>\n",
       "    <tr>\n",
       "      <th>862</th>\n",
       "      <td>Austin</td>\n",
       "      <td>University of Texas at Austin</td>\n",
       "      <td>$5,400 - $6,500 a month</td>\n",
       "      <td>Demonstrated ability related to data acquisiti...</td>\n",
       "      <td>Engineering Scientist Associate - Underwater R...</td>\n",
       "      <td>5950.0</td>\n",
       "      <td>71400</td>\n",
       "    </tr>\n",
       "    <tr>\n",
       "      <th>863</th>\n",
       "      <td>Austin</td>\n",
       "      <td>Myriad Development</td>\n",
       "      <td>$35,000 a year</td>\n",
       "      <td>Myriad Development is an Austin, TX based lead...</td>\n",
       "      <td>Research Analyst/Customer Serv</td>\n",
       "      <td>35000.0</td>\n",
       "      <td>35000</td>\n",
       "    </tr>\n",
       "    <tr>\n",
       "      <th>864</th>\n",
       "      <td>Austin</td>\n",
       "      <td>Roc Search</td>\n",
       "      <td>$85,000 a year</td>\n",
       "      <td>A Mid-level Data Scientist is needed to help i...</td>\n",
       "      <td>Data Scientist - North Austin/80k/Analytics</td>\n",
       "      <td>85000.0</td>\n",
       "      <td>85000</td>\n",
       "    </tr>\n",
       "    <tr>\n",
       "      <th>865</th>\n",
       "      <td>Austin</td>\n",
       "      <td>University of Texas at Austin</td>\n",
       "      <td>$7,083 - $9,166 a month</td>\n",
       "      <td>Experience in testing/using array processing a...</td>\n",
       "      <td>Research Associate - Array Processing Scientist</td>\n",
       "      <td>8124.5</td>\n",
       "      <td>97494</td>\n",
       "    </tr>\n",
       "    <tr>\n",
       "      <th>866</th>\n",
       "      <td>Austin</td>\n",
       "      <td>University of Texas at Austin</td>\n",
       "      <td>$5,400 - $6,500 a month</td>\n",
       "      <td>Demonstrated ability related to data acquisiti...</td>\n",
       "      <td>Engineering Scientist Associate - Underwater R...</td>\n",
       "      <td>5950.0</td>\n",
       "      <td>71400</td>\n",
       "    </tr>\n",
       "    <tr>\n",
       "      <th>867</th>\n",
       "      <td>Austin</td>\n",
       "      <td>University of Texas at Austin</td>\n",
       "      <td>$2,333 a month</td>\n",
       "      <td>Analyze mass spectrometry data analysis. One o...</td>\n",
       "      <td>Research Engineering/ Scientist Assistant - La...</td>\n",
       "      <td>2333.0</td>\n",
       "      <td>27996</td>\n",
       "    </tr>\n",
       "    <tr>\n",
       "      <th>868</th>\n",
       "      <td>Austin</td>\n",
       "      <td>University of Texas at Austin</td>\n",
       "      <td>$4,950 - $7,826 a month</td>\n",
       "      <td>Interacts with center scientists and external ...</td>\n",
       "      <td>Research Engineering/ Scientist Associate IV -...</td>\n",
       "      <td>6388.0</td>\n",
       "      <td>76656</td>\n",
       "    </tr>\n",
       "    <tr>\n",
       "      <th>869</th>\n",
       "      <td>Austin</td>\n",
       "      <td>The University of Texas System</td>\n",
       "      <td>$4,459 a month</td>\n",
       "      <td>Assist in ongoing development of data warehous...</td>\n",
       "      <td>Institutional Research Analyst</td>\n",
       "      <td>4459.0</td>\n",
       "      <td>53508</td>\n",
       "    </tr>\n",
       "    <tr>\n",
       "      <th>870</th>\n",
       "      <td>Austin</td>\n",
       "      <td>University of Texas at Austin</td>\n",
       "      <td>$7,083 - $9,166 a month</td>\n",
       "      <td>Experience in testing/using array processing a...</td>\n",
       "      <td>Research Associate - Array Processing Scientist</td>\n",
       "      <td>8124.5</td>\n",
       "      <td>97494</td>\n",
       "    </tr>\n",
       "    <tr>\n",
       "      <th>871</th>\n",
       "      <td>Austin</td>\n",
       "      <td>Emoters Robotics</td>\n",
       "      <td>$70,000 - $100,000 a year</td>\n",
       "      <td>At Emoters, we’re developing tiny, autonomous ...</td>\n",
       "      <td>Robotics software engineer (involves machine l...</td>\n",
       "      <td>85000.0</td>\n",
       "      <td>85000</td>\n",
       "    </tr>\n",
       "    <tr>\n",
       "      <th>872</th>\n",
       "      <td>Austin</td>\n",
       "      <td>Providence Partners</td>\n",
       "      <td>$65,000 a year</td>\n",
       "      <td>Company Located in South Austin, we are the le...</td>\n",
       "      <td>Research Analyst (excel, analysis, client-facing)</td>\n",
       "      <td>65000.0</td>\n",
       "      <td>65000</td>\n",
       "    </tr>\n",
       "    <tr>\n",
       "      <th>873</th>\n",
       "      <td>Austin</td>\n",
       "      <td>University of Texas at Austin</td>\n",
       "      <td>$2,333 a month</td>\n",
       "      <td>Analyze mass spectrometry data analysis. One o...</td>\n",
       "      <td>Research Engineering/ Scientist Assistant - La...</td>\n",
       "      <td>2333.0</td>\n",
       "      <td>27996</td>\n",
       "    </tr>\n",
       "    <tr>\n",
       "      <th>874</th>\n",
       "      <td>Austin</td>\n",
       "      <td>JE Compliance</td>\n",
       "      <td>$37,000 - $45,000 a year</td>\n",
       "      <td>The ability to interact with many different ty...</td>\n",
       "      <td>International Environmental Specialist</td>\n",
       "      <td>41000.0</td>\n",
       "      <td>41000</td>\n",
       "    </tr>\n",
       "    <tr>\n",
       "      <th>875</th>\n",
       "      <td>Austin</td>\n",
       "      <td>University of Texas at Austin</td>\n",
       "      <td>$5,400 - $6,500 a month</td>\n",
       "      <td>Experience with digital data distribution tech...</td>\n",
       "      <td>Engineering Scientist Associate - Software Def...</td>\n",
       "      <td>5950.0</td>\n",
       "      <td>71400</td>\n",
       "    </tr>\n",
       "    <tr>\n",
       "      <th>...</th>\n",
       "      <td>...</td>\n",
       "      <td>...</td>\n",
       "      <td>...</td>\n",
       "      <td>...</td>\n",
       "      <td>...</td>\n",
       "      <td>...</td>\n",
       "      <td>...</td>\n",
       "    </tr>\n",
       "    <tr>\n",
       "      <th>3497</th>\n",
       "      <td>Austin</td>\n",
       "      <td>Emoters Robotics</td>\n",
       "      <td>$70,000 - $100,000 a year</td>\n",
       "      <td>At Emoters, we’re developing tiny, autonomous ...</td>\n",
       "      <td>Robotics software engineer (involves machine l...</td>\n",
       "      <td>85000.0</td>\n",
       "      <td>85000</td>\n",
       "    </tr>\n",
       "    <tr>\n",
       "      <th>3498</th>\n",
       "      <td>Austin</td>\n",
       "      <td>University of Texas at Austin</td>\n",
       "      <td>$5,400 - $6,500 a month</td>\n",
       "      <td>Experience with digital data distribution tech...</td>\n",
       "      <td>Engineering Scientist Associate - Software Def...</td>\n",
       "      <td>5950.0</td>\n",
       "      <td>71400</td>\n",
       "    </tr>\n",
       "    <tr>\n",
       "      <th>3499</th>\n",
       "      <td>Austin</td>\n",
       "      <td>University of Texas at Austin</td>\n",
       "      <td>$6,250 - $10,833 a month</td>\n",
       "      <td>Experience with digital data distribution tech...</td>\n",
       "      <td>Engineering Scientist - Senior Software Define...</td>\n",
       "      <td>8541.5</td>\n",
       "      <td>102498</td>\n",
       "    </tr>\n",
       "    <tr>\n",
       "      <th>3500</th>\n",
       "      <td>Austin</td>\n",
       "      <td>University of Texas at Austin</td>\n",
       "      <td>$3,210 a month</td>\n",
       "      <td>Ability to interpret CT data as applicable to ...</td>\n",
       "      <td>Research Engineering/ Scientist Associate II -...</td>\n",
       "      <td>3210.0</td>\n",
       "      <td>38520</td>\n",
       "    </tr>\n",
       "    <tr>\n",
       "      <th>3501</th>\n",
       "      <td>Austin</td>\n",
       "      <td>University of Texas at Austin</td>\n",
       "      <td>$5,400 - $6,500 a month</td>\n",
       "      <td>Experience with digital data distribution tech...</td>\n",
       "      <td>Engineering Scientist Associate - Software Def...</td>\n",
       "      <td>5950.0</td>\n",
       "      <td>71400</td>\n",
       "    </tr>\n",
       "    <tr>\n",
       "      <th>3502</th>\n",
       "      <td>Austin</td>\n",
       "      <td>University of Texas at Austin</td>\n",
       "      <td>$6,250 - $10,833 a month</td>\n",
       "      <td>Experience with digital data distribution tech...</td>\n",
       "      <td>Engineering Scientist - Senior Software Define...</td>\n",
       "      <td>8541.5</td>\n",
       "      <td>102498</td>\n",
       "    </tr>\n",
       "    <tr>\n",
       "      <th>3503</th>\n",
       "      <td>Austin</td>\n",
       "      <td>University of Texas at Austin</td>\n",
       "      <td>$3,210 a month</td>\n",
       "      <td>Ability to interpret CT data as applicable to ...</td>\n",
       "      <td>Research Engineering/ Scientist Associate II -...</td>\n",
       "      <td>3210.0</td>\n",
       "      <td>38520</td>\n",
       "    </tr>\n",
       "    <tr>\n",
       "      <th>3504</th>\n",
       "      <td>Austin</td>\n",
       "      <td>University of Texas at Austin</td>\n",
       "      <td>$5,400 - $6,500 a month</td>\n",
       "      <td>Experience with digital data distribution tech...</td>\n",
       "      <td>Engineering Scientist Associate - Software Def...</td>\n",
       "      <td>5950.0</td>\n",
       "      <td>71400</td>\n",
       "    </tr>\n",
       "    <tr>\n",
       "      <th>3505</th>\n",
       "      <td>Austin</td>\n",
       "      <td>University of Texas at Austin</td>\n",
       "      <td>$6,250 - $10,833 a month</td>\n",
       "      <td>Experience with digital data distribution tech...</td>\n",
       "      <td>Engineering Scientist - Senior Software Define...</td>\n",
       "      <td>8541.5</td>\n",
       "      <td>102498</td>\n",
       "    </tr>\n",
       "    <tr>\n",
       "      <th>3506</th>\n",
       "      <td>Austin</td>\n",
       "      <td>University of Texas at Austin</td>\n",
       "      <td>$3,210 a month</td>\n",
       "      <td>Ability to interpret CT data as applicable to ...</td>\n",
       "      <td>Research Engineering/ Scientist Associate II -...</td>\n",
       "      <td>3210.0</td>\n",
       "      <td>38520</td>\n",
       "    </tr>\n",
       "    <tr>\n",
       "      <th>3507</th>\n",
       "      <td>Austin</td>\n",
       "      <td>University of Texas at Austin</td>\n",
       "      <td>$3,210 a month</td>\n",
       "      <td>Ability to interpret CT data as applicable to ...</td>\n",
       "      <td>Research Engineering/ Scientist Associate II -...</td>\n",
       "      <td>3210.0</td>\n",
       "      <td>38520</td>\n",
       "    </tr>\n",
       "    <tr>\n",
       "      <th>3508</th>\n",
       "      <td>Austin</td>\n",
       "      <td>University of Texas at Austin</td>\n",
       "      <td>$5,400 - $6,500 a month</td>\n",
       "      <td>Thorough understanding of object-oriented prog...</td>\n",
       "      <td>Engineering Scientist Associate - Software Eng...</td>\n",
       "      <td>5950.0</td>\n",
       "      <td>71400</td>\n",
       "    </tr>\n",
       "    <tr>\n",
       "      <th>3509</th>\n",
       "      <td>Austin</td>\n",
       "      <td>Emoters Robotics</td>\n",
       "      <td>$70,000 - $100,000 a year</td>\n",
       "      <td>At Emoters, we’re developing tiny, autonomous ...</td>\n",
       "      <td>Robotics software engineer (involves machine l...</td>\n",
       "      <td>85000.0</td>\n",
       "      <td>85000</td>\n",
       "    </tr>\n",
       "    <tr>\n",
       "      <th>3510</th>\n",
       "      <td>Austin</td>\n",
       "      <td>University of Texas at Austin</td>\n",
       "      <td>$3,210 a month</td>\n",
       "      <td>Ability to interpret CT data as applicable to ...</td>\n",
       "      <td>Research Engineering/ Scientist Associate II -...</td>\n",
       "      <td>3210.0</td>\n",
       "      <td>38520</td>\n",
       "    </tr>\n",
       "    <tr>\n",
       "      <th>3511</th>\n",
       "      <td>Austin</td>\n",
       "      <td>University of Texas at Austin</td>\n",
       "      <td>$5,400 - $6,500 a month</td>\n",
       "      <td>Thorough understanding of object-oriented prog...</td>\n",
       "      <td>Engineering Scientist Associate - Software Eng...</td>\n",
       "      <td>5950.0</td>\n",
       "      <td>71400</td>\n",
       "    </tr>\n",
       "    <tr>\n",
       "      <th>3512</th>\n",
       "      <td>Austin</td>\n",
       "      <td>Emoters Robotics</td>\n",
       "      <td>$70,000 - $100,000 a year</td>\n",
       "      <td>At Emoters, we’re developing tiny, autonomous ...</td>\n",
       "      <td>Robotics software engineer (involves machine l...</td>\n",
       "      <td>85000.0</td>\n",
       "      <td>85000</td>\n",
       "    </tr>\n",
       "    <tr>\n",
       "      <th>3513</th>\n",
       "      <td>Austin</td>\n",
       "      <td>University of Texas at Austin</td>\n",
       "      <td>$5,400 - $6,500 a month</td>\n",
       "      <td>Experience with digital data distribution tech...</td>\n",
       "      <td>Engineering Scientist Associate - Software Def...</td>\n",
       "      <td>5950.0</td>\n",
       "      <td>71400</td>\n",
       "    </tr>\n",
       "    <tr>\n",
       "      <th>3514</th>\n",
       "      <td>Austin</td>\n",
       "      <td>University of Texas at Austin</td>\n",
       "      <td>$6,250 - $10,833 a month</td>\n",
       "      <td>Experience with digital data distribution tech...</td>\n",
       "      <td>Engineering Scientist - Senior Software Define...</td>\n",
       "      <td>8541.5</td>\n",
       "      <td>102498</td>\n",
       "    </tr>\n",
       "    <tr>\n",
       "      <th>3515</th>\n",
       "      <td>Austin</td>\n",
       "      <td>University of Texas at Austin</td>\n",
       "      <td>$3,210 a month</td>\n",
       "      <td>Ability to interpret CT data as applicable to ...</td>\n",
       "      <td>Research Engineering/ Scientist Associate II -...</td>\n",
       "      <td>3210.0</td>\n",
       "      <td>38520</td>\n",
       "    </tr>\n",
       "    <tr>\n",
       "      <th>3516</th>\n",
       "      <td>Austin</td>\n",
       "      <td>University of Texas at Austin</td>\n",
       "      <td>$6,250 - $10,833 a month</td>\n",
       "      <td>Lead a small development team in the design, i...</td>\n",
       "      <td>Engineering Scientist - Geospatial Application...</td>\n",
       "      <td>8541.5</td>\n",
       "      <td>102498</td>\n",
       "    </tr>\n",
       "    <tr>\n",
       "      <th>3517</th>\n",
       "      <td>Austin</td>\n",
       "      <td>University of Texas at Austin</td>\n",
       "      <td>$3,210 a month</td>\n",
       "      <td>Ability to interpret CT data as applicable to ...</td>\n",
       "      <td>Research Engineering/ Scientist Associate II -...</td>\n",
       "      <td>3210.0</td>\n",
       "      <td>38520</td>\n",
       "    </tr>\n",
       "    <tr>\n",
       "      <th>3518</th>\n",
       "      <td>Austin</td>\n",
       "      <td>University of Texas at Austin</td>\n",
       "      <td>$5,400 - $6,500 a month</td>\n",
       "      <td>Thorough understanding of object-oriented prog...</td>\n",
       "      <td>Engineering Scientist Associate - Software Eng...</td>\n",
       "      <td>5950.0</td>\n",
       "      <td>71400</td>\n",
       "    </tr>\n",
       "    <tr>\n",
       "      <th>3519</th>\n",
       "      <td>Austin</td>\n",
       "      <td>Emoters Robotics</td>\n",
       "      <td>$70,000 - $100,000 a year</td>\n",
       "      <td>At Emoters, we’re developing tiny, autonomous ...</td>\n",
       "      <td>Robotics software engineer (involves machine l...</td>\n",
       "      <td>85000.0</td>\n",
       "      <td>85000</td>\n",
       "    </tr>\n",
       "    <tr>\n",
       "      <th>3520</th>\n",
       "      <td>Austin</td>\n",
       "      <td>University of Texas at Austin</td>\n",
       "      <td>$6,250 - $10,833 a month</td>\n",
       "      <td>Lead a small development team in the design, i...</td>\n",
       "      <td>Engineering Scientist - Geospatial Application...</td>\n",
       "      <td>8541.5</td>\n",
       "      <td>102498</td>\n",
       "    </tr>\n",
       "    <tr>\n",
       "      <th>3521</th>\n",
       "      <td>Austin</td>\n",
       "      <td>University of Texas at Austin</td>\n",
       "      <td>$3,210 a month</td>\n",
       "      <td>Ability to interpret CT data as applicable to ...</td>\n",
       "      <td>Research Engineering/ Scientist Associate II -...</td>\n",
       "      <td>3210.0</td>\n",
       "      <td>38520</td>\n",
       "    </tr>\n",
       "    <tr>\n",
       "      <th>3522</th>\n",
       "      <td>Austin</td>\n",
       "      <td>University of Texas at Austin</td>\n",
       "      <td>$5,400 - $6,500 a month</td>\n",
       "      <td>Thorough understanding of object-oriented prog...</td>\n",
       "      <td>Engineering Scientist Associate - Software Eng...</td>\n",
       "      <td>5950.0</td>\n",
       "      <td>71400</td>\n",
       "    </tr>\n",
       "    <tr>\n",
       "      <th>3523</th>\n",
       "      <td>Austin</td>\n",
       "      <td>Emoters Robotics</td>\n",
       "      <td>$70,000 - $100,000 a year</td>\n",
       "      <td>At Emoters, we’re developing tiny, autonomous ...</td>\n",
       "      <td>Robotics software engineer (involves machine l...</td>\n",
       "      <td>85000.0</td>\n",
       "      <td>85000</td>\n",
       "    </tr>\n",
       "    <tr>\n",
       "      <th>3524</th>\n",
       "      <td>Austin</td>\n",
       "      <td>University of Texas at Austin</td>\n",
       "      <td>$5,400 - $6,500 a month</td>\n",
       "      <td>Experience with digital data distribution tech...</td>\n",
       "      <td>Engineering Scientist Associate - Software Def...</td>\n",
       "      <td>5950.0</td>\n",
       "      <td>71400</td>\n",
       "    </tr>\n",
       "    <tr>\n",
       "      <th>3525</th>\n",
       "      <td>Austin</td>\n",
       "      <td>University of Texas at Austin</td>\n",
       "      <td>$6,250 - $10,833 a month</td>\n",
       "      <td>Experience with digital data distribution tech...</td>\n",
       "      <td>Engineering Scientist - Senior Software Define...</td>\n",
       "      <td>8541.5</td>\n",
       "      <td>102498</td>\n",
       "    </tr>\n",
       "    <tr>\n",
       "      <th>3526</th>\n",
       "      <td>Austin</td>\n",
       "      <td>University of Texas at Austin</td>\n",
       "      <td>$3,210 a month</td>\n",
       "      <td>Ability to interpret CT data as applicable to ...</td>\n",
       "      <td>Research Engineering/ Scientist Associate II -...</td>\n",
       "      <td>3210.0</td>\n",
       "      <td>38520</td>\n",
       "    </tr>\n",
       "  </tbody>\n",
       "</table>\n",
       "<p>2681 rows × 7 columns</p>\n",
       "</div>"
      ],
      "text/plain": [
       "        city                                   company  \\\n",
       "846   Austin  TechTank Staffing & Consulting Solutions   \n",
       "847   Austin             University of Texas at Austin   \n",
       "848   Austin             University of Texas at Austin   \n",
       "849   Austin             University of Texas at Austin   \n",
       "850   Austin                          All-In Analytics   \n",
       "851   Austin             University of Texas at Austin   \n",
       "852   Austin             University of Texas at Austin   \n",
       "853   Austin         Texas Department of Public Safety   \n",
       "854   Austin             University of Texas at Austin   \n",
       "855   Austin             University of Texas at Austin   \n",
       "856   Austin             Dept of State Health Services   \n",
       "857   Austin                        Myriad Development   \n",
       "858   Austin             University of Texas at Austin   \n",
       "859   Austin                                Roc Search   \n",
       "860   Austin             University of Texas at Austin   \n",
       "861   Austin                       Roland & Associates   \n",
       "862   Austin             University of Texas at Austin   \n",
       "863   Austin                        Myriad Development   \n",
       "864   Austin                                Roc Search   \n",
       "865   Austin             University of Texas at Austin   \n",
       "866   Austin             University of Texas at Austin   \n",
       "867   Austin             University of Texas at Austin   \n",
       "868   Austin             University of Texas at Austin   \n",
       "869   Austin            The University of Texas System   \n",
       "870   Austin             University of Texas at Austin   \n",
       "871   Austin                          Emoters Robotics   \n",
       "872   Austin                       Providence Partners   \n",
       "873   Austin             University of Texas at Austin   \n",
       "874   Austin                             JE Compliance   \n",
       "875   Austin             University of Texas at Austin   \n",
       "...      ...                                       ...   \n",
       "3497  Austin                          Emoters Robotics   \n",
       "3498  Austin             University of Texas at Austin   \n",
       "3499  Austin             University of Texas at Austin   \n",
       "3500  Austin             University of Texas at Austin   \n",
       "3501  Austin             University of Texas at Austin   \n",
       "3502  Austin             University of Texas at Austin   \n",
       "3503  Austin             University of Texas at Austin   \n",
       "3504  Austin             University of Texas at Austin   \n",
       "3505  Austin             University of Texas at Austin   \n",
       "3506  Austin             University of Texas at Austin   \n",
       "3507  Austin             University of Texas at Austin   \n",
       "3508  Austin             University of Texas at Austin   \n",
       "3509  Austin                          Emoters Robotics   \n",
       "3510  Austin             University of Texas at Austin   \n",
       "3511  Austin             University of Texas at Austin   \n",
       "3512  Austin                          Emoters Robotics   \n",
       "3513  Austin             University of Texas at Austin   \n",
       "3514  Austin             University of Texas at Austin   \n",
       "3515  Austin             University of Texas at Austin   \n",
       "3516  Austin             University of Texas at Austin   \n",
       "3517  Austin             University of Texas at Austin   \n",
       "3518  Austin             University of Texas at Austin   \n",
       "3519  Austin                          Emoters Robotics   \n",
       "3520  Austin             University of Texas at Austin   \n",
       "3521  Austin             University of Texas at Austin   \n",
       "3522  Austin             University of Texas at Austin   \n",
       "3523  Austin                          Emoters Robotics   \n",
       "3524  Austin             University of Texas at Austin   \n",
       "3525  Austin             University of Texas at Austin   \n",
       "3526  Austin             University of Texas at Austin   \n",
       "\n",
       "                          salary  \\\n",
       "846              $140,000 a year   \n",
       "847               $8,333 a month   \n",
       "848     $6,250 - $10,833 a month   \n",
       "849               $6,806 a month   \n",
       "850   $140,000 - $160,000 a year   \n",
       "851      $7,083 - $9,166 a month   \n",
       "852      $5,400 - $6,500 a month   \n",
       "853      $3,763 - $5,665 a month   \n",
       "854      $5,400 - $6,500 a month   \n",
       "855               $6,806 a month   \n",
       "856      $4,599 - $5,333 a month   \n",
       "857               $35,000 a year   \n",
       "858     $6,250 - $10,833 a month   \n",
       "859               $85,000 a year   \n",
       "860     $6,250 - $10,833 a month   \n",
       "861              $160,000 a year   \n",
       "862      $5,400 - $6,500 a month   \n",
       "863               $35,000 a year   \n",
       "864               $85,000 a year   \n",
       "865      $7,083 - $9,166 a month   \n",
       "866      $5,400 - $6,500 a month   \n",
       "867               $2,333 a month   \n",
       "868      $4,950 - $7,826 a month   \n",
       "869               $4,459 a month   \n",
       "870      $7,083 - $9,166 a month   \n",
       "871    $70,000 - $100,000 a year   \n",
       "872               $65,000 a year   \n",
       "873               $2,333 a month   \n",
       "874     $37,000 - $45,000 a year   \n",
       "875      $5,400 - $6,500 a month   \n",
       "...                          ...   \n",
       "3497   $70,000 - $100,000 a year   \n",
       "3498     $5,400 - $6,500 a month   \n",
       "3499    $6,250 - $10,833 a month   \n",
       "3500              $3,210 a month   \n",
       "3501     $5,400 - $6,500 a month   \n",
       "3502    $6,250 - $10,833 a month   \n",
       "3503              $3,210 a month   \n",
       "3504     $5,400 - $6,500 a month   \n",
       "3505    $6,250 - $10,833 a month   \n",
       "3506              $3,210 a month   \n",
       "3507              $3,210 a month   \n",
       "3508     $5,400 - $6,500 a month   \n",
       "3509   $70,000 - $100,000 a year   \n",
       "3510              $3,210 a month   \n",
       "3511     $5,400 - $6,500 a month   \n",
       "3512   $70,000 - $100,000 a year   \n",
       "3513     $5,400 - $6,500 a month   \n",
       "3514    $6,250 - $10,833 a month   \n",
       "3515              $3,210 a month   \n",
       "3516    $6,250 - $10,833 a month   \n",
       "3517              $3,210 a month   \n",
       "3518     $5,400 - $6,500 a month   \n",
       "3519   $70,000 - $100,000 a year   \n",
       "3520    $6,250 - $10,833 a month   \n",
       "3521              $3,210 a month   \n",
       "3522     $5,400 - $6,500 a month   \n",
       "3523   $70,000 - $100,000 a year   \n",
       "3524     $5,400 - $6,500 a month   \n",
       "3525    $6,250 - $10,833 a month   \n",
       "3526              $3,210 a month   \n",
       "\n",
       "                                                summary  \\\n",
       "846   What are we looking for in this Data Scientist...   \n",
       "847   Development of tools for quantitative stratigr...   \n",
       "848   Knowledge of digital signal processing, image ...   \n",
       "849   Solve problems encountered in interpretation, ...   \n",
       "850   Senior Deep Learning Data Scientist. Forecasti...   \n",
       "851   Provide technical and research focused leaders...   \n",
       "852   Experience with processing and analyzing GNSS ...   \n",
       "853   Develop plans, policies, and procedures for an...   \n",
       "854   Data analysis for space weather remediation. D...   \n",
       "855   Solve problems encountered in interpretation, ...   \n",
       "856   Examples include consulting with other public ...   \n",
       "857   Myriad Development is an Austin, TX based lead...   \n",
       "858   Proficiency related to implementation and test...   \n",
       "859   A Mid-level Data Scientist is needed to help i...   \n",
       "860   Investigate new applications of GPS/GNSS recei...   \n",
       "861   You have 3 years of hands-on data science work...   \n",
       "862   Demonstrated ability related to data acquisiti...   \n",
       "863   Myriad Development is an Austin, TX based lead...   \n",
       "864   A Mid-level Data Scientist is needed to help i...   \n",
       "865   Experience in testing/using array processing a...   \n",
       "866   Demonstrated ability related to data acquisiti...   \n",
       "867   Analyze mass spectrometry data analysis. One o...   \n",
       "868   Interacts with center scientists and external ...   \n",
       "869   Assist in ongoing development of data warehous...   \n",
       "870   Experience in testing/using array processing a...   \n",
       "871   At Emoters, we’re developing tiny, autonomous ...   \n",
       "872   Company Located in South Austin, we are the le...   \n",
       "873   Analyze mass spectrometry data analysis. One o...   \n",
       "874   The ability to interact with many different ty...   \n",
       "875   Experience with digital data distribution tech...   \n",
       "...                                                 ...   \n",
       "3497  At Emoters, we’re developing tiny, autonomous ...   \n",
       "3498  Experience with digital data distribution tech...   \n",
       "3499  Experience with digital data distribution tech...   \n",
       "3500  Ability to interpret CT data as applicable to ...   \n",
       "3501  Experience with digital data distribution tech...   \n",
       "3502  Experience with digital data distribution tech...   \n",
       "3503  Ability to interpret CT data as applicable to ...   \n",
       "3504  Experience with digital data distribution tech...   \n",
       "3505  Experience with digital data distribution tech...   \n",
       "3506  Ability to interpret CT data as applicable to ...   \n",
       "3507  Ability to interpret CT data as applicable to ...   \n",
       "3508  Thorough understanding of object-oriented prog...   \n",
       "3509  At Emoters, we’re developing tiny, autonomous ...   \n",
       "3510  Ability to interpret CT data as applicable to ...   \n",
       "3511  Thorough understanding of object-oriented prog...   \n",
       "3512  At Emoters, we’re developing tiny, autonomous ...   \n",
       "3513  Experience with digital data distribution tech...   \n",
       "3514  Experience with digital data distribution tech...   \n",
       "3515  Ability to interpret CT data as applicable to ...   \n",
       "3516  Lead a small development team in the design, i...   \n",
       "3517  Ability to interpret CT data as applicable to ...   \n",
       "3518  Thorough understanding of object-oriented prog...   \n",
       "3519  At Emoters, we’re developing tiny, autonomous ...   \n",
       "3520  Lead a small development team in the design, i...   \n",
       "3521  Ability to interpret CT data as applicable to ...   \n",
       "3522  Thorough understanding of object-oriented prog...   \n",
       "3523  At Emoters, we’re developing tiny, autonomous ...   \n",
       "3524  Experience with digital data distribution tech...   \n",
       "3525  Experience with digital data distribution tech...   \n",
       "3526  Ability to interpret CT data as applicable to ...   \n",
       "\n",
       "                                                  title  parsed_salary  \\\n",
       "846                Data Scientist Programmer/Specialist       140000.0   \n",
       "847                                  Research Scientist         8333.0   \n",
       "848   Engineering Scientist - R and D Algorithm and ...         8541.5   \n",
       "849        Research Engineering/ Scientist Associate IV         6806.0   \n",
       "850                 Senior Deep Learning Data Scientist       150000.0   \n",
       "851         Research Associate - R and D Data Scientist         8124.5   \n",
       "852   Engineering Scientist Associate - GNSS Analyst...         5950.0   \n",
       "853               Statistician III-IV, HSOC, THP-Austin         4714.0   \n",
       "854   Engineering Scientist Associate - R and D Soft...         5950.0   \n",
       "855        Research Engineering/ Scientist Associate IV         6806.0   \n",
       "856                                  Linkage Specialist         4966.0   \n",
       "857                         Research Analyst/Operations        35000.0   \n",
       "858   Engineering Scientist - Underwater Robotics Al...         8541.5   \n",
       "859         Data Scientist - North Austin/80k/Analytics        85000.0   \n",
       "860                Engineering Scientist - GNSS Analyst         8541.5   \n",
       "861                           Data Scientist - Big Data       160000.0   \n",
       "862   Engineering Scientist Associate - Underwater R...         5950.0   \n",
       "863                      Research Analyst/Customer Serv        35000.0   \n",
       "864         Data Scientist - North Austin/80k/Analytics        85000.0   \n",
       "865     Research Associate - Array Processing Scientist         8124.5   \n",
       "866   Engineering Scientist Associate - Underwater R...         5950.0   \n",
       "867   Research Engineering/ Scientist Assistant - La...         2333.0   \n",
       "868   Research Engineering/ Scientist Associate IV -...         6388.0   \n",
       "869                      Institutional Research Analyst         4459.0   \n",
       "870     Research Associate - Array Processing Scientist         8124.5   \n",
       "871   Robotics software engineer (involves machine l...        85000.0   \n",
       "872   Research Analyst (excel, analysis, client-facing)        65000.0   \n",
       "873   Research Engineering/ Scientist Assistant - La...         2333.0   \n",
       "874              International Environmental Specialist        41000.0   \n",
       "875   Engineering Scientist Associate - Software Def...         5950.0   \n",
       "...                                                 ...            ...   \n",
       "3497  Robotics software engineer (involves machine l...        85000.0   \n",
       "3498  Engineering Scientist Associate - Software Def...         5950.0   \n",
       "3499  Engineering Scientist - Senior Software Define...         8541.5   \n",
       "3500  Research Engineering/ Scientist Associate II -...         3210.0   \n",
       "3501  Engineering Scientist Associate - Software Def...         5950.0   \n",
       "3502  Engineering Scientist - Senior Software Define...         8541.5   \n",
       "3503  Research Engineering/ Scientist Associate II -...         3210.0   \n",
       "3504  Engineering Scientist Associate - Software Def...         5950.0   \n",
       "3505  Engineering Scientist - Senior Software Define...         8541.5   \n",
       "3506  Research Engineering/ Scientist Associate II -...         3210.0   \n",
       "3507  Research Engineering/ Scientist Associate II -...         3210.0   \n",
       "3508  Engineering Scientist Associate - Software Eng...         5950.0   \n",
       "3509  Robotics software engineer (involves machine l...        85000.0   \n",
       "3510  Research Engineering/ Scientist Associate II -...         3210.0   \n",
       "3511  Engineering Scientist Associate - Software Eng...         5950.0   \n",
       "3512  Robotics software engineer (involves machine l...        85000.0   \n",
       "3513  Engineering Scientist Associate - Software Def...         5950.0   \n",
       "3514  Engineering Scientist - Senior Software Define...         8541.5   \n",
       "3515  Research Engineering/ Scientist Associate II -...         3210.0   \n",
       "3516  Engineering Scientist - Geospatial Application...         8541.5   \n",
       "3517  Research Engineering/ Scientist Associate II -...         3210.0   \n",
       "3518  Engineering Scientist Associate - Software Eng...         5950.0   \n",
       "3519  Robotics software engineer (involves machine l...        85000.0   \n",
       "3520  Engineering Scientist - Geospatial Application...         8541.5   \n",
       "3521  Research Engineering/ Scientist Associate II -...         3210.0   \n",
       "3522  Engineering Scientist Associate - Software Eng...         5950.0   \n",
       "3523  Robotics software engineer (involves machine l...        85000.0   \n",
       "3524  Engineering Scientist Associate - Software Def...         5950.0   \n",
       "3525  Engineering Scientist - Senior Software Define...         8541.5   \n",
       "3526  Research Engineering/ Scientist Associate II -...         3210.0   \n",
       "\n",
       "      annual_salary  \n",
       "846          140000  \n",
       "847           99996  \n",
       "848          102498  \n",
       "849           81672  \n",
       "850          150000  \n",
       "851           97494  \n",
       "852           71400  \n",
       "853           56568  \n",
       "854           71400  \n",
       "855           81672  \n",
       "856           59592  \n",
       "857           35000  \n",
       "858          102498  \n",
       "859           85000  \n",
       "860          102498  \n",
       "861          160000  \n",
       "862           71400  \n",
       "863           35000  \n",
       "864           85000  \n",
       "865           97494  \n",
       "866           71400  \n",
       "867           27996  \n",
       "868           76656  \n",
       "869           53508  \n",
       "870           97494  \n",
       "871           85000  \n",
       "872           65000  \n",
       "873           27996  \n",
       "874           41000  \n",
       "875           71400  \n",
       "...             ...  \n",
       "3497          85000  \n",
       "3498          71400  \n",
       "3499         102498  \n",
       "3500          38520  \n",
       "3501          71400  \n",
       "3502         102498  \n",
       "3503          38520  \n",
       "3504          71400  \n",
       "3505         102498  \n",
       "3506          38520  \n",
       "3507          38520  \n",
       "3508          71400  \n",
       "3509          85000  \n",
       "3510          38520  \n",
       "3511          71400  \n",
       "3512          85000  \n",
       "3513          71400  \n",
       "3514         102498  \n",
       "3515          38520  \n",
       "3516         102498  \n",
       "3517          38520  \n",
       "3518          71400  \n",
       "3519          85000  \n",
       "3520         102498  \n",
       "3521          38520  \n",
       "3522          71400  \n",
       "3523          85000  \n",
       "3524          71400  \n",
       "3525         102498  \n",
       "3526          38520  \n",
       "\n",
       "[2681 rows x 7 columns]"
      ]
     },
     "execution_count": 16,
     "metadata": {},
     "output_type": "execute_result"
    }
   ],
   "source": [
    "df[ df['city'] == 'Austin' ]"
   ]
  },
  {
   "cell_type": "code",
   "execution_count": 17,
   "metadata": {
    "collapsed": false
   },
   "outputs": [
    {
     "name": "stdout",
     "output_type": "stream",
     "text": [
      "85000.0\n",
      "97316.1915849\n"
     ]
    }
   ],
   "source": [
    "print df.annual_salary.median()\n",
    "print df.annual_salary.mean()"
   ]
  },
  {
   "cell_type": "code",
   "execution_count": 21,
   "metadata": {
    "collapsed": false
   },
   "outputs": [
    {
     "data": {
      "text/plain": [
       "<matplotlib.axes._subplots.AxesSubplot at 0x117268b90>"
      ]
     },
     "execution_count": 21,
     "metadata": {},
     "output_type": "execute_result"
    },
    {
     "data": {
      "image/png": "[encoded data removed]",
      "text/plain": [
       "<matplotlib.figure.Figure at 0x1181daf50>"
      ]
     },
     "metadata": {},
     "output_type": "display_data"
    }
   ],
   "source": [
    "sns.barplot(data=df, x='annual_salary', y='city')"
   ]
  },
  {
   "cell_type": "code",
   "execution_count": 20,
   "metadata": {
    "collapsed": false
   },
   "outputs": [
    {
     "data": {
      "text/plain": [
       "<matplotlib.axes._subplots.AxesSubplot at 0x118071550>"
      ]
     },
     "execution_count": 20,
     "metadata": {},
     "output_type": "execute_result"
    },
    {
     "data": {
      "image/png": "[encoded data removed]",
      "text/plain": [
       "<matplotlib.figure.Figure at 0x11747edd0>"
      ]
     },
     "metadata": {},
     "output_type": "display_data"
    }
   ],
   "source": [
    "sns.boxplot(data=df, x='city', y='annual_salary')"
   ]
  },
  {
   "cell_type": "code",
   "execution_count": 22,
   "metadata": {
    "collapsed": false
   },
   "outputs": [
    {
     "data": {
      "text/plain": [
       "<matplotlib.axes._subplots.AxesSubplot at 0x1182c9c90>"
      ]
     },
     "execution_count": 22,
     "metadata": {},
     "output_type": "execute_result"
    },
    {
     "data": {
      "image/png": "[encoded data removed]",
      "text/plain": [
       "<matplotlib.figure.Figure at 0x1184ab790>"
      ]
     },
     "metadata": {},
     "output_type": "display_data"
    }
   ],
   "source": [
    "df.annual_salary.plot(kind='hist')"
   ]
  },
  {
   "cell_type": "code",
   "execution_count": 71,
   "metadata": {
    "collapsed": false
   },
   "outputs": [
    {
     "data": {
      "text/plain": [
       "count      4789.000000\n",
       "mean      97316.191585\n",
       "std       41277.958111\n",
       "min       27996.000000\n",
       "25%       71400.000000\n",
       "50%       85000.000000\n",
       "75%      130000.000000\n",
       "max      300000.000000\n",
       "Name: annual_salary, dtype: float64"
      ]
     },
     "execution_count": 71,
     "metadata": {},
     "output_type": "execute_result"
    }
   ],
   "source": [
    "df.annual_salary.describe()"
   ]
  },
  {
   "cell_type": "code",
   "execution_count": 24,
   "metadata": {
    "collapsed": false
   },
   "outputs": [
    {
     "data": {
      "text/plain": [
       "city              object\n",
       "company           object\n",
       "salary            object\n",
       "summary           object\n",
       "title             object\n",
       "parsed_salary    float64\n",
       "annual_salary    float64\n",
       "dtype: object"
      ]
     },
     "execution_count": 24,
     "metadata": {},
     "output_type": "execute_result"
    }
   ],
   "source": [
    "df.dtypes"
   ]
  },
  {
   "cell_type": "code",
   "execution_count": 25,
   "metadata": {
    "collapsed": false
   },
   "outputs": [],
   "source": [
    "df.city = df.city.astype('str')"
   ]
  },
  {
   "cell_type": "code",
   "execution_count": 26,
   "metadata": {
    "collapsed": false
   },
   "outputs": [
    {
     "data": {
      "text/plain": [
       "city              object\n",
       "company           object\n",
       "salary            object\n",
       "summary           object\n",
       "title             object\n",
       "parsed_salary    float64\n",
       "annual_salary    float64\n",
       "dtype: object"
      ]
     },
     "execution_count": 26,
     "metadata": {},
     "output_type": "execute_result"
    }
   ],
   "source": [
    "df.dtypes"
   ]
  },
  {
   "cell_type": "markdown",
   "metadata": {
    "focus": false,
    "id": "c7631f51-07f2-4c79-a093-3e9bc7849a48"
   },
   "source": [
    "#### We want to predict a binary variable - whether the salary was low or high. Compute the median salary and create a new binary variable that is true when the salary is high (above the median)"
   ]
  },
  {
   "cell_type": "code",
   "execution_count": 27,
   "metadata": {
    "collapsed": false
   },
   "outputs": [
    {
     "data": {
      "text/html": [
       "<div>\n",
       "<table border=\"1\" class=\"dataframe\">\n",
       "  <thead>\n",
       "    <tr style=\"text-align: right;\">\n",
       "      <th></th>\n",
       "      <th>city</th>\n",
       "      <th>company</th>\n",
       "      <th>salary</th>\n",
       "      <th>summary</th>\n",
       "      <th>title</th>\n",
       "      <th>parsed_salary</th>\n",
       "      <th>annual_salary</th>\n",
       "    </tr>\n",
       "  </thead>\n",
       "  <tbody>\n",
       "    <tr>\n",
       "      <th>0</th>\n",
       "      <td>San+Francisco</td>\n",
       "      <td>MarkMonitor</td>\n",
       "      <td>$180,000 a year</td>\n",
       "      <td>Data skills (SQL, Hive, Pig). Applying machine...</td>\n",
       "      <td>Data Scientist</td>\n",
       "      <td>180000</td>\n",
       "      <td>180000</td>\n",
       "    </tr>\n",
       "    <tr>\n",
       "      <th>1</th>\n",
       "      <td>San+Francisco</td>\n",
       "      <td>Workbridge Associates</td>\n",
       "      <td>$130,000 - $180,000 a year</td>\n",
       "      <td>3+ years of industry experience in a data scie...</td>\n",
       "      <td>Senior Data Scientist</td>\n",
       "      <td>155000</td>\n",
       "      <td>155000</td>\n",
       "    </tr>\n",
       "    <tr>\n",
       "      <th>2</th>\n",
       "      <td>San+Francisco</td>\n",
       "      <td>Mines.io</td>\n",
       "      <td>$80,000 - $120,000 a year</td>\n",
       "      <td>We are looking for a data scientist/developer ...</td>\n",
       "      <td>Full-Stack Data Scientist</td>\n",
       "      <td>100000</td>\n",
       "      <td>100000</td>\n",
       "    </tr>\n",
       "    <tr>\n",
       "      <th>3</th>\n",
       "      <td>San+Francisco</td>\n",
       "      <td>Workbridge Associates</td>\n",
       "      <td>$150,000 - $180,000 a year</td>\n",
       "      <td>In this position you will share programming an...</td>\n",
       "      <td>Data Scientist</td>\n",
       "      <td>165000</td>\n",
       "      <td>165000</td>\n",
       "    </tr>\n",
       "    <tr>\n",
       "      <th>4</th>\n",
       "      <td>San+Francisco</td>\n",
       "      <td>Smith Hanley Associates</td>\n",
       "      <td>$140,000 a year</td>\n",
       "      <td>This person will recruit, build and lead a tea...</td>\n",
       "      <td>Data Scientist</td>\n",
       "      <td>140000</td>\n",
       "      <td>140000</td>\n",
       "    </tr>\n",
       "  </tbody>\n",
       "</table>\n",
       "</div>"
      ],
      "text/plain": [
       "            city                  company                      salary  \\\n",
       "0  San+Francisco              MarkMonitor             $180,000 a year   \n",
       "1  San+Francisco    Workbridge Associates  $130,000 - $180,000 a year   \n",
       "2  San+Francisco                 Mines.io   $80,000 - $120,000 a year   \n",
       "3  San+Francisco    Workbridge Associates  $150,000 - $180,000 a year   \n",
       "4  San+Francisco  Smith Hanley Associates             $140,000 a year   \n",
       "\n",
       "                                             summary  \\\n",
       "0  Data skills (SQL, Hive, Pig). Applying machine...   \n",
       "1  3+ years of industry experience in a data scie...   \n",
       "2  We are looking for a data scientist/developer ...   \n",
       "3  In this position you will share programming an...   \n",
       "4  This person will recruit, build and lead a tea...   \n",
       "\n",
       "                       title  parsed_salary  annual_salary  \n",
       "0             Data Scientist         180000         180000  \n",
       "1      Senior Data Scientist         155000         155000  \n",
       "2  Full-Stack Data Scientist         100000         100000  \n",
       "3             Data Scientist         165000         165000  \n",
       "4             Data Scientist         140000         140000  "
      ]
     },
     "execution_count": 27,
     "metadata": {},
     "output_type": "execute_result"
    }
   ],
   "source": [
    "df.head()"
   ]
  },
  {
   "cell_type": "code",
   "execution_count": 28,
   "metadata": {
    "collapsed": false
   },
   "outputs": [
    {
     "data": {
      "text/plain": [
       "city              object\n",
       "company           object\n",
       "salary            object\n",
       "summary           object\n",
       "title             object\n",
       "parsed_salary    float64\n",
       "annual_salary    float64\n",
       "dtype: object"
      ]
     },
     "execution_count": 28,
     "metadata": {},
     "output_type": "execute_result"
    }
   ],
   "source": [
    "df.dtypes"
   ]
  },
  {
   "cell_type": "code",
   "execution_count": 29,
   "metadata": {
    "collapsed": false
   },
   "outputs": [
    {
     "name": "stdout",
     "output_type": "stream",
     "text": [
      "<type 'str'>\n",
      "<type 'str'>\n",
      "<type 'str'>\n",
      "<type 'str'>\n",
      "<type 'str'>\n"
     ]
    }
   ],
   "source": [
    "for i in df.summary[:5]:\n",
    "    print type(i)"
   ]
  },
  {
   "cell_type": "markdown",
   "metadata": {
    "focus": false,
    "id": "a7afb2c0-d41e-4779-8216-91cd8dd4473f"
   },
   "source": [
    "#### Thought experiment: What is the baseline accuracy for this model?"
   ]
  },
  {
   "cell_type": "code",
   "execution_count": 30,
   "metadata": {
    "collapsed": true,
    "focus": false,
    "id": "c20d2498-151c-44c3-a453-3a333c79a0ac"
   },
   "outputs": [],
   "source": [
    "## YOUR CODE HERE\n",
    "df['above_median'] = df['annual_salary'].map(lambda x: 1 if x > df['annual_salary'].median() else 0)"
   ]
  },
  {
   "cell_type": "code",
   "execution_count": 31,
   "metadata": {
    "collapsed": false
   },
   "outputs": [
    {
     "data": {
      "text/plain": [
       "0    2505\n",
       "1    2286\n",
       "Name: above_median, dtype: int64"
      ]
     },
     "execution_count": 31,
     "metadata": {},
     "output_type": "execute_result"
    }
   ],
   "source": [
    "df['above_median'].value_counts()"
   ]
  },
  {
   "cell_type": "code",
   "execution_count": 32,
   "metadata": {
    "collapsed": false
   },
   "outputs": [
    {
     "data": {
      "text/plain": [
       "0.4771446462116468"
      ]
     },
     "execution_count": 32,
     "metadata": {},
     "output_type": "execute_result"
    }
   ],
   "source": [
    "df['above_median'].mean()"
   ]
  },
  {
   "cell_type": "markdown",
   "metadata": {
    "focus": false,
    "id": "4fb29de2-5b98-474c-a4ad-5170b72b9aea"
   },
   "source": [
    "#### Create a Logistic Regression model to predict High/Low salary using statsmodel. Start by ONLY using the location as a feature. Display the coefficients and write a short summary of what they mean."
   ]
  },
  {
   "cell_type": "code",
   "execution_count": 33,
   "metadata": {
    "collapsed": true,
    "focus": false,
    "id": "87a17d3d-b7f4-4747-9f75-f9af1d18a174"
   },
   "outputs": [],
   "source": [
    "import patsy\n",
    "formula = 'above_median ~ C(city)'\n",
    "y, X = patsy.dmatrices(formula, data=df)"
   ]
  },
  {
   "cell_type": "code",
   "execution_count": 34,
   "metadata": {
    "collapsed": false
   },
   "outputs": [
    {
     "data": {
      "text/plain": [
       "DesignMatrix with shape (4791, 5)\n",
       "  Columns:\n",
       "    ['Intercept',\n",
       "     'C(city)[T.Chicago]',\n",
       "     'C(city)[T.New+York]',\n",
       "     'C(city)[T.San+Francisco]',\n",
       "     'C(city)[T.Seattle]']\n",
       "  Terms:\n",
       "    'Intercept' (column 0), 'C(city)' (columns 1:5)\n",
       "  (to view full data, use np.asarray(this_obj))"
      ]
     },
     "execution_count": 34,
     "metadata": {},
     "output_type": "execute_result"
    }
   ],
   "source": [
    "X"
   ]
  },
  {
   "cell_type": "code",
   "execution_count": 35,
   "metadata": {
    "collapsed": false
   },
   "outputs": [
    {
     "name": "stdout",
     "output_type": "stream",
     "text": [
      "(4791, 1)\n",
      "(4791, 5)\n"
     ]
    }
   ],
   "source": [
    "print y.shape\n",
    "print X.shape"
   ]
  },
  {
   "cell_type": "code",
   "execution_count": 36,
   "metadata": {
    "collapsed": false,
    "scrolled": false
   },
   "outputs": [
    {
     "name": "stdout",
     "output_type": "stream",
     "text": [
      "Optimization terminated successfully.\n",
      "         Current function value: 0.531355\n",
      "         Iterations 8\n"
     ]
    },
    {
     "data": {
      "text/html": [
       "<table class=\"simpletable\">\n",
       "<tr>\n",
       "        <td>Model:</td>              <td>Logit</td>      <td>Pseudo R-squared:</td>   <td>0.232</td>  \n",
       "</tr>\n",
       "<tr>\n",
       "  <td>Dependent Variable:</td>   <td>above_median</td>         <td>AIC:</td>        <td>5101.4417</td>\n",
       "</tr>\n",
       "<tr>\n",
       "         <td>Date:</td>        <td>2016-07-05 08:07</td>       <td>BIC:</td>        <td>5133.8142</td>\n",
       "</tr>\n",
       "<tr>\n",
       "   <td>No. Observations:</td>        <td>4791</td>        <td>Log-Likelihood:</td>   <td>-2545.7</td> \n",
       "</tr>\n",
       "<tr>\n",
       "       <td>Df Model:</td>              <td>4</td>            <td>LL-Null:</td>       <td>-3315.9</td> \n",
       "</tr>\n",
       "<tr>\n",
       "     <td>Df Residuals:</td>          <td>4786</td>         <td>LLR p-value:</td>     <td>0.0000</td>  \n",
       "</tr>\n",
       "<tr>\n",
       "      <td>Converged:</td>           <td>1.0000</td>           <td>Scale:</td>        <td>1.0000</td>  \n",
       "</tr>\n",
       "<tr>\n",
       "    <td>No. Iterations:</td>        <td>8.0000</td>              <td></td>              <td></td>     \n",
       "</tr>\n",
       "</table>\n",
       "<table class=\"simpletable\">\n",
       "<tr>\n",
       "              <td></td>              <th>Coef.</th>  <th>Std.Err.</th>     <th>z</th>     <th>P>|z|</th> <th>[0.025</th>  <th>0.975]</th> \n",
       "</tr>\n",
       "<tr>\n",
       "  <th>Intercept</th>                <td>-1.0287</td>  <td>0.0438</td>  <td>-23.4601</td> <td>0.0000</td> <td>-1.1147</td> <td>-0.9428</td>\n",
       "</tr>\n",
       "<tr>\n",
       "  <th>C(city)[T.Chicago]</th>       <td>1.7129</td>   <td>0.0758</td>   <td>22.6067</td> <td>0.0000</td> <td>1.5644</td>  <td>1.8614</td> \n",
       "</tr>\n",
       "<tr>\n",
       "  <th>C(city)[T.New+York]</th>      <td>2.9566</td>   <td>0.1496</td>   <td>19.7646</td> <td>0.0000</td> <td>2.6634</td>  <td>3.2498</td> \n",
       "</tr>\n",
       "<tr>\n",
       "  <th>C(city)[T.San+Francisco]</th> <td>4.9332</td>   <td>0.3598</td>   <td>13.7117</td> <td>0.0000</td> <td>4.2280</td>  <td>5.6384</td> \n",
       "</tr>\n",
       "<tr>\n",
       "  <th>C(city)[T.Seattle]</th>       <td>-0.4147</td>  <td>0.2732</td>   <td>-1.5181</td> <td>0.1290</td> <td>-0.9502</td> <td>0.1207</td> \n",
       "</tr>\n",
       "</table>"
      ],
      "text/plain": [
       "<class 'statsmodels.iolib.summary2.Summary'>\n",
       "\"\"\"\n",
       "                             Results: Logit\n",
       "=========================================================================\n",
       "Model:                 Logit               Pseudo R-squared:    0.232    \n",
       "Dependent Variable:    above_median        AIC:                 5101.4417\n",
       "Date:                  2016-07-05 08:07    BIC:                 5133.8142\n",
       "No. Observations:      4791                Log-Likelihood:      -2545.7  \n",
       "Df Model:              4                   LL-Null:             -3315.9  \n",
       "Df Residuals:          4786                LLR p-value:         0.0000   \n",
       "Converged:             1.0000              Scale:               1.0000   \n",
       "No. Iterations:        8.0000                                            \n",
       "-------------------------------------------------------------------------\n",
       "                          Coef.  Std.Err.    z     P>|z|   [0.025  0.975]\n",
       "-------------------------------------------------------------------------\n",
       "Intercept                -1.0287   0.0438 -23.4601 0.0000 -1.1147 -0.9428\n",
       "C(city)[T.Chicago]        1.7129   0.0758  22.6067 0.0000  1.5644  1.8614\n",
       "C(city)[T.New+York]       2.9566   0.1496  19.7646 0.0000  2.6634  3.2498\n",
       "C(city)[T.San+Francisco]  4.9332   0.3598  13.7117 0.0000  4.2280  5.6384\n",
       "C(city)[T.Seattle]       -0.4147   0.2732  -1.5181 0.1290 -0.9502  0.1207\n",
       "=========================================================================\n",
       "\n",
       "\"\"\""
      ]
     },
     "execution_count": 36,
     "metadata": {},
     "output_type": "execute_result"
    }
   ],
   "source": [
    "import statsmodels.api as sm\n",
    "\n",
    "logit = sm.Logit(y, X) # Logit instead of OLS\n",
    "\n",
    "result = logit.fit()\n",
    "result.summary2()"
   ]
  },
  {
   "cell_type": "code",
   "execution_count": 37,
   "metadata": {
    "collapsed": false
   },
   "outputs": [
    {
     "data": {
      "text/plain": [
       "array(0.4771446462116468)"
      ]
     },
     "execution_count": 37,
     "metadata": {},
     "output_type": "execute_result"
    }
   ],
   "source": [
    "y.mean()"
   ]
  },
  {
   "cell_type": "raw",
   "metadata": {},
   "source": [
    "Based off of Pseudo R-Squared of .232, the logistic regression model is 10% worse than the baseline of .499"
   ]
  },
  {
   "cell_type": "markdown",
   "metadata": {
    "focus": false,
    "id": "0ef04f32-419c-4bf2-baf7-48201f03df89"
   },
   "source": [
    "#### Create a few new variables in your dataframe to represent interesting features of a job title.\n",
    "- For example, create a feature that represents whether 'Senior' is in the title \n",
    "- or whether 'Manager' is in the title. \n",
    "- Then build a new Logistic Regression model with these features. Do they add any value? \n"
   ]
  },
  {
   "cell_type": "code",
   "execution_count": 38,
   "metadata": {
    "collapsed": false
   },
   "outputs": [
    {
     "data": {
      "text/html": [
       "<div>\n",
       "<table border=\"1\" class=\"dataframe\">\n",
       "  <thead>\n",
       "    <tr style=\"text-align: right;\">\n",
       "      <th></th>\n",
       "      <th>city</th>\n",
       "      <th>company</th>\n",
       "      <th>salary</th>\n",
       "      <th>summary</th>\n",
       "      <th>title</th>\n",
       "      <th>parsed_salary</th>\n",
       "      <th>annual_salary</th>\n",
       "      <th>above_median</th>\n",
       "    </tr>\n",
       "  </thead>\n",
       "  <tbody>\n",
       "    <tr>\n",
       "      <th>0</th>\n",
       "      <td>San+Francisco</td>\n",
       "      <td>MarkMonitor</td>\n",
       "      <td>$180,000 a year</td>\n",
       "      <td>Data skills (SQL, Hive, Pig). Applying machine...</td>\n",
       "      <td>Data Scientist</td>\n",
       "      <td>180000</td>\n",
       "      <td>180000</td>\n",
       "      <td>1</td>\n",
       "    </tr>\n",
       "    <tr>\n",
       "      <th>1</th>\n",
       "      <td>San+Francisco</td>\n",
       "      <td>Workbridge Associates</td>\n",
       "      <td>$130,000 - $180,000 a year</td>\n",
       "      <td>3+ years of industry experience in a data scie...</td>\n",
       "      <td>Senior Data Scientist</td>\n",
       "      <td>155000</td>\n",
       "      <td>155000</td>\n",
       "      <td>1</td>\n",
       "    </tr>\n",
       "    <tr>\n",
       "      <th>2</th>\n",
       "      <td>San+Francisco</td>\n",
       "      <td>Mines.io</td>\n",
       "      <td>$80,000 - $120,000 a year</td>\n",
       "      <td>We are looking for a data scientist/developer ...</td>\n",
       "      <td>Full-Stack Data Scientist</td>\n",
       "      <td>100000</td>\n",
       "      <td>100000</td>\n",
       "      <td>1</td>\n",
       "    </tr>\n",
       "    <tr>\n",
       "      <th>3</th>\n",
       "      <td>San+Francisco</td>\n",
       "      <td>Workbridge Associates</td>\n",
       "      <td>$150,000 - $180,000 a year</td>\n",
       "      <td>In this position you will share programming an...</td>\n",
       "      <td>Data Scientist</td>\n",
       "      <td>165000</td>\n",
       "      <td>165000</td>\n",
       "      <td>1</td>\n",
       "    </tr>\n",
       "    <tr>\n",
       "      <th>4</th>\n",
       "      <td>San+Francisco</td>\n",
       "      <td>Smith Hanley Associates</td>\n",
       "      <td>$140,000 a year</td>\n",
       "      <td>This person will recruit, build and lead a tea...</td>\n",
       "      <td>Data Scientist</td>\n",
       "      <td>140000</td>\n",
       "      <td>140000</td>\n",
       "      <td>1</td>\n",
       "    </tr>\n",
       "  </tbody>\n",
       "</table>\n",
       "</div>"
      ],
      "text/plain": [
       "            city                  company                      salary  \\\n",
       "0  San+Francisco              MarkMonitor             $180,000 a year   \n",
       "1  San+Francisco    Workbridge Associates  $130,000 - $180,000 a year   \n",
       "2  San+Francisco                 Mines.io   $80,000 - $120,000 a year   \n",
       "3  San+Francisco    Workbridge Associates  $150,000 - $180,000 a year   \n",
       "4  San+Francisco  Smith Hanley Associates             $140,000 a year   \n",
       "\n",
       "                                             summary  \\\n",
       "0  Data skills (SQL, Hive, Pig). Applying machine...   \n",
       "1  3+ years of industry experience in a data scie...   \n",
       "2  We are looking for a data scientist/developer ...   \n",
       "3  In this position you will share programming an...   \n",
       "4  This person will recruit, build and lead a tea...   \n",
       "\n",
       "                       title  parsed_salary  annual_salary  above_median  \n",
       "0             Data Scientist         180000         180000             1  \n",
       "1      Senior Data Scientist         155000         155000             1  \n",
       "2  Full-Stack Data Scientist         100000         100000             1  \n",
       "3             Data Scientist         165000         165000             1  \n",
       "4             Data Scientist         140000         140000             1  "
      ]
     },
     "execution_count": 38,
     "metadata": {},
     "output_type": "execute_result"
    }
   ],
   "source": [
    "df.head()"
   ]
  },
  {
   "cell_type": "raw",
   "metadata": {
    "collapsed": false,
    "focus": false,
    "id": "068dc1cf-7fd7-4f27-a1f1-7f0a5a221d29"
   },
   "source": [
    "df['mgr'] = df['title'].apply(lambda x: 1 if ('Senior' or 'Manager' or 'VP' or 'Vice President' or 'Director') in x else 0)"
   ]
  },
  {
   "cell_type": "code",
   "execution_count": 39,
   "metadata": {
    "collapsed": false
   },
   "outputs": [],
   "source": [
    "temp_mgr = []\n",
    "for i in df['title']:\n",
    "        if 'Senior' in i:\n",
    "            temp_mgr.append(1)\n",
    "        elif 'Manager' in i:\n",
    "            temp_mgr.append(1)\n",
    "        elif 'VP' in i:\n",
    "            temp_mgr.append(1)\n",
    "        elif 'Vice President' in i:\n",
    "            temp_mgr.append(1)\n",
    "        elif 'Director' in i:\n",
    "            temp_mgr.append(1)\n",
    "        elif 'SR.' in i:\n",
    "            temp_mgr.append(1)\n",
    "        else:\n",
    "            temp_mgr.append(0)\n",
    "# print temp_mgr\n",
    "df['mgr'] = temp_mgr"
   ]
  },
  {
   "cell_type": "code",
   "execution_count": 40,
   "metadata": {
    "collapsed": false
   },
   "outputs": [
    {
     "data": {
      "text/plain": [
       "2288"
      ]
     },
     "execution_count": 40,
     "metadata": {},
     "output_type": "execute_result"
    }
   ],
   "source": [
    "df.mgr.sum()"
   ]
  },
  {
   "cell_type": "code",
   "execution_count": 41,
   "metadata": {
    "collapsed": false
   },
   "outputs": [],
   "source": [
    "formula = 'above_median ~ C(city) + mgr'\n",
    "y, X = patsy.dmatrices(formula, data=df)"
   ]
  },
  {
   "cell_type": "code",
   "execution_count": 42,
   "metadata": {
    "collapsed": false
   },
   "outputs": [
    {
     "name": "stdout",
     "output_type": "stream",
     "text": [
      "Optimization terminated successfully.\n",
      "         Current function value: 0.391758\n",
      "         Iterations 8\n"
     ]
    },
    {
     "data": {
      "text/html": [
       "<table class=\"simpletable\">\n",
       "<tr>\n",
       "       <td>Model:</td>             <td>Logit</td>      <td>Pseudo R-squared:</td>   <td>0.434</td>  \n",
       "</tr>\n",
       "<tr>\n",
       "        <td>Date:</td>       <td>2016-07-05 08:07</td>       <td>AIC:</td>        <td>3765.8246</td>\n",
       "</tr>\n",
       "<tr>\n",
       "  <td>No. Observations:</td>       <td>4791</td>             <td>BIC:</td>        <td>3804.6716</td>\n",
       "</tr>\n",
       "<tr>\n",
       "      <td>Df Model:</td>             <td>5</td>         <td>Log-Likelihood:</td>   <td>-1876.9</td> \n",
       "</tr>\n",
       "<tr>\n",
       "    <td>Df Residuals:</td>         <td>4785</td>           <td>LL-Null:</td>       <td>-3315.9</td> \n",
       "</tr>\n",
       "<tr>\n",
       "     <td>Converged:</td>          <td>1.0000</td>        <td>LLR p-value:</td>     <td>0.0000</td>  \n",
       "</tr>\n",
       "<tr>\n",
       "   <td>No. Iterations:</td>       <td>8.0000</td>           <td>Scale:</td>        <td>1.0000</td>  \n",
       "</tr>\n",
       "</table>\n",
       "<table class=\"simpletable\">\n",
       "<tr>\n",
       "              <td></td>              <th>Coef.</th>  <th>Std.Err.</th>     <th>z</th>     <th>P>|z|</th> <th>[0.025</th>  <th>0.975]</th> \n",
       "</tr>\n",
       "<tr>\n",
       "  <th>Intercept</th>                <td>-1.7867</td>  <td>0.0593</td>  <td>-30.1477</td> <td>0.0000</td> <td>-1.9029</td> <td>-1.6706</td>\n",
       "</tr>\n",
       "<tr>\n",
       "  <th>C(city)[T.Chicago]</th>       <td>-2.3161</td>  <td>0.2220</td>  <td>-10.4341</td> <td>0.0000</td> <td>-2.7512</td> <td>-1.8811</td>\n",
       "</tr>\n",
       "<tr>\n",
       "  <th>C(city)[T.New+York]</th>      <td>1.2724</td>   <td>0.2150</td>   <td>5.9187</td>  <td>0.0000</td> <td>0.8511</td>  <td>1.6938</td> \n",
       "</tr>\n",
       "<tr>\n",
       "  <th>C(city)[T.San+Francisco]</th> <td>3.0319</td>   <td>0.3999</td>   <td>7.5822</td>  <td>0.0000</td> <td>2.2481</td>  <td>3.8156</td> \n",
       "</tr>\n",
       "<tr>\n",
       "  <th>C(city)[T.Seattle]</th>       <td>-0.0623</td>  <td>0.3212</td>   <td>-0.1940</td> <td>0.8462</td> <td>-0.6918</td> <td>0.5672</td> \n",
       "</tr>\n",
       "<tr>\n",
       "  <th>mgr</th>                      <td>4.8405</td>   <td>0.2176</td>   <td>22.2468</td> <td>0.0000</td> <td>4.4140</td>  <td>5.2669</td> \n",
       "</tr>\n",
       "</table>"
      ],
      "text/plain": [
       "<class 'statsmodels.iolib.summary2.Summary'>\n",
       "\"\"\"\n",
       "                             Results: Logit\n",
       "=========================================================================\n",
       "Model:                 Logit               Pseudo R-squared:    0.434    \n",
       "Date:                  2016-07-05 08:07    AIC:                 3765.8246\n",
       "No. Observations:      4791                BIC:                 3804.6716\n",
       "Df Model:              5                   Log-Likelihood:      -1876.9  \n",
       "Df Residuals:          4785                LL-Null:             -3315.9  \n",
       "Converged:             1.0000              LLR p-value:         0.0000   \n",
       "No. Iterations:        8.0000              Scale:               1.0000   \n",
       "-------------------------------------------------------------------------\n",
       "                          Coef.  Std.Err.    z     P>|z|   [0.025  0.975]\n",
       "-------------------------------------------------------------------------\n",
       "Intercept                -1.7867   0.0593 -30.1477 0.0000 -1.9029 -1.6706\n",
       "C(city)[T.Chicago]       -2.3161   0.2220 -10.4341 0.0000 -2.7512 -1.8811\n",
       "C(city)[T.New+York]       1.2724   0.2150   5.9187 0.0000  0.8511  1.6938\n",
       "C(city)[T.San+Francisco]  3.0319   0.3999   7.5822 0.0000  2.2481  3.8156\n",
       "C(city)[T.Seattle]       -0.0623   0.3212  -0.1940 0.8462 -0.6918  0.5672\n",
       "mgr                       4.8405   0.2176  22.2468 0.0000  4.4140  5.2669\n",
       "=========================================================================\n",
       "\n",
       "\"\"\""
      ]
     },
     "execution_count": 42,
     "metadata": {},
     "output_type": "execute_result"
    }
   ],
   "source": [
    "logit = sm.Logit(np.ravel(y), X) # Logit instead of OLS\n",
    "\n",
    "result = logit.fit()\n",
    "result.summary2()"
   ]
  },
  {
   "cell_type": "raw",
   "metadata": {},
   "source": [
    "After adding the manager to the 'mgr' dummy variable to the model the Pseudo R-squared increased .202"
   ]
  },
  {
   "cell_type": "markdown",
   "metadata": {
    "focus": false,
    "id": "9c9274ef-c9f5-4d56-b286-ecc8709eff9f"
   },
   "source": [
    "#### Rebuild this model with scikit-learn.\n",
    "- You can either create the dummy features manually or use the `dmatrix` function from `patsy`\n",
    "- Remember to scale the feature variables as well!\n"
   ]
  },
  {
   "cell_type": "code",
   "execution_count": 43,
   "metadata": {
    "collapsed": true
   },
   "outputs": [],
   "source": [
    "from sklearn.linear_model import LogisticRegression"
   ]
  },
  {
   "cell_type": "code",
   "execution_count": 44,
   "metadata": {
    "collapsed": false,
    "focus": false,
    "id": "b76f65cd-cd3a-4e91-af55-12880be7b057"
   },
   "outputs": [],
   "source": [
    "formula = 'above_median ~ C(city) + mgr'\n",
    "y, X = patsy.dmatrices(formula, data=df)"
   ]
  },
  {
   "cell_type": "code",
   "execution_count": 45,
   "metadata": {
    "collapsed": false
   },
   "outputs": [
    {
     "name": "stdout",
     "output_type": "stream",
     "text": [
      "0.838029638906\n"
     ]
    },
    {
     "name": "stderr",
     "output_type": "stream",
     "text": [
      "/Users/isaacmoore/anaconda/lib/python2.7/site-packages/sklearn/utils/validation.py:515: DataConversionWarning: A column-vector y was passed when a 1d array was expected. Please change the shape of y to (n_samples, ), for example using ravel().\n",
      "  y = column_or_1d(y, warn=True)\n"
     ]
    }
   ],
   "source": [
    "logit = LogisticRegression()\n",
    "logit.fit(X, y)\n",
    "y = np.ravel(y)\n",
    "print logit.score(X, y)"
   ]
  },
  {
   "cell_type": "markdown",
   "metadata": {
    "focus": false,
    "id": "9367beff-72ba-4768-a0ba-a50b335de61d"
   },
   "source": [
    "#### Use cross-validation in scikit-learn to evaluate the model above. \n",
    "- Evaluate the accuracy, AUC, precision and recall of the model. \n",
    "- Discuss the differences and explain when you want a high-recall or a high-precision model in this scenario."
   ]
  },
  {
   "cell_type": "code",
   "execution_count": 46,
   "metadata": {
    "collapsed": true
   },
   "outputs": [],
   "source": [
    "from sklearn.cross_validation import train_test_split\n",
    "from sklearn.datasets import make_classification"
   ]
  },
  {
   "cell_type": "code",
   "execution_count": 47,
   "metadata": {
    "collapsed": true
   },
   "outputs": [],
   "source": [
    "X_train, X_test, y_train, y_test = train_test_split(X, np.ravel(y), test_size=0.33)"
   ]
  },
  {
   "cell_type": "code",
   "execution_count": 48,
   "metadata": {
    "collapsed": false
   },
   "outputs": [
    {
     "data": {
      "text/plain": [
       "((3209, 6), (1582, 6), (3209,), (1582,))"
      ]
     },
     "execution_count": 48,
     "metadata": {},
     "output_type": "execute_result"
    }
   ],
   "source": [
    "X_train.shape, X_test.shape, y_train.shape, y_test.shape"
   ]
  },
  {
   "cell_type": "code",
   "execution_count": 49,
   "metadata": {
    "collapsed": false,
    "focus": false,
    "id": "269b9e7c-60b5-4a06-8255-881d7395bc1b"
   },
   "outputs": [
    {
     "name": "stdout",
     "output_type": "stream",
     "text": [
      "[[-0.84237537 -2.18866925  1.0289428   2.52341479 -0.11419836  4.59954168]]\n",
      "0.845132743363\n"
     ]
    }
   ],
   "source": [
    "logit.fit(X_train, y_train)\n",
    "logit_reg = logit.coef_\n",
    "logit_score = logit.score(X_test, y_test)\n",
    "print logit_reg\n",
    "print logit_score"
   ]
  },
  {
   "cell_type": "markdown",
   "metadata": {},
   "source": [
    "Model improved by incorporating train/test split."
   ]
  },
  {
   "cell_type": "code",
   "execution_count": 50,
   "metadata": {
    "collapsed": false
   },
   "outputs": [
    {
     "data": {
      "image/png": "[encoded data removed]",
      "text/plain": [
       "<matplotlib.figure.Figure at 0x119a9b590>"
      ]
     },
     "metadata": {},
     "output_type": "display_data"
    }
   ],
   "source": [
    "from sklearn.metrics import roc_curve, auc\n",
    "plt.style.use('seaborn-white')\n",
    "\n",
    "\n",
    "y_score = logit.decision_function(X_test)\n",
    "\n",
    "FPR = dict()\n",
    "TPR = dict()\n",
    "ROC_AUC = dict()\n",
    "\n",
    "# For class 1, find the area under the curve\n",
    "FPR[1], TPR[1], _ = roc_curve(y_test, y_score)\n",
    "ROC_AUC[1] = auc(FPR[1], TPR[1])\n",
    "\n",
    "# Plot of a ROC curve for class 1\n",
    "plt.figure(figsize=[11,9])\n",
    "plt.plot(FPR[1], TPR[1], label='ROC curve (area = %0.2f)' % ROC_AUC[1], linewidth=4)\n",
    "plt.plot([0, 1], [0, 1], 'k--', linewidth=4)\n",
    "plt.xlim([0.0, 1.0])\n",
    "plt.ylim([0.0, 1.05])\n",
    "plt.xlabel('False Positive Rate')\n",
    "plt.ylabel('True Positive Rate')\n",
    "plt.title('Receiver operating characteristic for above median salary prediction')\n",
    "plt.legend(loc=\"lower right\")\n",
    "plt.show()"
   ]
  },
  {
   "cell_type": "code",
   "execution_count": 51,
   "metadata": {
    "collapsed": false
   },
   "outputs": [
    {
     "data": {
      "text/html": [
       "<div>\n",
       "<table border=\"1\" class=\"dataframe\">\n",
       "  <thead>\n",
       "    <tr style=\"text-align: right;\">\n",
       "      <th></th>\n",
       "      <th>city</th>\n",
       "      <th>company</th>\n",
       "      <th>salary</th>\n",
       "      <th>summary</th>\n",
       "      <th>title</th>\n",
       "      <th>parsed_salary</th>\n",
       "      <th>annual_salary</th>\n",
       "      <th>above_median</th>\n",
       "      <th>mgr</th>\n",
       "    </tr>\n",
       "  </thead>\n",
       "  <tbody>\n",
       "    <tr>\n",
       "      <th>0</th>\n",
       "      <td>San+Francisco</td>\n",
       "      <td>MarkMonitor</td>\n",
       "      <td>$180,000 a year</td>\n",
       "      <td>Data skills (SQL, Hive, Pig). Applying machine...</td>\n",
       "      <td>Data Scientist</td>\n",
       "      <td>180000</td>\n",
       "      <td>180000</td>\n",
       "      <td>1</td>\n",
       "      <td>0</td>\n",
       "    </tr>\n",
       "    <tr>\n",
       "      <th>1</th>\n",
       "      <td>San+Francisco</td>\n",
       "      <td>Workbridge Associates</td>\n",
       "      <td>$130,000 - $180,000 a year</td>\n",
       "      <td>3+ years of industry experience in a data scie...</td>\n",
       "      <td>Senior Data Scientist</td>\n",
       "      <td>155000</td>\n",
       "      <td>155000</td>\n",
       "      <td>1</td>\n",
       "      <td>1</td>\n",
       "    </tr>\n",
       "    <tr>\n",
       "      <th>2</th>\n",
       "      <td>San+Francisco</td>\n",
       "      <td>Mines.io</td>\n",
       "      <td>$80,000 - $120,000 a year</td>\n",
       "      <td>We are looking for a data scientist/developer ...</td>\n",
       "      <td>Full-Stack Data Scientist</td>\n",
       "      <td>100000</td>\n",
       "      <td>100000</td>\n",
       "      <td>1</td>\n",
       "      <td>0</td>\n",
       "    </tr>\n",
       "    <tr>\n",
       "      <th>3</th>\n",
       "      <td>San+Francisco</td>\n",
       "      <td>Workbridge Associates</td>\n",
       "      <td>$150,000 - $180,000 a year</td>\n",
       "      <td>In this position you will share programming an...</td>\n",
       "      <td>Data Scientist</td>\n",
       "      <td>165000</td>\n",
       "      <td>165000</td>\n",
       "      <td>1</td>\n",
       "      <td>0</td>\n",
       "    </tr>\n",
       "    <tr>\n",
       "      <th>4</th>\n",
       "      <td>San+Francisco</td>\n",
       "      <td>Smith Hanley Associates</td>\n",
       "      <td>$140,000 a year</td>\n",
       "      <td>This person will recruit, build and lead a tea...</td>\n",
       "      <td>Data Scientist</td>\n",
       "      <td>140000</td>\n",
       "      <td>140000</td>\n",
       "      <td>1</td>\n",
       "      <td>0</td>\n",
       "    </tr>\n",
       "    <tr>\n",
       "      <th>5</th>\n",
       "      <td>San+Francisco</td>\n",
       "      <td>HSF Consulting</td>\n",
       "      <td>$300,000 a year</td>\n",
       "      <td>Teams included Data Services(including data en...</td>\n",
       "      <td>VP of Data Services</td>\n",
       "      <td>300000</td>\n",
       "      <td>300000</td>\n",
       "      <td>1</td>\n",
       "      <td>1</td>\n",
       "    </tr>\n",
       "    <tr>\n",
       "      <th>6</th>\n",
       "      <td>San+Francisco</td>\n",
       "      <td>All-In Analytics</td>\n",
       "      <td>$100,000 - $150,000 a year</td>\n",
       "      <td>Fraud Data Scientist. Seeking someone with ski...</td>\n",
       "      <td>Fraud Data Scientist</td>\n",
       "      <td>125000</td>\n",
       "      <td>125000</td>\n",
       "      <td>1</td>\n",
       "      <td>0</td>\n",
       "    </tr>\n",
       "    <tr>\n",
       "      <th>7</th>\n",
       "      <td>San+Francisco</td>\n",
       "      <td>Brilent</td>\n",
       "      <td>$130,000 a year</td>\n",
       "      <td>Perform large-scale data analysis, find intere...</td>\n",
       "      <td>Senior Data Scientist</td>\n",
       "      <td>130000</td>\n",
       "      <td>130000</td>\n",
       "      <td>1</td>\n",
       "      <td>1</td>\n",
       "    </tr>\n",
       "    <tr>\n",
       "      <th>8</th>\n",
       "      <td>San+Francisco</td>\n",
       "      <td>HSF Consulting</td>\n",
       "      <td>$160,000 a year</td>\n",
       "      <td>More data- they simply have more data than the...</td>\n",
       "      <td>Senior Data Scientist</td>\n",
       "      <td>160000</td>\n",
       "      <td>160000</td>\n",
       "      <td>1</td>\n",
       "      <td>1</td>\n",
       "    </tr>\n",
       "    <tr>\n",
       "      <th>9</th>\n",
       "      <td>San+Francisco</td>\n",
       "      <td>All-In Analytics</td>\n",
       "      <td>$100,000 - $150,000 a year</td>\n",
       "      <td>Fraud Data Scientist. Seeking someone with ski...</td>\n",
       "      <td>Fraud Data Scientist</td>\n",
       "      <td>125000</td>\n",
       "      <td>125000</td>\n",
       "      <td>1</td>\n",
       "      <td>0</td>\n",
       "    </tr>\n",
       "    <tr>\n",
       "      <th>10</th>\n",
       "      <td>San+Francisco</td>\n",
       "      <td>Jobspring Partners</td>\n",
       "      <td>$150,000 - $175,000 a year</td>\n",
       "      <td>Given the high volume of data collected by the...</td>\n",
       "      <td>Python Developer (Machine Learning)</td>\n",
       "      <td>162500</td>\n",
       "      <td>162500</td>\n",
       "      <td>1</td>\n",
       "      <td>0</td>\n",
       "    </tr>\n",
       "    <tr>\n",
       "      <th>11</th>\n",
       "      <td>San+Francisco</td>\n",
       "      <td>University of California Berkeley</td>\n",
       "      <td>$3,811 - $3,889 a month</td>\n",
       "      <td>Must be able to work in a greenhouse, manage d...</td>\n",
       "      <td>Staff Research Associate, PMB</td>\n",
       "      <td>3850</td>\n",
       "      <td>46200</td>\n",
       "      <td>0</td>\n",
       "      <td>0</td>\n",
       "    </tr>\n",
       "    <tr>\n",
       "      <th>12</th>\n",
       "      <td>San+Francisco</td>\n",
       "      <td>Workbridge Associates</td>\n",
       "      <td>$100,000 - $200,000 a year</td>\n",
       "      <td>You will collaborate with Product, Data Engine...</td>\n",
       "      <td>Chief Algorithm Developer (Signal Processing) ...</td>\n",
       "      <td>150000</td>\n",
       "      <td>150000</td>\n",
       "      <td>1</td>\n",
       "      <td>0</td>\n",
       "    </tr>\n",
       "    <tr>\n",
       "      <th>13</th>\n",
       "      <td>San+Francisco</td>\n",
       "      <td>HSF Consulting</td>\n",
       "      <td>$300,000 a year</td>\n",
       "      <td>Teams included Data Services(including data en...</td>\n",
       "      <td>VP of Data Services</td>\n",
       "      <td>300000</td>\n",
       "      <td>300000</td>\n",
       "      <td>1</td>\n",
       "      <td>1</td>\n",
       "    </tr>\n",
       "    <tr>\n",
       "      <th>14</th>\n",
       "      <td>San+Francisco</td>\n",
       "      <td>University of California Berkeley</td>\n",
       "      <td>$43,692 - $51,120 a year</td>\n",
       "      <td>Demonstrated experience with programming for b...</td>\n",
       "      <td>Post-Doctoral Scholar-Employee: Analysis of om...</td>\n",
       "      <td>47406</td>\n",
       "      <td>47406</td>\n",
       "      <td>0</td>\n",
       "      <td>0</td>\n",
       "    </tr>\n",
       "    <tr>\n",
       "      <th>15</th>\n",
       "      <td>San+Francisco</td>\n",
       "      <td>Workbridge Associates</td>\n",
       "      <td>$130,000 - $180,000 a year</td>\n",
       "      <td>This leading company has a job opening for Pri...</td>\n",
       "      <td>Principal Data Scientist</td>\n",
       "      <td>155000</td>\n",
       "      <td>155000</td>\n",
       "      <td>1</td>\n",
       "      <td>0</td>\n",
       "    </tr>\n",
       "    <tr>\n",
       "      <th>16</th>\n",
       "      <td>San+Francisco</td>\n",
       "      <td>Workbridge Associates</td>\n",
       "      <td>$100,000 - $200,000 a year</td>\n",
       "      <td>You will collaborate with Product, Data Engine...</td>\n",
       "      <td>Chief Algorithm Developer (Signal Processing) ...</td>\n",
       "      <td>150000</td>\n",
       "      <td>150000</td>\n",
       "      <td>1</td>\n",
       "      <td>0</td>\n",
       "    </tr>\n",
       "    <tr>\n",
       "      <th>17</th>\n",
       "      <td>San+Francisco</td>\n",
       "      <td>Workbridge Associates</td>\n",
       "      <td>$130,000 - $150,000 a year</td>\n",
       "      <td>2+ years of experience in Data Scientist, Quan...</td>\n",
       "      <td>Data Scientist (Econometrics)</td>\n",
       "      <td>140000</td>\n",
       "      <td>140000</td>\n",
       "      <td>1</td>\n",
       "      <td>0</td>\n",
       "    </tr>\n",
       "    <tr>\n",
       "      <th>18</th>\n",
       "      <td>San+Francisco</td>\n",
       "      <td>Workbridge Associates</td>\n",
       "      <td>$100,000 - $140,000 a year</td>\n",
       "      <td>Solid experience in data science. Established ...</td>\n",
       "      <td>Data Scientist (Statistics/Economics)</td>\n",
       "      <td>120000</td>\n",
       "      <td>120000</td>\n",
       "      <td>1</td>\n",
       "      <td>0</td>\n",
       "    </tr>\n",
       "    <tr>\n",
       "      <th>19</th>\n",
       "      <td>San+Francisco</td>\n",
       "      <td>Corporate Labs Technology</td>\n",
       "      <td>$110,000 - $180,000 a year</td>\n",
       "      <td>Machine Learning Developer Brisbane, CA Sign o...</td>\n",
       "      <td>Data Scientist (Machine Learning)</td>\n",
       "      <td>145000</td>\n",
       "      <td>145000</td>\n",
       "      <td>1</td>\n",
       "      <td>0</td>\n",
       "    </tr>\n",
       "    <tr>\n",
       "      <th>20</th>\n",
       "      <td>San+Francisco</td>\n",
       "      <td>Brilent</td>\n",
       "      <td>$150,000 a year</td>\n",
       "      <td>The Brilent team brings together deep experien...</td>\n",
       "      <td>Senior NLP Scientist/Engineer</td>\n",
       "      <td>150000</td>\n",
       "      <td>150000</td>\n",
       "      <td>1</td>\n",
       "      <td>1</td>\n",
       "    </tr>\n",
       "    <tr>\n",
       "      <th>21</th>\n",
       "      <td>San+Francisco</td>\n",
       "      <td>Workbridge Associates</td>\n",
       "      <td>$140,000 - $200,000 a year</td>\n",
       "      <td>The Senior Data Scientist position requires a ...</td>\n",
       "      <td>Senior Data Scientist (Autonomous Vehicle Rese...</td>\n",
       "      <td>170000</td>\n",
       "      <td>170000</td>\n",
       "      <td>1</td>\n",
       "      <td>1</td>\n",
       "    </tr>\n",
       "    <tr>\n",
       "      <th>22</th>\n",
       "      <td>San+Francisco</td>\n",
       "      <td>3coast</td>\n",
       "      <td>$80,000 - $200,000 a year</td>\n",
       "      <td>VP - Predictive Modeling / Data Scientist. Han...</td>\n",
       "      <td>VP - Predictive Modeling / Data Scientist</td>\n",
       "      <td>140000</td>\n",
       "      <td>140000</td>\n",
       "      <td>1</td>\n",
       "      <td>1</td>\n",
       "    </tr>\n",
       "    <tr>\n",
       "      <th>23</th>\n",
       "      <td>San+Francisco</td>\n",
       "      <td>University of California Berkeley</td>\n",
       "      <td>$67,500 - $81,600 a year</td>\n",
       "      <td>Ensures accuracy and completeness of data in m...</td>\n",
       "      <td>Database Administrator, GSE</td>\n",
       "      <td>74550</td>\n",
       "      <td>74550</td>\n",
       "      <td>0</td>\n",
       "      <td>0</td>\n",
       "    </tr>\n",
       "    <tr>\n",
       "      <th>24</th>\n",
       "      <td>San+Francisco</td>\n",
       "      <td>NextGen Jane, Inc.</td>\n",
       "      <td>$65,000 a year</td>\n",
       "      <td>Scientific Researcher – Next Gen Sequencing Sc...</td>\n",
       "      <td>Scientific Researcher</td>\n",
       "      <td>65000</td>\n",
       "      <td>65000</td>\n",
       "      <td>0</td>\n",
       "      <td>0</td>\n",
       "    </tr>\n",
       "    <tr>\n",
       "      <th>25</th>\n",
       "      <td>San+Francisco</td>\n",
       "      <td>Jobspring Partners</td>\n",
       "      <td>$180,000 - $275,000 a year</td>\n",
       "      <td>This is an opportunity to lead a team of talen...</td>\n",
       "      <td>Vice President Engineering (Big Data/ Machine ...</td>\n",
       "      <td>227500</td>\n",
       "      <td>227500</td>\n",
       "      <td>1</td>\n",
       "      <td>1</td>\n",
       "    </tr>\n",
       "    <tr>\n",
       "      <th>26</th>\n",
       "      <td>San+Francisco</td>\n",
       "      <td>Workbridge Associates</td>\n",
       "      <td>$130,000 - $150,000 a year</td>\n",
       "      <td>2+ years of experience in Data Scientist, Quan...</td>\n",
       "      <td>Data Scientist (Econometrics)</td>\n",
       "      <td>140000</td>\n",
       "      <td>140000</td>\n",
       "      <td>1</td>\n",
       "      <td>0</td>\n",
       "    </tr>\n",
       "    <tr>\n",
       "      <th>27</th>\n",
       "      <td>San+Francisco</td>\n",
       "      <td>Workbridge Associates</td>\n",
       "      <td>$100,000 - $140,000 a year</td>\n",
       "      <td>Solid experience in data science. Established ...</td>\n",
       "      <td>Data Scientist (Statistics/Economics)</td>\n",
       "      <td>120000</td>\n",
       "      <td>120000</td>\n",
       "      <td>1</td>\n",
       "      <td>0</td>\n",
       "    </tr>\n",
       "    <tr>\n",
       "      <th>28</th>\n",
       "      <td>San+Francisco</td>\n",
       "      <td>Workbridge Associates</td>\n",
       "      <td>$140,000 - $200,000 a year</td>\n",
       "      <td>The Senior Data Scientist position requires a ...</td>\n",
       "      <td>Senior Data Scientist (Autonomous Vehicle Rese...</td>\n",
       "      <td>170000</td>\n",
       "      <td>170000</td>\n",
       "      <td>1</td>\n",
       "      <td>1</td>\n",
       "    </tr>\n",
       "    <tr>\n",
       "      <th>29</th>\n",
       "      <td>San+Francisco</td>\n",
       "      <td>Talent Compliance Consulting Services</td>\n",
       "      <td>$100,000 a year</td>\n",
       "      <td>Strong data analysis skills including setting ...</td>\n",
       "      <td>Quality Control Scientist</td>\n",
       "      <td>100000</td>\n",
       "      <td>100000</td>\n",
       "      <td>1</td>\n",
       "      <td>0</td>\n",
       "    </tr>\n",
       "    <tr>\n",
       "      <th>...</th>\n",
       "      <td>...</td>\n",
       "      <td>...</td>\n",
       "      <td>...</td>\n",
       "      <td>...</td>\n",
       "      <td>...</td>\n",
       "      <td>...</td>\n",
       "      <td>...</td>\n",
       "      <td>...</td>\n",
       "      <td>...</td>\n",
       "    </tr>\n",
       "    <tr>\n",
       "      <th>4761</th>\n",
       "      <td>Chicago</td>\n",
       "      <td>Workbridge Associates</td>\n",
       "      <td>$110,000 - $150,000 a year</td>\n",
       "      <td>This agile team will create and develop new so...</td>\n",
       "      <td>Senior Java Computer Scientist</td>\n",
       "      <td>130000</td>\n",
       "      <td>130000</td>\n",
       "      <td>1</td>\n",
       "      <td>1</td>\n",
       "    </tr>\n",
       "    <tr>\n",
       "      <th>4762</th>\n",
       "      <td>Chicago</td>\n",
       "      <td>Clinical Management Consultants</td>\n",
       "      <td>$71,384 - $93,274 a year</td>\n",
       "      <td>Manager Health Information Management Data Ana...</td>\n",
       "      <td>Manager Health Information Management Data Ana...</td>\n",
       "      <td>82329</td>\n",
       "      <td>82329</td>\n",
       "      <td>0</td>\n",
       "      <td>1</td>\n",
       "    </tr>\n",
       "    <tr>\n",
       "      <th>4763</th>\n",
       "      <td>Chicago</td>\n",
       "      <td>Workbridge Associates</td>\n",
       "      <td>$170,000 a year</td>\n",
       "      <td>Big Data with Hadoop, Hive, Impala. Mid, Senio...</td>\n",
       "      <td>Director of Data Analytics</td>\n",
       "      <td>170000</td>\n",
       "      <td>170000</td>\n",
       "      <td>1</td>\n",
       "      <td>1</td>\n",
       "    </tr>\n",
       "    <tr>\n",
       "      <th>4764</th>\n",
       "      <td>Chicago</td>\n",
       "      <td>Clinical Management Consultants</td>\n",
       "      <td>$71,384 - $93,274 a year</td>\n",
       "      <td>Manager Health Information Management Data Ana...</td>\n",
       "      <td>Manager Health Information Management Data Ana...</td>\n",
       "      <td>82329</td>\n",
       "      <td>82329</td>\n",
       "      <td>0</td>\n",
       "      <td>1</td>\n",
       "    </tr>\n",
       "    <tr>\n",
       "      <th>4765</th>\n",
       "      <td>Chicago</td>\n",
       "      <td>Workbridge Associates</td>\n",
       "      <td>$170,000 a year</td>\n",
       "      <td>Big Data with Hadoop, Hive, Impala. Mid, Senio...</td>\n",
       "      <td>Director of Data Analytics</td>\n",
       "      <td>170000</td>\n",
       "      <td>170000</td>\n",
       "      <td>1</td>\n",
       "      <td>1</td>\n",
       "    </tr>\n",
       "    <tr>\n",
       "      <th>4766</th>\n",
       "      <td>Chicago</td>\n",
       "      <td>Workbridge Associates</td>\n",
       "      <td>$110,000 - $150,000 a year</td>\n",
       "      <td>This agile team will create and develop new so...</td>\n",
       "      <td>Senior Java Computer Scientist</td>\n",
       "      <td>130000</td>\n",
       "      <td>130000</td>\n",
       "      <td>1</td>\n",
       "      <td>1</td>\n",
       "    </tr>\n",
       "    <tr>\n",
       "      <th>4767</th>\n",
       "      <td>Chicago</td>\n",
       "      <td>Clinical Management Consultants</td>\n",
       "      <td>$71,384 - $93,274 a year</td>\n",
       "      <td>Manager Health Information Management Data Ana...</td>\n",
       "      <td>Manager Health Information Management Data Ana...</td>\n",
       "      <td>82329</td>\n",
       "      <td>82329</td>\n",
       "      <td>0</td>\n",
       "      <td>1</td>\n",
       "    </tr>\n",
       "    <tr>\n",
       "      <th>4768</th>\n",
       "      <td>Chicago</td>\n",
       "      <td>Workbridge Associates</td>\n",
       "      <td>$170,000 a year</td>\n",
       "      <td>Big Data with Hadoop, Hive, Impala. Mid, Senio...</td>\n",
       "      <td>Director of Data Analytics</td>\n",
       "      <td>170000</td>\n",
       "      <td>170000</td>\n",
       "      <td>1</td>\n",
       "      <td>1</td>\n",
       "    </tr>\n",
       "    <tr>\n",
       "      <th>4769</th>\n",
       "      <td>Chicago</td>\n",
       "      <td>Workbridge Associates</td>\n",
       "      <td>$110,000 - $150,000 a year</td>\n",
       "      <td>This agile team will create and develop new so...</td>\n",
       "      <td>Senior Java Computer Scientist</td>\n",
       "      <td>130000</td>\n",
       "      <td>130000</td>\n",
       "      <td>1</td>\n",
       "      <td>1</td>\n",
       "    </tr>\n",
       "    <tr>\n",
       "      <th>4770</th>\n",
       "      <td>Chicago</td>\n",
       "      <td>Clinical Management Consultants</td>\n",
       "      <td>$71,384 - $93,274 a year</td>\n",
       "      <td>Manager Health Information Management Data Ana...</td>\n",
       "      <td>Manager Health Information Management Data Ana...</td>\n",
       "      <td>82329</td>\n",
       "      <td>82329</td>\n",
       "      <td>0</td>\n",
       "      <td>1</td>\n",
       "    </tr>\n",
       "    <tr>\n",
       "      <th>4771</th>\n",
       "      <td>Chicago</td>\n",
       "      <td>Workbridge Associates</td>\n",
       "      <td>$170,000 a year</td>\n",
       "      <td>Big Data with Hadoop, Hive, Impala. Mid, Senio...</td>\n",
       "      <td>Director of Data Analytics</td>\n",
       "      <td>170000</td>\n",
       "      <td>170000</td>\n",
       "      <td>1</td>\n",
       "      <td>1</td>\n",
       "    </tr>\n",
       "    <tr>\n",
       "      <th>4772</th>\n",
       "      <td>Chicago</td>\n",
       "      <td>Workbridge Associates</td>\n",
       "      <td>$110,000 - $150,000 a year</td>\n",
       "      <td>This agile team will create and develop new so...</td>\n",
       "      <td>Senior Java Computer Scientist</td>\n",
       "      <td>130000</td>\n",
       "      <td>130000</td>\n",
       "      <td>1</td>\n",
       "      <td>1</td>\n",
       "    </tr>\n",
       "    <tr>\n",
       "      <th>4773</th>\n",
       "      <td>Chicago</td>\n",
       "      <td>Workbridge Associates</td>\n",
       "      <td>$110,000 - $150,000 a year</td>\n",
       "      <td>This agile team will create and develop new so...</td>\n",
       "      <td>Senior Java Computer Scientist</td>\n",
       "      <td>130000</td>\n",
       "      <td>130000</td>\n",
       "      <td>1</td>\n",
       "      <td>1</td>\n",
       "    </tr>\n",
       "    <tr>\n",
       "      <th>4774</th>\n",
       "      <td>Chicago</td>\n",
       "      <td>Clinical Management Consultants</td>\n",
       "      <td>$71,384 - $93,274 a year</td>\n",
       "      <td>Manager Health Information Management Data Ana...</td>\n",
       "      <td>Manager Health Information Management Data Ana...</td>\n",
       "      <td>82329</td>\n",
       "      <td>82329</td>\n",
       "      <td>0</td>\n",
       "      <td>1</td>\n",
       "    </tr>\n",
       "    <tr>\n",
       "      <th>4775</th>\n",
       "      <td>Chicago</td>\n",
       "      <td>Workbridge Associates</td>\n",
       "      <td>$170,000 a year</td>\n",
       "      <td>Big Data with Hadoop, Hive, Impala. Mid, Senio...</td>\n",
       "      <td>Director of Data Analytics</td>\n",
       "      <td>170000</td>\n",
       "      <td>170000</td>\n",
       "      <td>1</td>\n",
       "      <td>1</td>\n",
       "    </tr>\n",
       "    <tr>\n",
       "      <th>4776</th>\n",
       "      <td>Chicago</td>\n",
       "      <td>Workbridge Associates</td>\n",
       "      <td>$110,000 - $150,000 a year</td>\n",
       "      <td>This agile team will create and develop new so...</td>\n",
       "      <td>Senior Java Computer Scientist</td>\n",
       "      <td>130000</td>\n",
       "      <td>130000</td>\n",
       "      <td>1</td>\n",
       "      <td>1</td>\n",
       "    </tr>\n",
       "    <tr>\n",
       "      <th>4777</th>\n",
       "      <td>Chicago</td>\n",
       "      <td>Clinical Management Consultants</td>\n",
       "      <td>$71,384 - $93,274 a year</td>\n",
       "      <td>Manager Health Information Management Data Ana...</td>\n",
       "      <td>Manager Health Information Management Data Ana...</td>\n",
       "      <td>82329</td>\n",
       "      <td>82329</td>\n",
       "      <td>0</td>\n",
       "      <td>1</td>\n",
       "    </tr>\n",
       "    <tr>\n",
       "      <th>4778</th>\n",
       "      <td>Chicago</td>\n",
       "      <td>Workbridge Associates</td>\n",
       "      <td>$170,000 a year</td>\n",
       "      <td>Big Data with Hadoop, Hive, Impala. Mid, Senio...</td>\n",
       "      <td>Director of Data Analytics</td>\n",
       "      <td>170000</td>\n",
       "      <td>170000</td>\n",
       "      <td>1</td>\n",
       "      <td>1</td>\n",
       "    </tr>\n",
       "    <tr>\n",
       "      <th>4779</th>\n",
       "      <td>Chicago</td>\n",
       "      <td>Clinical Management Consultants</td>\n",
       "      <td>$71,384 - $93,274 a year</td>\n",
       "      <td>Manager Health Information Management Data Ana...</td>\n",
       "      <td>Manager Health Information Management Data Ana...</td>\n",
       "      <td>82329</td>\n",
       "      <td>82329</td>\n",
       "      <td>0</td>\n",
       "      <td>1</td>\n",
       "    </tr>\n",
       "    <tr>\n",
       "      <th>4780</th>\n",
       "      <td>Chicago</td>\n",
       "      <td>Workbridge Associates</td>\n",
       "      <td>$170,000 a year</td>\n",
       "      <td>Big Data with Hadoop, Hive, Impala. Mid, Senio...</td>\n",
       "      <td>Director of Data Analytics</td>\n",
       "      <td>170000</td>\n",
       "      <td>170000</td>\n",
       "      <td>1</td>\n",
       "      <td>1</td>\n",
       "    </tr>\n",
       "    <tr>\n",
       "      <th>4781</th>\n",
       "      <td>Chicago</td>\n",
       "      <td>Clinical Management Consultants</td>\n",
       "      <td>$71,384 - $93,274 a year</td>\n",
       "      <td>Manager Health Information Management Data Ana...</td>\n",
       "      <td>Manager Health Information Management Data Ana...</td>\n",
       "      <td>82329</td>\n",
       "      <td>82329</td>\n",
       "      <td>0</td>\n",
       "      <td>1</td>\n",
       "    </tr>\n",
       "    <tr>\n",
       "      <th>4782</th>\n",
       "      <td>Chicago</td>\n",
       "      <td>Workbridge Associates</td>\n",
       "      <td>$170,000 a year</td>\n",
       "      <td>Big Data with Hadoop, Hive, Impala. Mid, Senio...</td>\n",
       "      <td>Director of Data Analytics</td>\n",
       "      <td>170000</td>\n",
       "      <td>170000</td>\n",
       "      <td>1</td>\n",
       "      <td>1</td>\n",
       "    </tr>\n",
       "    <tr>\n",
       "      <th>4783</th>\n",
       "      <td>Chicago</td>\n",
       "      <td>Workbridge Associates</td>\n",
       "      <td>$110,000 - $150,000 a year</td>\n",
       "      <td>This agile team will create and develop new so...</td>\n",
       "      <td>Senior Java Computer Scientist</td>\n",
       "      <td>130000</td>\n",
       "      <td>130000</td>\n",
       "      <td>1</td>\n",
       "      <td>1</td>\n",
       "    </tr>\n",
       "    <tr>\n",
       "      <th>4784</th>\n",
       "      <td>Chicago</td>\n",
       "      <td>Clinical Management Consultants</td>\n",
       "      <td>$71,384 - $93,274 a year</td>\n",
       "      <td>Manager Health Information Management Data Ana...</td>\n",
       "      <td>Manager Health Information Management Data Ana...</td>\n",
       "      <td>82329</td>\n",
       "      <td>82329</td>\n",
       "      <td>0</td>\n",
       "      <td>1</td>\n",
       "    </tr>\n",
       "    <tr>\n",
       "      <th>4785</th>\n",
       "      <td>Chicago</td>\n",
       "      <td>Workbridge Associates</td>\n",
       "      <td>$170,000 a year</td>\n",
       "      <td>Big Data with Hadoop, Hive, Impala. Mid, Senio...</td>\n",
       "      <td>Director of Data Analytics</td>\n",
       "      <td>170000</td>\n",
       "      <td>170000</td>\n",
       "      <td>1</td>\n",
       "      <td>1</td>\n",
       "    </tr>\n",
       "    <tr>\n",
       "      <th>4786</th>\n",
       "      <td>Chicago</td>\n",
       "      <td>Workbridge Associates</td>\n",
       "      <td>$110,000 - $150,000 a year</td>\n",
       "      <td>This agile team will create and develop new so...</td>\n",
       "      <td>Senior Java Computer Scientist</td>\n",
       "      <td>130000</td>\n",
       "      <td>130000</td>\n",
       "      <td>1</td>\n",
       "      <td>1</td>\n",
       "    </tr>\n",
       "    <tr>\n",
       "      <th>4787</th>\n",
       "      <td>Chicago</td>\n",
       "      <td>Clinical Management Consultants</td>\n",
       "      <td>$71,384 - $93,274 a year</td>\n",
       "      <td>Manager Health Information Management Data Ana...</td>\n",
       "      <td>Manager Health Information Management Data Ana...</td>\n",
       "      <td>82329</td>\n",
       "      <td>82329</td>\n",
       "      <td>0</td>\n",
       "      <td>1</td>\n",
       "    </tr>\n",
       "    <tr>\n",
       "      <th>4788</th>\n",
       "      <td>Chicago</td>\n",
       "      <td>Workbridge Associates</td>\n",
       "      <td>$170,000 a year</td>\n",
       "      <td>Big Data with Hadoop, Hive, Impala. Mid, Senio...</td>\n",
       "      <td>Director of Data Analytics</td>\n",
       "      <td>170000</td>\n",
       "      <td>170000</td>\n",
       "      <td>1</td>\n",
       "      <td>1</td>\n",
       "    </tr>\n",
       "    <tr>\n",
       "      <th>4789</th>\n",
       "      <td>Chicago</td>\n",
       "      <td>Clinical Management Consultants</td>\n",
       "      <td>$71,384 - $93,274 a year</td>\n",
       "      <td>Manager Health Information Management Data Ana...</td>\n",
       "      <td>Manager Health Information Management Data Ana...</td>\n",
       "      <td>82329</td>\n",
       "      <td>82329</td>\n",
       "      <td>0</td>\n",
       "      <td>1</td>\n",
       "    </tr>\n",
       "    <tr>\n",
       "      <th>4790</th>\n",
       "      <td>Chicago</td>\n",
       "      <td>Workbridge Associates</td>\n",
       "      <td>$170,000 a year</td>\n",
       "      <td>Big Data with Hadoop, Hive, Impala. Mid, Senio...</td>\n",
       "      <td>Director of Data Analytics</td>\n",
       "      <td>170000</td>\n",
       "      <td>170000</td>\n",
       "      <td>1</td>\n",
       "      <td>1</td>\n",
       "    </tr>\n",
       "  </tbody>\n",
       "</table>\n",
       "<p>4791 rows × 9 columns</p>\n",
       "</div>"
      ],
      "text/plain": [
       "               city                                company  \\\n",
       "0     San+Francisco                            MarkMonitor   \n",
       "1     San+Francisco                  Workbridge Associates   \n",
       "2     San+Francisco                               Mines.io   \n",
       "3     San+Francisco                  Workbridge Associates   \n",
       "4     San+Francisco                Smith Hanley Associates   \n",
       "5     San+Francisco                         HSF Consulting   \n",
       "6     San+Francisco                       All-In Analytics   \n",
       "7     San+Francisco                                Brilent   \n",
       "8     San+Francisco                         HSF Consulting   \n",
       "9     San+Francisco                       All-In Analytics   \n",
       "10    San+Francisco                     Jobspring Partners   \n",
       "11    San+Francisco      University of California Berkeley   \n",
       "12    San+Francisco                  Workbridge Associates   \n",
       "13    San+Francisco                         HSF Consulting   \n",
       "14    San+Francisco      University of California Berkeley   \n",
       "15    San+Francisco                  Workbridge Associates   \n",
       "16    San+Francisco                  Workbridge Associates   \n",
       "17    San+Francisco                  Workbridge Associates   \n",
       "18    San+Francisco                  Workbridge Associates   \n",
       "19    San+Francisco              Corporate Labs Technology   \n",
       "20    San+Francisco                                Brilent   \n",
       "21    San+Francisco                  Workbridge Associates   \n",
       "22    San+Francisco                                 3coast   \n",
       "23    San+Francisco      University of California Berkeley   \n",
       "24    San+Francisco                     NextGen Jane, Inc.   \n",
       "25    San+Francisco                     Jobspring Partners   \n",
       "26    San+Francisco                  Workbridge Associates   \n",
       "27    San+Francisco                  Workbridge Associates   \n",
       "28    San+Francisco                  Workbridge Associates   \n",
       "29    San+Francisco  Talent Compliance Consulting Services   \n",
       "...             ...                                    ...   \n",
       "4761        Chicago                  Workbridge Associates   \n",
       "4762        Chicago        Clinical Management Consultants   \n",
       "4763        Chicago                  Workbridge Associates   \n",
       "4764        Chicago        Clinical Management Consultants   \n",
       "4765        Chicago                  Workbridge Associates   \n",
       "4766        Chicago                  Workbridge Associates   \n",
       "4767        Chicago        Clinical Management Consultants   \n",
       "4768        Chicago                  Workbridge Associates   \n",
       "4769        Chicago                  Workbridge Associates   \n",
       "4770        Chicago        Clinical Management Consultants   \n",
       "4771        Chicago                  Workbridge Associates   \n",
       "4772        Chicago                  Workbridge Associates   \n",
       "4773        Chicago                  Workbridge Associates   \n",
       "4774        Chicago        Clinical Management Consultants   \n",
       "4775        Chicago                  Workbridge Associates   \n",
       "4776        Chicago                  Workbridge Associates   \n",
       "4777        Chicago        Clinical Management Consultants   \n",
       "4778        Chicago                  Workbridge Associates   \n",
       "4779        Chicago        Clinical Management Consultants   \n",
       "4780        Chicago                  Workbridge Associates   \n",
       "4781        Chicago        Clinical Management Consultants   \n",
       "4782        Chicago                  Workbridge Associates   \n",
       "4783        Chicago                  Workbridge Associates   \n",
       "4784        Chicago        Clinical Management Consultants   \n",
       "4785        Chicago                  Workbridge Associates   \n",
       "4786        Chicago                  Workbridge Associates   \n",
       "4787        Chicago        Clinical Management Consultants   \n",
       "4788        Chicago                  Workbridge Associates   \n",
       "4789        Chicago        Clinical Management Consultants   \n",
       "4790        Chicago                  Workbridge Associates   \n",
       "\n",
       "                          salary  \\\n",
       "0                $180,000 a year   \n",
       "1     $130,000 - $180,000 a year   \n",
       "2      $80,000 - $120,000 a year   \n",
       "3     $150,000 - $180,000 a year   \n",
       "4                $140,000 a year   \n",
       "5                $300,000 a year   \n",
       "6     $100,000 - $150,000 a year   \n",
       "7                $130,000 a year   \n",
       "8                $160,000 a year   \n",
       "9     $100,000 - $150,000 a year   \n",
       "10    $150,000 - $175,000 a year   \n",
       "11       $3,811 - $3,889 a month   \n",
       "12    $100,000 - $200,000 a year   \n",
       "13               $300,000 a year   \n",
       "14      $43,692 - $51,120 a year   \n",
       "15    $130,000 - $180,000 a year   \n",
       "16    $100,000 - $200,000 a year   \n",
       "17    $130,000 - $150,000 a year   \n",
       "18    $100,000 - $140,000 a year   \n",
       "19    $110,000 - $180,000 a year   \n",
       "20               $150,000 a year   \n",
       "21    $140,000 - $200,000 a year   \n",
       "22     $80,000 - $200,000 a year   \n",
       "23      $67,500 - $81,600 a year   \n",
       "24                $65,000 a year   \n",
       "25    $180,000 - $275,000 a year   \n",
       "26    $130,000 - $150,000 a year   \n",
       "27    $100,000 - $140,000 a year   \n",
       "28    $140,000 - $200,000 a year   \n",
       "29               $100,000 a year   \n",
       "...                          ...   \n",
       "4761  $110,000 - $150,000 a year   \n",
       "4762    $71,384 - $93,274 a year   \n",
       "4763             $170,000 a year   \n",
       "4764    $71,384 - $93,274 a year   \n",
       "4765             $170,000 a year   \n",
       "4766  $110,000 - $150,000 a year   \n",
       "4767    $71,384 - $93,274 a year   \n",
       "4768             $170,000 a year   \n",
       "4769  $110,000 - $150,000 a year   \n",
       "4770    $71,384 - $93,274 a year   \n",
       "4771             $170,000 a year   \n",
       "4772  $110,000 - $150,000 a year   \n",
       "4773  $110,000 - $150,000 a year   \n",
       "4774    $71,384 - $93,274 a year   \n",
       "4775             $170,000 a year   \n",
       "4776  $110,000 - $150,000 a year   \n",
       "4777    $71,384 - $93,274 a year   \n",
       "4778             $170,000 a year   \n",
       "4779    $71,384 - $93,274 a year   \n",
       "4780             $170,000 a year   \n",
       "4781    $71,384 - $93,274 a year   \n",
       "4782             $170,000 a year   \n",
       "4783  $110,000 - $150,000 a year   \n",
       "4784    $71,384 - $93,274 a year   \n",
       "4785             $170,000 a year   \n",
       "4786  $110,000 - $150,000 a year   \n",
       "4787    $71,384 - $93,274 a year   \n",
       "4788             $170,000 a year   \n",
       "4789    $71,384 - $93,274 a year   \n",
       "4790             $170,000 a year   \n",
       "\n",
       "                                                summary  \\\n",
       "0     Data skills (SQL, Hive, Pig). Applying machine...   \n",
       "1     3+ years of industry experience in a data scie...   \n",
       "2     We are looking for a data scientist/developer ...   \n",
       "3     In this position you will share programming an...   \n",
       "4     This person will recruit, build and lead a tea...   \n",
       "5     Teams included Data Services(including data en...   \n",
       "6     Fraud Data Scientist. Seeking someone with ski...   \n",
       "7     Perform large-scale data analysis, find intere...   \n",
       "8     More data- they simply have more data than the...   \n",
       "9     Fraud Data Scientist. Seeking someone with ski...   \n",
       "10    Given the high volume of data collected by the...   \n",
       "11    Must be able to work in a greenhouse, manage d...   \n",
       "12    You will collaborate with Product, Data Engine...   \n",
       "13    Teams included Data Services(including data en...   \n",
       "14    Demonstrated experience with programming for b...   \n",
       "15    This leading company has a job opening for Pri...   \n",
       "16    You will collaborate with Product, Data Engine...   \n",
       "17    2+ years of experience in Data Scientist, Quan...   \n",
       "18    Solid experience in data science. Established ...   \n",
       "19    Machine Learning Developer Brisbane, CA Sign o...   \n",
       "20    The Brilent team brings together deep experien...   \n",
       "21    The Senior Data Scientist position requires a ...   \n",
       "22    VP - Predictive Modeling / Data Scientist. Han...   \n",
       "23    Ensures accuracy and completeness of data in m...   \n",
       "24    Scientific Researcher – Next Gen Sequencing Sc...   \n",
       "25    This is an opportunity to lead a team of talen...   \n",
       "26    2+ years of experience in Data Scientist, Quan...   \n",
       "27    Solid experience in data science. Established ...   \n",
       "28    The Senior Data Scientist position requires a ...   \n",
       "29    Strong data analysis skills including setting ...   \n",
       "...                                                 ...   \n",
       "4761  This agile team will create and develop new so...   \n",
       "4762  Manager Health Information Management Data Ana...   \n",
       "4763  Big Data with Hadoop, Hive, Impala. Mid, Senio...   \n",
       "4764  Manager Health Information Management Data Ana...   \n",
       "4765  Big Data with Hadoop, Hive, Impala. Mid, Senio...   \n",
       "4766  This agile team will create and develop new so...   \n",
       "4767  Manager Health Information Management Data Ana...   \n",
       "4768  Big Data with Hadoop, Hive, Impala. Mid, Senio...   \n",
       "4769  This agile team will create and develop new so...   \n",
       "4770  Manager Health Information Management Data Ana...   \n",
       "4771  Big Data with Hadoop, Hive, Impala. Mid, Senio...   \n",
       "4772  This agile team will create and develop new so...   \n",
       "4773  This agile team will create and develop new so...   \n",
       "4774  Manager Health Information Management Data Ana...   \n",
       "4775  Big Data with Hadoop, Hive, Impala. Mid, Senio...   \n",
       "4776  This agile team will create and develop new so...   \n",
       "4777  Manager Health Information Management Data Ana...   \n",
       "4778  Big Data with Hadoop, Hive, Impala. Mid, Senio...   \n",
       "4779  Manager Health Information Management Data Ana...   \n",
       "4780  Big Data with Hadoop, Hive, Impala. Mid, Senio...   \n",
       "4781  Manager Health Information Management Data Ana...   \n",
       "4782  Big Data with Hadoop, Hive, Impala. Mid, Senio...   \n",
       "4783  This agile team will create and develop new so...   \n",
       "4784  Manager Health Information Management Data Ana...   \n",
       "4785  Big Data with Hadoop, Hive, Impala. Mid, Senio...   \n",
       "4786  This agile team will create and develop new so...   \n",
       "4787  Manager Health Information Management Data Ana...   \n",
       "4788  Big Data with Hadoop, Hive, Impala. Mid, Senio...   \n",
       "4789  Manager Health Information Management Data Ana...   \n",
       "4790  Big Data with Hadoop, Hive, Impala. Mid, Senio...   \n",
       "\n",
       "                                                  title  parsed_salary  \\\n",
       "0                                        Data Scientist         180000   \n",
       "1                                 Senior Data Scientist         155000   \n",
       "2                             Full-Stack Data Scientist         100000   \n",
       "3                                        Data Scientist         165000   \n",
       "4                                        Data Scientist         140000   \n",
       "5                                   VP of Data Services         300000   \n",
       "6                                  Fraud Data Scientist         125000   \n",
       "7                                 Senior Data Scientist         130000   \n",
       "8                                 Senior Data Scientist         160000   \n",
       "9                                  Fraud Data Scientist         125000   \n",
       "10                  Python Developer (Machine Learning)         162500   \n",
       "11                        Staff Research Associate, PMB           3850   \n",
       "12    Chief Algorithm Developer (Signal Processing) ...         150000   \n",
       "13                                  VP of Data Services         300000   \n",
       "14    Post-Doctoral Scholar-Employee: Analysis of om...          47406   \n",
       "15                             Principal Data Scientist         155000   \n",
       "16    Chief Algorithm Developer (Signal Processing) ...         150000   \n",
       "17                        Data Scientist (Econometrics)         140000   \n",
       "18                Data Scientist (Statistics/Economics)         120000   \n",
       "19                    Data Scientist (Machine Learning)         145000   \n",
       "20                        Senior NLP Scientist/Engineer         150000   \n",
       "21    Senior Data Scientist (Autonomous Vehicle Rese...         170000   \n",
       "22            VP - Predictive Modeling / Data Scientist         140000   \n",
       "23                          Database Administrator, GSE          74550   \n",
       "24                                Scientific Researcher          65000   \n",
       "25    Vice President Engineering (Big Data/ Machine ...         227500   \n",
       "26                        Data Scientist (Econometrics)         140000   \n",
       "27                Data Scientist (Statistics/Economics)         120000   \n",
       "28    Senior Data Scientist (Autonomous Vehicle Rese...         170000   \n",
       "29                            Quality Control Scientist         100000   \n",
       "...                                                 ...            ...   \n",
       "4761                     Senior Java Computer Scientist         130000   \n",
       "4762  Manager Health Information Management Data Ana...          82329   \n",
       "4763                         Director of Data Analytics         170000   \n",
       "4764  Manager Health Information Management Data Ana...          82329   \n",
       "4765                         Director of Data Analytics         170000   \n",
       "4766                     Senior Java Computer Scientist         130000   \n",
       "4767  Manager Health Information Management Data Ana...          82329   \n",
       "4768                         Director of Data Analytics         170000   \n",
       "4769                     Senior Java Computer Scientist         130000   \n",
       "4770  Manager Health Information Management Data Ana...          82329   \n",
       "4771                         Director of Data Analytics         170000   \n",
       "4772                     Senior Java Computer Scientist         130000   \n",
       "4773                     Senior Java Computer Scientist         130000   \n",
       "4774  Manager Health Information Management Data Ana...          82329   \n",
       "4775                         Director of Data Analytics         170000   \n",
       "4776                     Senior Java Computer Scientist         130000   \n",
       "4777  Manager Health Information Management Data Ana...          82329   \n",
       "4778                         Director of Data Analytics         170000   \n",
       "4779  Manager Health Information Management Data Ana...          82329   \n",
       "4780                         Director of Data Analytics         170000   \n",
       "4781  Manager Health Information Management Data Ana...          82329   \n",
       "4782                         Director of Data Analytics         170000   \n",
       "4783                     Senior Java Computer Scientist         130000   \n",
       "4784  Manager Health Information Management Data Ana...          82329   \n",
       "4785                         Director of Data Analytics         170000   \n",
       "4786                     Senior Java Computer Scientist         130000   \n",
       "4787  Manager Health Information Management Data Ana...          82329   \n",
       "4788                         Director of Data Analytics         170000   \n",
       "4789  Manager Health Information Management Data Ana...          82329   \n",
       "4790                         Director of Data Analytics         170000   \n",
       "\n",
       "      annual_salary  above_median  mgr  \n",
       "0            180000             1    0  \n",
       "1            155000             1    1  \n",
       "2            100000             1    0  \n",
       "3            165000             1    0  \n",
       "4            140000             1    0  \n",
       "5            300000             1    1  \n",
       "6            125000             1    0  \n",
       "7            130000             1    1  \n",
       "8            160000             1    1  \n",
       "9            125000             1    0  \n",
       "10           162500             1    0  \n",
       "11            46200             0    0  \n",
       "12           150000             1    0  \n",
       "13           300000             1    1  \n",
       "14            47406             0    0  \n",
       "15           155000             1    0  \n",
       "16           150000             1    0  \n",
       "17           140000             1    0  \n",
       "18           120000             1    0  \n",
       "19           145000             1    0  \n",
       "20           150000             1    1  \n",
       "21           170000             1    1  \n",
       "22           140000             1    1  \n",
       "23            74550             0    0  \n",
       "24            65000             0    0  \n",
       "25           227500             1    1  \n",
       "26           140000             1    0  \n",
       "27           120000             1    0  \n",
       "28           170000             1    1  \n",
       "29           100000             1    0  \n",
       "...             ...           ...  ...  \n",
       "4761         130000             1    1  \n",
       "4762          82329             0    1  \n",
       "4763         170000             1    1  \n",
       "4764          82329             0    1  \n",
       "4765         170000             1    1  \n",
       "4766         130000             1    1  \n",
       "4767          82329             0    1  \n",
       "4768         170000             1    1  \n",
       "4769         130000             1    1  \n",
       "4770          82329             0    1  \n",
       "4771         170000             1    1  \n",
       "4772         130000             1    1  \n",
       "4773         130000             1    1  \n",
       "4774          82329             0    1  \n",
       "4775         170000             1    1  \n",
       "4776         130000             1    1  \n",
       "4777          82329             0    1  \n",
       "4778         170000             1    1  \n",
       "4779          82329             0    1  \n",
       "4780         170000             1    1  \n",
       "4781          82329             0    1  \n",
       "4782         170000             1    1  \n",
       "4783         130000             1    1  \n",
       "4784          82329             0    1  \n",
       "4785         170000             1    1  \n",
       "4786         130000             1    1  \n",
       "4787          82329             0    1  \n",
       "4788         170000             1    1  \n",
       "4789          82329             0    1  \n",
       "4790         170000             1    1  \n",
       "\n",
       "[4791 rows x 9 columns]"
      ]
     },
     "execution_count": 51,
     "metadata": {},
     "output_type": "execute_result"
    }
   ],
   "source": [
    "df"
   ]
  },
  {
   "cell_type": "markdown",
   "metadata": {
    "focus": false,
    "id": "8c22664b-92e4-4fc2-b7ac-fbac865845d3"
   },
   "source": [
    "#### Compare L1 and L2 regularization for this logistic regression model. What effect does this have on the coefficients learned?"
   ]
  },
  {
   "cell_type": "markdown",
   "metadata": {},
   "source": [
    "L1"
   ]
  },
  {
   "cell_type": "code",
   "execution_count": 52,
   "metadata": {
    "collapsed": false,
    "focus": false,
    "id": "172fd952-5012-4630-81f4-1206da6eb820"
   },
   "outputs": [
    {
     "name": "stdout",
     "output_type": "stream",
     "text": [
      "[[-0.76211158 -2.47658064  0.98000583  2.83563835  0.          4.90213708]]\n"
     ]
    }
   ],
   "source": [
    "logit_l1 = LogisticRegression(penalty = 'l1')\n",
    "logit_l1.fit(X_train, y_train)\n",
    "logit_l1 = logit_l1.coef_\n",
    "print logit_l1"
   ]
  },
  {
   "cell_type": "code",
   "execution_count": 53,
   "metadata": {
    "collapsed": false
   },
   "outputs": [
    {
     "name": "stdout",
     "output_type": "stream",
     "text": [
      "Array Difference [[-0.08026378  0.28791139  0.04893697 -0.31222356 -0.11419836 -0.30259541]]\n"
     ]
    }
   ],
   "source": [
    "print 'Array Difference', logit_reg - logit_l1"
   ]
  },
  {
   "cell_type": "markdown",
   "metadata": {},
   "source": [
    "L2 (Default)"
   ]
  },
  {
   "cell_type": "code",
   "execution_count": 54,
   "metadata": {
    "collapsed": false,
    "focus": false,
    "id": "56cc8854-d722-411d-a6c7-e86310710f67"
   },
   "outputs": [
    {
     "name": "stdout",
     "output_type": "stream",
     "text": [
      "[[-0.84237537 -2.18866925  1.0289428   2.52341479 -0.11419836  4.59954168]]\n"
     ]
    }
   ],
   "source": [
    "logit_l2 = LogisticRegression(penalty = 'l2')\n",
    "logit_l2.fit(X_train, y_train)\n",
    "logit_l2 = logit_l2.coef_\n",
    "print logit_l2"
   ]
  },
  {
   "cell_type": "code",
   "execution_count": 55,
   "metadata": {
    "collapsed": false
   },
   "outputs": [
    {
     "name": "stdout",
     "output_type": "stream",
     "text": [
      "[[-0.84237537 -2.18866925  1.0289428   2.52341479 -0.11419836  4.59954168]]\n"
     ]
    }
   ],
   "source": [
    "print logit.coef_"
   ]
  },
  {
   "cell_type": "markdown",
   "metadata": {
    "focus": false,
    "id": "fead9b5b-7316-405d-87fd-e144dff0cbeb"
   },
   "source": [
    "#### Continue to incorporate other text features from the title or summary that you believe will predict the salary and examine their coefficients"
   ]
  },
  {
   "cell_type": "markdown",
   "metadata": {},
   "source": [
    "Incorporating Python from description as a variable to model."
   ]
  },
  {
   "cell_type": "code",
   "execution_count": 56,
   "metadata": {
    "collapsed": false
   },
   "outputs": [],
   "source": [
    "temp_py = []\n",
    "for i in df['summary']:\n",
    "        if 'python' in i:\n",
    "            temp_py.append(1)\n",
    "        elif 'Python' in i:\n",
    "            temp_py.append(1)\n",
    "        else:\n",
    "            temp_py.append(0)\n",
    "# print temp_py\n",
    "df['python'] = temp_py"
   ]
  },
  {
   "cell_type": "code",
   "execution_count": 57,
   "metadata": {
    "collapsed": false
   },
   "outputs": [
    {
     "data": {
      "text/plain": [
       "399"
      ]
     },
     "execution_count": 57,
     "metadata": {},
     "output_type": "execute_result"
    }
   ],
   "source": [
    "df.python.sum()"
   ]
  },
  {
   "cell_type": "code",
   "execution_count": 58,
   "metadata": {
    "collapsed": true
   },
   "outputs": [],
   "source": [
    "formula = 'above_median ~ C(city) + python -1'\n",
    "y, X = patsy.dmatrices(formula, data=df)"
   ]
  },
  {
   "cell_type": "code",
   "execution_count": 59,
   "metadata": {
    "collapsed": false
   },
   "outputs": [
    {
     "name": "stdout",
     "output_type": "stream",
     "text": [
      "Optimization terminated successfully.\n",
      "         Current function value: 0.490549\n",
      "         Iterations 9\n"
     ]
    },
    {
     "data": {
      "text/html": [
       "<table class=\"simpletable\">\n",
       "<tr>\n",
       "       <td>Model:</td>             <td>Logit</td>      <td>Pseudo R-squared:</td>   <td>0.291</td>  \n",
       "</tr>\n",
       "<tr>\n",
       "        <td>Date:</td>       <td>2016-07-05 08:07</td>       <td>AIC:</td>        <td>4712.4438</td>\n",
       "</tr>\n",
       "<tr>\n",
       "  <td>No. Observations:</td>       <td>4791</td>             <td>BIC:</td>        <td>4751.2907</td>\n",
       "</tr>\n",
       "<tr>\n",
       "      <td>Df Model:</td>             <td>5</td>         <td>Log-Likelihood:</td>   <td>-2350.2</td> \n",
       "</tr>\n",
       "<tr>\n",
       "    <td>Df Residuals:</td>         <td>4785</td>           <td>LL-Null:</td>       <td>-3315.9</td> \n",
       "</tr>\n",
       "<tr>\n",
       "     <td>Converged:</td>          <td>1.0000</td>        <td>LLR p-value:</td>     <td>0.0000</td>  \n",
       "</tr>\n",
       "<tr>\n",
       "   <td>No. Iterations:</td>       <td>9.0000</td>           <td>Scale:</td>        <td>1.0000</td>  \n",
       "</tr>\n",
       "</table>\n",
       "<table class=\"simpletable\">\n",
       "<tr>\n",
       "             <td></td>             <th>Coef.</th>  <th>Std.Err.</th>     <th>z</th>     <th>P>|z|</th> <th>[0.025</th>  <th>0.975]</th> \n",
       "</tr>\n",
       "<tr>\n",
       "  <th>C(city)[Austin]</th>        <td>-1.0287</td>  <td>0.0438</td>  <td>-23.4601</td> <td>0.0000</td> <td>-1.1147</td> <td>-0.9428</td>\n",
       "</tr>\n",
       "<tr>\n",
       "  <th>C(city)[Chicago]</th>       <td>-0.0051</td>  <td>0.0715</td>   <td>-0.0717</td> <td>0.9428</td> <td>-0.1453</td> <td>0.1350</td> \n",
       "</tr>\n",
       "<tr>\n",
       "  <th>C(city)[New+York]</th>      <td>1.9175</td>   <td>0.1431</td>   <td>13.3985</td> <td>0.0000</td> <td>1.6370</td>  <td>2.1980</td> \n",
       "</tr>\n",
       "<tr>\n",
       "  <th>C(city)[San+Francisco]</th> <td>3.8995</td>   <td>0.3571</td>   <td>10.9194</td> <td>0.0000</td> <td>3.1995</td>  <td>4.5994</td> \n",
       "</tr>\n",
       "<tr>\n",
       "  <th>C(city)[Seattle]</th>       <td>-1.4435</td>  <td>0.2697</td>   <td>-5.3530</td> <td>0.0000</td> <td>-1.9720</td> <td>-0.9149</td>\n",
       "</tr>\n",
       "<tr>\n",
       "  <th>python</th>                 <td>5.2823</td>   <td>0.7125</td>   <td>7.4138</td>  <td>0.0000</td> <td>3.8858</td>  <td>6.6788</td> \n",
       "</tr>\n",
       "</table>"
      ],
      "text/plain": [
       "<class 'statsmodels.iolib.summary2.Summary'>\n",
       "\"\"\"\n",
       "                            Results: Logit\n",
       "=======================================================================\n",
       "Model:               Logit               Pseudo R-squared:    0.291    \n",
       "Date:                2016-07-05 08:07    AIC:                 4712.4438\n",
       "No. Observations:    4791                BIC:                 4751.2907\n",
       "Df Model:            5                   Log-Likelihood:      -2350.2  \n",
       "Df Residuals:        4785                LL-Null:             -3315.9  \n",
       "Converged:           1.0000              LLR p-value:         0.0000   \n",
       "No. Iterations:      9.0000              Scale:               1.0000   \n",
       "-----------------------------------------------------------------------\n",
       "                        Coef.  Std.Err.    z     P>|z|   [0.025  0.975]\n",
       "-----------------------------------------------------------------------\n",
       "C(city)[Austin]        -1.0287   0.0438 -23.4601 0.0000 -1.1147 -0.9428\n",
       "C(city)[Chicago]       -0.0051   0.0715  -0.0717 0.9428 -0.1453  0.1350\n",
       "C(city)[New+York]       1.9175   0.1431  13.3985 0.0000  1.6370  2.1980\n",
       "C(city)[San+Francisco]  3.8995   0.3571  10.9194 0.0000  3.1995  4.5994\n",
       "C(city)[Seattle]       -1.4435   0.2697  -5.3530 0.0000 -1.9720 -0.9149\n",
       "python                  5.2823   0.7125   7.4138 0.0000  3.8858  6.6788\n",
       "=======================================================================\n",
       "\n",
       "\"\"\""
      ]
     },
     "execution_count": 59,
     "metadata": {},
     "output_type": "execute_result"
    }
   ],
   "source": [
    "logit = sm.Logit(np.ravel(y), X) # Logit instead of OLS\n",
    "\n",
    "result = logit.fit()\n",
    "result.summary2()"
   ]
  },
  {
   "cell_type": "markdown",
   "metadata": {},
   "source": [
    "There is an increase in prediction by adding python by .059, although this is still below the baseline. This still does not serve as a good prediction for salary above the median. Adding manager and python, to see if there is any additional change. "
   ]
  },
  {
   "cell_type": "code",
   "execution_count": 60,
   "metadata": {
    "collapsed": true
   },
   "outputs": [],
   "source": [
    "formula = 'above_median ~ C(city) + python + mgr'\n",
    "y, X = patsy.dmatrices(formula, data=df)"
   ]
  },
  {
   "cell_type": "code",
   "execution_count": 61,
   "metadata": {
    "collapsed": false
   },
   "outputs": [
    {
     "name": "stdout",
     "output_type": "stream",
     "text": [
      "Optimization terminated successfully.\n",
      "         Current function value: 0.350997\n",
      "         Iterations 9\n"
     ]
    },
    {
     "data": {
      "text/html": [
       "<table class=\"simpletable\">\n",
       "<tr>\n",
       "       <td>Model:</td>             <td>Logit</td>      <td>Pseudo R-squared:</td>   <td>0.493</td>  \n",
       "</tr>\n",
       "<tr>\n",
       "        <td>Date:</td>       <td>2016-07-05 08:07</td>       <td>AIC:</td>        <td>3377.2512</td>\n",
       "</tr>\n",
       "<tr>\n",
       "  <td>No. Observations:</td>       <td>4791</td>             <td>BIC:</td>        <td>3422.5727</td>\n",
       "</tr>\n",
       "<tr>\n",
       "      <td>Df Model:</td>             <td>6</td>         <td>Log-Likelihood:</td>   <td>-1681.6</td> \n",
       "</tr>\n",
       "<tr>\n",
       "    <td>Df Residuals:</td>         <td>4784</td>           <td>LL-Null:</td>       <td>-3315.9</td> \n",
       "</tr>\n",
       "<tr>\n",
       "     <td>Converged:</td>          <td>1.0000</td>        <td>LLR p-value:</td>     <td>0.0000</td>  \n",
       "</tr>\n",
       "<tr>\n",
       "   <td>No. Iterations:</td>       <td>9.0000</td>           <td>Scale:</td>        <td>1.0000</td>  \n",
       "</tr>\n",
       "</table>\n",
       "<table class=\"simpletable\">\n",
       "<tr>\n",
       "              <td></td>              <th>Coef.</th>  <th>Std.Err.</th>     <th>z</th>     <th>P>|z|</th> <th>[0.025</th>  <th>0.975]</th> \n",
       "</tr>\n",
       "<tr>\n",
       "  <th>Intercept</th>                <td>-1.7902</td>  <td>0.0593</td>  <td>-30.1672</td> <td>0.0000</td> <td>-1.9066</td> <td>-1.6739</td>\n",
       "</tr>\n",
       "<tr>\n",
       "  <th>C(city)[T.Chicago]</th>       <td>-3.0697</td>  <td>0.2292</td>  <td>-13.3914</td> <td>0.0000</td> <td>-3.5190</td> <td>-2.6204</td>\n",
       "</tr>\n",
       "<tr>\n",
       "  <th>C(city)[T.New+York]</th>      <td>1.2356</td>   <td>0.2175</td>   <td>5.6803</td>  <td>0.0000</td> <td>0.8092</td>  <td>1.6619</td> \n",
       "</tr>\n",
       "<tr>\n",
       "  <th>C(city)[T.San+Francisco]</th> <td>2.9912</td>   <td>0.4017</td>   <td>7.4456</td>  <td>0.0000</td> <td>2.2038</td>  <td>3.7786</td> \n",
       "</tr>\n",
       "<tr>\n",
       "  <th>C(city)[T.Seattle]</th>       <td>-0.0605</td>  <td>0.3216</td>   <td>-0.1880</td> <td>0.8509</td> <td>-0.6908</td> <td>0.5699</td> \n",
       "</tr>\n",
       "<tr>\n",
       "  <th>python</th>                   <td>5.6181</td>   <td>0.7525</td>   <td>7.4662</td>  <td>0.0000</td> <td>4.1433</td>  <td>7.0929</td> \n",
       "</tr>\n",
       "<tr>\n",
       "  <th>mgr</th>                      <td>4.9037</td>   <td>0.2218</td>   <td>22.1042</td> <td>0.0000</td> <td>4.4689</td>  <td>5.3385</td> \n",
       "</tr>\n",
       "</table>"
      ],
      "text/plain": [
       "<class 'statsmodels.iolib.summary2.Summary'>\n",
       "\"\"\"\n",
       "                             Results: Logit\n",
       "=========================================================================\n",
       "Model:                 Logit               Pseudo R-squared:    0.493    \n",
       "Date:                  2016-07-05 08:07    AIC:                 3377.2512\n",
       "No. Observations:      4791                BIC:                 3422.5727\n",
       "Df Model:              6                   Log-Likelihood:      -1681.6  \n",
       "Df Residuals:          4784                LL-Null:             -3315.9  \n",
       "Converged:             1.0000              LLR p-value:         0.0000   \n",
       "No. Iterations:        9.0000              Scale:               1.0000   \n",
       "-------------------------------------------------------------------------\n",
       "                          Coef.  Std.Err.    z     P>|z|   [0.025  0.975]\n",
       "-------------------------------------------------------------------------\n",
       "Intercept                -1.7902   0.0593 -30.1672 0.0000 -1.9066 -1.6739\n",
       "C(city)[T.Chicago]       -3.0697   0.2292 -13.3914 0.0000 -3.5190 -2.6204\n",
       "C(city)[T.New+York]       1.2356   0.2175   5.6803 0.0000  0.8092  1.6619\n",
       "C(city)[T.San+Francisco]  2.9912   0.4017   7.4456 0.0000  2.2038  3.7786\n",
       "C(city)[T.Seattle]       -0.0605   0.3216  -0.1880 0.8509 -0.6908  0.5699\n",
       "python                    5.6181   0.7525   7.4662 0.0000  4.1433  7.0929\n",
       "mgr                       4.9037   0.2218  22.1042 0.0000  4.4689  5.3385\n",
       "=========================================================================\n",
       "\n",
       "\"\"\""
      ]
     },
     "execution_count": 61,
     "metadata": {},
     "output_type": "execute_result"
    }
   ],
   "source": [
    "logit = sm.Logit(np.ravel(y), X) # Logit instead of OLS\n",
    "\n",
    "result = logit.fit()\n",
    "result.summary2()"
   ]
  },
  {
   "cell_type": "markdown",
   "metadata": {},
   "source": [
    "There is a change in effectiveness to predict salaries above the median, however the pseudo R-Ssquared score is still below the baseline, so this is still not a viable method for predicting salaries. Now to try with sklearn."
   ]
  },
  {
   "cell_type": "code",
   "execution_count": 62,
   "metadata": {
    "collapsed": false
   },
   "outputs": [
    {
     "data": {
      "text/plain": [
       "0.83375474083438683"
      ]
     },
     "execution_count": 62,
     "metadata": {},
     "output_type": "execute_result"
    }
   ],
   "source": [
    "formula = 'above_median ~ C(city) + python + mgr'\n",
    "y, X = patsy.dmatrices(formula, data=df)\n",
    "X_train, X_test, y_train, y_test = train_test_split(X, np.ravel(y), test_size=0.33)\n",
    "logit = LogisticRegression()\n",
    "logit.fit(X_train, y_train)\n",
    "logit.score(X_test, y_test)"
   ]
  },
  {
   "cell_type": "markdown",
   "metadata": {},
   "source": [
    "*Very slight decrease, the score without python: 0.838029638906, vs. the score by adding python: 0.83754740834386854*\n",
    "\n",
    "Graph of the ROC curve below to show sensitivity."
   ]
  },
  {
   "cell_type": "code",
   "execution_count": 63,
   "metadata": {
    "collapsed": false
   },
   "outputs": [
    {
     "data": {
      "image/png": "[encoded data removed]",
      "text/plain": [
       "<matplotlib.figure.Figure at 0x118c35450>"
      ]
     },
     "metadata": {},
     "output_type": "display_data"
    }
   ],
   "source": [
    "y_score = logit.decision_function(X_test)\n",
    "\n",
    "FPR = dict()\n",
    "TPR = dict()\n",
    "ROC_AUC = dict()\n",
    "\n",
    "# For class 1, find the area under the curve\n",
    "FPR[1], TPR[1], _ = roc_curve(y_test, y_score)\n",
    "ROC_AUC[1] = auc(FPR[1], TPR[1])\n",
    "\n",
    "# Plot of a ROC curve for class 1\n",
    "plt.figure(figsize=[11,9])\n",
    "plt.plot(FPR[1], TPR[1], label='ROC curve (area = %0.2f)' % ROC_AUC[1], linewidth=4)\n",
    "plt.plot([0, 1], [0, 1], 'k--', linewidth=4)\n",
    "plt.xlim([0.0, 1.0])\n",
    "plt.ylim([0.0, 1.05])\n",
    "plt.xlabel('False Positive Rate')\n",
    "plt.ylabel('True Positive Rate')\n",
    "plt.title('Receiver operating characteristic for above median salary prediction')\n",
    "plt.legend(loc=\"lower right\")\n",
    "plt.show()"
   ]
  },
  {
   "cell_type": "code",
   "execution_count": 64,
   "metadata": {
    "collapsed": false
   },
   "outputs": [],
   "source": [
    "y_pred = logit.predict(X_test)\n",
    "y_true = y_test"
   ]
  },
  {
   "cell_type": "code",
   "execution_count": 65,
   "metadata": {
    "collapsed": false
   },
   "outputs": [
    {
     "data": {
      "text/plain": [
       "array([[822,   7],\n",
       "       [256, 497]])"
      ]
     },
     "execution_count": 65,
     "metadata": {},
     "output_type": "execute_result"
    }
   ],
   "source": [
    "from sklearn.metrics import confusion_matrix\n",
    "confusion_matrix(y_true, y_pred, labels=None)"
   ]
  },
  {
   "cell_type": "markdown",
   "metadata": {},
   "source": [
    "From the confusion matrix above, the False Positive Rate (FPR) of 141 is greater than the False Negative Rate (FNR) of 11, this means that there are thirteen times as many Type 1 errors than there are Type 2 errors. This is represented by the very sharp incline of the blue line along the y-axis, which represents the Type 1 errors and the slow increase to the top right corner, which represents the Type 2 errors.  "
   ]
  },
  {
   "cell_type": "markdown",
   "metadata": {
    "focus": false,
    "id": "3be94357-e551-4094-b784-2df039216d33"
   },
   "source": [
    "### BONUS "
   ]
  },
  {
   "cell_type": "markdown",
   "metadata": {
    "focus": false,
    "id": "db045898-1d2d-4af2-8e79-437c4c7546b4"
   },
   "source": [
    "#### Bonus: Use Count Vectorizer from scikit-learn to create features from the text summaries. \n",
    "- Examine using count or binary features in the model\n",
    "- Re-evaluate the logistic regression model using these. Does this improve the model performance? \n",
    "- What text features are the most valuable? "
   ]
  },
  {
   "cell_type": "code",
   "execution_count": 66,
   "metadata": {
    "collapsed": false,
    "focus": false,
    "id": "4239e458-28bd-4675-8db3-c1d9c02b9854"
   },
   "outputs": [],
   "source": [
    "## YOUR CODE HERE"
   ]
  },
  {
   "cell_type": "code",
   "execution_count": 67,
   "metadata": {
    "collapsed": false,
    "focus": false,
    "id": "fec80936-37bc-4922-89bd-b5d615566c9c"
   },
   "outputs": [],
   "source": [
    "## YOUR CODE HERE"
   ]
  },
  {
   "cell_type": "markdown",
   "metadata": {
    "focus": false,
    "id": "d42b9fd8-39d5-416a-b40b-7410e6396c11"
   },
   "source": [
    "#### Re-test L1 and L2 regularization. You can use LogisticRegressionCV to find the optimal reguarlization parameters. \n",
    "- Re-test what text features are most valuable.  \n",
    "- How do L1 and L2 change the coefficients?"
   ]
  },
  {
   "cell_type": "code",
   "execution_count": 68,
   "metadata": {
    "collapsed": false,
    "focus": false,
    "id": "7570e237-c8cc-4e26-b569-7aee10627e79"
   },
   "outputs": [],
   "source": [
    "## YOUR CODE HERE"
   ]
  },
  {
   "cell_type": "code",
   "execution_count": null,
   "metadata": {
    "collapsed": true,
    "focus": false,
    "id": "e3a0c83d-e3b8-4bed-b864-7e795b34a3d4"
   },
   "outputs": [],
   "source": []
  }
 ],
 "metadata": {
  "kernelspec": {
   "display_name": "Python 2",
   "language": "python",
   "name": "python2"
  },
  "language_info": {
   "codemirror_mode": {
    "name": "ipython",
    "version": 2
   },
   "file_extension": ".py",
   "mimetype": "text/x-python",
   "name": "python",
   "nbconvert_exporter": "python",
   "pygments_lexer": "ipython2",
   "version": "2.7.11"
  }
 },
 "nbformat": 4,
 "nbformat_minor": 0
}
